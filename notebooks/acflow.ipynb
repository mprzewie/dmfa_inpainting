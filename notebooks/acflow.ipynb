{
 "cells": [
  {
   "cell_type": "code",
   "execution_count": null,
   "metadata": {},
   "outputs": [],
   "source": [
    "%load_ext autoreload\n",
    "%autoreload 2/"
   ]
  },
  {
   "cell_type": "code",
   "execution_count": null,
   "metadata": {},
   "outputs": [],
   "source": [
    "import os\n",
    "# os.environ[\"CUDA_VISIBLE_DEVICES\"]=\"-1\"    \n",
    "\n",
    "import sys\n",
    "sys.path.append(\"../..\")\n",
    "sys.path.append(\"..\")"
   ]
  },
  {
   "cell_type": "code",
   "execution_count": null,
   "metadata": {},
   "outputs": [],
   "source": [
    "# import tensorflow as tf\n",
    "# tf.enable_eager_execution()"
   ]
  },
  {
   "cell_type": "code",
   "execution_count": null,
   "metadata": {},
   "outputs": [],
   "source": [
    "import numpy as np\n",
    "import matplotlib.pyplot as plt\n",
    "\n",
    "import torch\n",
    "from torch import nn\n",
    "from torch import distributions as dist\n",
    "from torch.utils.data import DataLoader, TensorDataset\n",
    "from torch import optim\n",
    "\n",
    "from torchvision.datasets import MNIST, FashionMNIST\n",
    "from torchvision import transforms as tr\n",
    "from torchvision.models import vgg11_bn\n",
    "# from sklearn import datasets\n",
    "# from sklearn.model_selection import train_test_split\n",
    "# from sklearn.metrics import accuracy_score\n",
    "from tqdm import tqdm\n",
    "from sklearn.neural_network import MLPClassifier\n",
    "from sklearn.metrics import accuracy_score\n",
    "from pprint import pprint\n",
    "\n",
    "from pathlib import Path\n",
    "import pickle\n",
    "from torch import nn\n",
    "from inpainting.datasets.mnist import train_val_datasets\n",
    "from inpainting.visualizations.digits import digit_with_mask as vis_digit_mask\n",
    "from inpainting.visualizations import visualizations_utils as vis\n",
    "from inpainting.training import train_inpainter\n",
    "from inpainting.utils import classifier_experiment, inpainted, predictions_for_entire_loader\n",
    "from inpainting.datasets import mask_coding as mc\n",
    "from inpainting.datasets.utils import RandomRectangleMaskConfig\n",
    "from inpainting.custom_layers import Reshape\n",
    "from inpainting.losses import nll_masked_batch_loss, nll_masked_batch_loss_components, r2_masked_batch_loss, nll_masked_batch_loss_same_size_masks\n",
    "\n",
    "# from fancyimpute import NuclearNormMinimization, SoftImpute, BiScaler, MatrixFactorization, IterativeSVD, SoftImpute\n",
    "# from sklearn.impute import KNNImputer, SimpleImputer, IterativeImputer\n",
    "import tensorflow as tf"
   ]
  },
  {
   "cell_type": "code",
   "execution_count": null,
   "metadata": {},
   "outputs": [],
   "source": [
    "import ACFlow\n",
    "from ACFlow.utils.hparams import HParams\n",
    "from ACFlow.models import get_model\n",
    "from ACFlow.datasets import get_dataset\n",
    "from ACFlow.datasets.dummy import Dataset"
   ]
  },
  {
   "cell_type": "code",
   "execution_count": null,
   "metadata": {},
   "outputs": [],
   "source": [
    "acflow_params = HParams(\"../../ACFlow/exp/mnist/rnvp/params.json\")\n",
    "acflow_params.dict"
   ]
  },
  {
   "cell_type": "code",
   "execution_count": null,
   "metadata": {},
   "outputs": [],
   "source": [
    "\n",
    "trainset = Dataset(acflow_params)\n",
    "validset =  Dataset(acflow_params)\n",
    "testset = Dataset(acflow_params)\n",
    "\n",
    "model = get_model(acflow_params)\n",
    "model.build(trainset, validset, testset)\n"
   ]
  },
  {
   "cell_type": "code",
   "execution_count": null,
   "metadata": {},
   "outputs": [],
   "source": [
    "saver = tf.train.Saver(tf.global_variables(), max_to_keep=1)\n",
    "config = tf.ConfigProto()\n",
    "config.log_device_placement = True\n",
    "config.allow_soft_placement = True\n",
    "config.gpu_options.allow_growth = True\n",
    "sess = tf.Session(config=config)\n",
    "\n",
    "weights_dir = os.path.join(\"../../ACFlow\", acflow_params.exp_dir, 'weights')\n",
    "# logging.info(f'Restoring parameters from {weights_dir}')\n",
    "restore_from = tf.train.latest_checkpoint(weights_dir)\n",
    "saver.restore(sess, restore_from)\n"
   ]
  },
  {
   "cell_type": "code",
   "execution_count": null,
   "metadata": {},
   "outputs": [],
   "source": [
    "tf.saved_model.simple_save(\n",
    "    sess,\n",
    "    \"acflow\",\n",
    "    {},\n",
    "    outputs,\n",
    "    legacy_init_op=None\n",
    ")"
   ]
  },
  {
   "cell_type": "code",
   "execution_count": null,
   "metadata": {},
   "outputs": [],
   "source": [
    "class ACFlowModule(tf.Module):\n",
    "    \n",
    "    def __init__(self, model):\n",
    "        self.model = model\n",
    "    \n",
    "    @tf.function\n",
    "    def inverse_zero(self, x, j):\n",
    "        return self.model.inverse_zero(x, j, False)\n",
    "        "
   ]
  },
  {
   "cell_type": "code",
   "execution_count": null,
   "metadata": {},
   "outputs": [],
   "source": [
    "# testset.initialize(sess)"
   ]
  },
  {
   "cell_type": "code",
   "execution_count": null,
   "metadata": {},
   "outputs": [],
   "source": [
    "ds_train, ds_val = ds_train, ds_val = train_val_datasets(\n",
    "    Path.home() / \"uj/.data/\",\n",
    "    mask_configs=[\n",
    "        RandomRectangleMaskConfig(mc.UNKNOWN_LOSS, 14, 14, 0,0),\n",
    "    ],\n",
    "    ds_type=MNIST,\n",
    "    resize_size=(28,28),\n",
    ")\n"
   ]
  },
  {
   "cell_type": "code",
   "execution_count": null,
   "metadata": {},
   "outputs": [],
   "source": [
    "X = []\n",
    "J = []\n",
    "\n",
    "for i, ((x, j), y) in enumerate(ds_val):\n",
    "    X.append(x)\n",
    "    J.append(j)\n",
    "    \n",
    "    if i ==63:\n",
    "        break\n",
    "    \n",
    "X = torch.stack(X)\n",
    "J = torch.stack(J)\n",
    "\n",
    "X.shape, J.shape"
   ]
  },
  {
   "cell_type": "code",
   "execution_count": null,
   "metadata": {},
   "outputs": [],
   "source": [
    "X_r, J_r = [torch.nn.functional.interpolate(t, (32, 32)).numpy() for t in [X, J]]\n",
    "\n",
    "X_r.shape, J_r.shape"
   ]
  },
  {
   "cell_type": "code",
   "execution_count": null,
   "metadata": {},
   "outputs": [],
   "source": [
    "X_t, J_t = [\n",
    "        tf.constant(t.transpose(0, 2, 3, 1).astype(\"uint8\")) # BCHW -> BHWC\n",
    "    for t in [X_r*255, J_r]\n",
    "]\n",
    "\n",
    "print(X_t, J_t)\n",
    "\n",
    "with tf.variable_scope('model', reuse=tf.AUTO_REUSE):\n",
    "    inpainted_custom = model.inverse_zero(X_t, J_t, False)\n",
    "\n",
    "inp_np, X_np, J_np = sess.run(\n",
    "        [inpainted_custom, X_t, J_t]\n",
    ")\n",
    "    \n"
   ]
  },
  {
   "cell_type": "code",
   "execution_count": null,
   "metadata": {},
   "outputs": [],
   "source": [
    "for i, (x, j, inp) in enumerate(zip(X_np, J_np, inp_np)):\n",
    "    fig, ax = plt.subplots(1, 4)\n",
    "    \n",
    "    ax[0].imshow(x.squeeze())\n",
    "    ax[1].imshow(j.squeeze())\n",
    "    ax[2].imshow((x*j).squeeze())\n",
    "    ax[3].imshow(inp.squeeze())\n",
    "    plt.show()\n",
    "    \n",
    "    if i>=10:\n",
    "        break"
   ]
  },
  {
   "cell_type": "code",
   "execution_count": null,
   "metadata": {},
   "outputs": [],
   "source": [
    "testset.x, testset.m"
   ]
  },
  {
   "cell_type": "code",
   "execution_count": null,
   "metadata": {},
   "outputs": [],
   "source": [
    "with tf.variable_scope('model', reuse=tf.AUTO_REUSE):\n",
    "    inpainted = model.inverse_zero(testset.x, testset.m, False)\n",
    "\n",
    "sam, gt, mask = sess.run(\n",
    "        [inpainted, testset.x, testset.m])"
   ]
  },
  {
   "cell_type": "code",
   "execution_count": null,
   "metadata": {},
   "outputs": [],
   "source": [
    "for i, (g, m, s) in enumerate(zip(gt, mask, sam)):\n",
    "    fig, ax = plt.subplots(1, 4)\n",
    "    \n",
    "    ax[0].imshow(g.squeeze())\n",
    "    ax[1].imshow(m.squeeze())\n",
    "    ax[2].imshow((g*m).squeeze())\n",
    "    ax[3].imshow(s.squeeze())\n",
    "    plt.show()\n",
    "    \n",
    "    if i>= 10:\n",
    "        break"
   ]
  },
  {
   "cell_type": "code",
   "execution_count": null,
   "metadata": {},
   "outputs": [],
   "source": []
  }
 ],
 "metadata": {
  "kernelspec": {
   "display_name": "Python (acflow)",
   "language": "python",
   "name": "acflow"
  },
  "language_info": {
   "codemirror_mode": {
    "name": "ipython",
    "version": 3
   },
   "file_extension": ".py",
   "mimetype": "text/x-python",
   "name": "python",
   "nbconvert_exporter": "python",
   "pygments_lexer": "ipython3",
   "version": "3.6.13"
  }
 },
 "nbformat": 4,
 "nbformat_minor": 4
}
