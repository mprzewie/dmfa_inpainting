{
 "cells": [
  {
   "cell_type": "code",
   "execution_count": 1,
   "metadata": {},
   "outputs": [],
   "source": [
    "%load_ext autoreload\n",
    "%autoreload 2"
   ]
  },
  {
   "cell_type": "code",
   "execution_count": 2,
   "metadata": {},
   "outputs": [],
   "source": [
    "import sys\n",
    "sys.path.append(\"..\")"
   ]
  },
  {
   "cell_type": "code",
   "execution_count": 3,
   "metadata": {},
   "outputs": [],
   "source": [
    "import torch\n",
    "from inpainting.inpainters.rgb_misgan import RGBMisganInpainterInterface\n",
    "from inpainting.inpainters.mnist import MNISTMisganInpainterInterface\n",
    "from inpainting.datasets.celeba import train_val_datasets as celeba_train_val_datasets\n",
    "from inpainting.datasets.mnist import train_val_datasets as mnist_train_val_datasets\n",
    "from pathlib import Path\n",
    "from inpainting.datasets.utils import RandomRectangleMaskConfig\n",
    "from inpainting.datasets import mask_coding as mc\n",
    "from torchvision.datasets import MNIST, FashionMNIST\n",
    "from torch.utils.data import DataLoader, TensorDataset\n",
    "import pickle\n",
    "from tqdm import tqdm\n",
    "import numpy as np\n",
    "from inpainting.visualizations import samples as vis\n",
    "from inpainting.visualizations.digits import digit_with_mask as vis_digit_mask\n",
    "import matplotlib.pyplot as plt\n",
    "from inpainting.utils import predictions_for_entire_loader"
   ]
  },
  {
   "cell_type": "code",
   "execution_count": 4,
   "metadata": {},
   "outputs": [],
   "source": [
    "device = torch.device(\"cpu\")"
   ]
  },
  {
   "cell_type": "code",
   "execution_count": 5,
   "metadata": {},
   "outputs": [
    {
     "data": {
      "text/plain": [
       "<All keys matched successfully>"
      ]
     },
     "execution_count": 5,
     "metadata": {},
     "output_type": "execute_result"
    }
   ],
   "source": [
    "inpainter = MNISTMisganInpainterInterface()\n",
    "chckp = torch.load(\n",
    "    \"/home/mprzewiezlikowski/uj/gmms_inpainting/results/methods_comparison/mnist/misgan/imputer.pth\",\n",
    "    map_location=torch.device('cpu')\n",
    ")\n",
    "inpainter.imputer.load_state_dict(chckp)"
   ]
  },
  {
   "cell_type": "code",
   "execution_count": 6,
   "metadata": {},
   "outputs": [],
   "source": [
    "ds_train, ds_val = mnist_train_val_datasets(\n",
    "    Path.home() / \"uj/data/\",\n",
    "    mask_configs=[\n",
    "\n",
    "        RandomRectangleMaskConfig(mc.UNKNOWN_LOSS, 14, 14, 0,0),\n",
    "    ],\n",
    "    ds_type=MNIST\n",
    ")"
   ]
  },
  {
   "cell_type": "code",
   "execution_count": 7,
   "metadata": {},
   "outputs": [],
   "source": [
    "batch_size=96\n",
    "dl_train = DataLoader(ds_train, batch_size, shuffle=True)\n",
    "dl_val = DataLoader(ds_val, batch_size, shuffle=False)"
   ]
  },
  {
   "cell_type": "code",
   "execution_count": 8,
   "metadata": {},
   "outputs": [
    {
     "name": "stderr",
     "output_type": "stream",
     "text": [
      "3it [00:00, 10.31it/s]"
     ]
    },
    {
     "name": "stdout",
     "output_type": "stream",
     "text": [
      "torch.Size([96, 1, 28, 28])\n",
      "torch.Size([96, 1, 28, 28])\n",
      "torch.Size([96, 1, 28, 28])\n"
     ]
    },
    {
     "name": "stderr",
     "output_type": "stream",
     "text": [
      "5it [00:00, 11.33it/s]"
     ]
    },
    {
     "name": "stdout",
     "output_type": "stream",
     "text": [
      "torch.Size([96, 1, 28, 28])\n",
      "torch.Size([96, 1, 28, 28])\n",
      "torch.Size([96, 1, 28, 28])\n"
     ]
    },
    {
     "name": "stderr",
     "output_type": "stream",
     "text": [
      "9it [00:00, 12.21it/s]"
     ]
    },
    {
     "name": "stdout",
     "output_type": "stream",
     "text": [
      "torch.Size([96, 1, 28, 28])\n",
      "torch.Size([96, 1, 28, 28])\n",
      "torch.Size([96, 1, 28, 28])\n"
     ]
    },
    {
     "name": "stderr",
     "output_type": "stream",
     "text": [
      "11it [00:00, 12.94it/s]"
     ]
    },
    {
     "name": "stdout",
     "output_type": "stream",
     "text": [
      "torch.Size([96, 1, 28, 28])\n",
      "torch.Size([96, 1, 28, 28])\n",
      "torch.Size([96, 1, 28, 28])\n",
      "torch.Size([96, 1, 28, 28])\n"
     ]
    },
    {
     "name": "stderr",
     "output_type": "stream",
     "text": [
      "17it [00:01, 14.87it/s]"
     ]
    },
    {
     "name": "stdout",
     "output_type": "stream",
     "text": [
      "torch.Size([96, 1, 28, 28])\n",
      "torch.Size([96, 1, 28, 28])\n",
      "torch.Size([96, 1, 28, 28])\n",
      "torch.Size([96, 1, 28, 28])\n"
     ]
    },
    {
     "name": "stderr",
     "output_type": "stream",
     "text": [
      "19it [00:01, 14.93it/s]"
     ]
    },
    {
     "name": "stdout",
     "output_type": "stream",
     "text": [
      "torch.Size([96, 1, 28, 28])\n",
      "torch.Size([96, 1, 28, 28])\n",
      "torch.Size([96, 1, 28, 28])\n",
      "torch.Size([96, 1, 28, 28])\n"
     ]
    },
    {
     "name": "stderr",
     "output_type": "stream",
     "text": [
      "23it [00:01, 13.07it/s]"
     ]
    },
    {
     "name": "stdout",
     "output_type": "stream",
     "text": [
      "torch.Size([96, 1, 28, 28])\n",
      "torch.Size([96, 1, 28, 28])\n",
      "torch.Size([96, 1, 28, 28])\n"
     ]
    },
    {
     "name": "stderr",
     "output_type": "stream",
     "text": [
      "27it [00:01, 12.87it/s]"
     ]
    },
    {
     "name": "stdout",
     "output_type": "stream",
     "text": [
      "torch.Size([96, 1, 28, 28])\n",
      "torch.Size([96, 1, 28, 28])\n",
      "torch.Size([96, 1, 28, 28])\n",
      "torch.Size([96, 1, 28, 28])\n"
     ]
    },
    {
     "name": "stderr",
     "output_type": "stream",
     "text": [
      "31it [00:02, 13.48it/s]"
     ]
    },
    {
     "name": "stdout",
     "output_type": "stream",
     "text": [
      "torch.Size([96, 1, 28, 28])\n",
      "torch.Size([96, 1, 28, 28])\n",
      "torch.Size([96, 1, 28, 28])\n",
      "torch.Size([96, 1, 28, 28])\n"
     ]
    },
    {
     "name": "stderr",
     "output_type": "stream",
     "text": [
      "35it [00:02, 13.83it/s]"
     ]
    },
    {
     "name": "stdout",
     "output_type": "stream",
     "text": [
      "torch.Size([96, 1, 28, 28])\n",
      "torch.Size([96, 1, 28, 28])\n",
      "torch.Size([96, 1, 28, 28])\n"
     ]
    },
    {
     "name": "stderr",
     "output_type": "stream",
     "text": [
      "39it [00:02, 14.72it/s]"
     ]
    },
    {
     "name": "stdout",
     "output_type": "stream",
     "text": [
      "torch.Size([96, 1, 28, 28])\n",
      "torch.Size([96, 1, 28, 28])\n",
      "torch.Size([96, 1, 28, 28])\n",
      "torch.Size([96, 1, 28, 28])\n",
      "torch.Size([96, 1, 28, 28])\n"
     ]
    },
    {
     "name": "stderr",
     "output_type": "stream",
     "text": [
      "41it [00:02, 14.61it/s]"
     ]
    },
    {
     "name": "stdout",
     "output_type": "stream",
     "text": [
      "torch.Size([96, 1, 28, 28])\n",
      "torch.Size([96, 1, 28, 28])\n",
      "torch.Size([96, 1, 28, 28])\n"
     ]
    },
    {
     "name": "stderr",
     "output_type": "stream",
     "text": [
      "45it [00:03, 13.50it/s]"
     ]
    },
    {
     "name": "stdout",
     "output_type": "stream",
     "text": [
      "torch.Size([96, 1, 28, 28])\n",
      "torch.Size([96, 1, 28, 28])\n",
      "torch.Size([96, 1, 28, 28])\n"
     ]
    },
    {
     "name": "stderr",
     "output_type": "stream",
     "text": [
      "49it [00:03, 14.85it/s]"
     ]
    },
    {
     "name": "stdout",
     "output_type": "stream",
     "text": [
      "torch.Size([96, 1, 28, 28])\n",
      "torch.Size([96, 1, 28, 28])\n",
      "torch.Size([96, 1, 28, 28])\n",
      "torch.Size([96, 1, 28, 28])\n"
     ]
    },
    {
     "name": "stderr",
     "output_type": "stream",
     "text": [
      "53it [00:03, 15.60it/s]"
     ]
    },
    {
     "name": "stdout",
     "output_type": "stream",
     "text": [
      "torch.Size([96, 1, 28, 28])\n",
      "torch.Size([96, 1, 28, 28])\n",
      "torch.Size([96, 1, 28, 28])\n"
     ]
    },
    {
     "name": "stderr",
     "output_type": "stream",
     "text": [
      "55it [00:03, 14.41it/s]"
     ]
    },
    {
     "name": "stdout",
     "output_type": "stream",
     "text": [
      "torch.Size([96, 1, 28, 28])\n",
      "torch.Size([96, 1, 28, 28])\n",
      "torch.Size([96, 1, 28, 28])\n"
     ]
    },
    {
     "name": "stderr",
     "output_type": "stream",
     "text": [
      "59it [00:04, 14.27it/s]"
     ]
    },
    {
     "name": "stdout",
     "output_type": "stream",
     "text": [
      "torch.Size([96, 1, 28, 28])\n",
      "torch.Size([96, 1, 28, 28])\n",
      "torch.Size([96, 1, 28, 28])\n"
     ]
    },
    {
     "name": "stderr",
     "output_type": "stream",
     "text": [
      "63it [00:04, 15.07it/s]"
     ]
    },
    {
     "name": "stdout",
     "output_type": "stream",
     "text": [
      "torch.Size([96, 1, 28, 28])\n",
      "torch.Size([96, 1, 28, 28])\n",
      "torch.Size([96, 1, 28, 28])\n",
      "torch.Size([96, 1, 28, 28])\n",
      "torch.Size([96, 1, 28, 28])\n"
     ]
    },
    {
     "name": "stderr",
     "output_type": "stream",
     "text": [
      "67it [00:04, 15.64it/s]"
     ]
    },
    {
     "name": "stdout",
     "output_type": "stream",
     "text": [
      "torch.Size([96, 1, 28, 28])\n",
      "torch.Size([96, 1, 28, 28])\n",
      "torch.Size([96, 1, 28, 28])\n",
      "torch.Size([96, 1, 28, 28])\n"
     ]
    },
    {
     "name": "stderr",
     "output_type": "stream",
     "text": [
      "71it [00:04, 15.41it/s]"
     ]
    },
    {
     "name": "stdout",
     "output_type": "stream",
     "text": [
      "torch.Size([96, 1, 28, 28])\n",
      "torch.Size([96, 1, 28, 28])\n",
      "torch.Size([96, 1, 28, 28])\n",
      "torch.Size([96, 1, 28, 28])\n"
     ]
    },
    {
     "name": "stderr",
     "output_type": "stream",
     "text": [
      "75it [00:05, 15.82it/s]"
     ]
    },
    {
     "name": "stdout",
     "output_type": "stream",
     "text": [
      "torch.Size([96, 1, 28, 28])\n",
      "torch.Size([96, 1, 28, 28])\n",
      "torch.Size([96, 1, 28, 28])\n",
      "torch.Size([96, 1, 28, 28])\n"
     ]
    },
    {
     "name": "stderr",
     "output_type": "stream",
     "text": [
      "77it [00:05, 14.98it/s]"
     ]
    },
    {
     "name": "stdout",
     "output_type": "stream",
     "text": [
      "torch.Size([96, 1, 28, 28])\n",
      "torch.Size([96, 1, 28, 28])\n"
     ]
    },
    {
     "name": "stderr",
     "output_type": "stream",
     "text": [
      "83it [00:05, 14.20it/s]"
     ]
    },
    {
     "name": "stdout",
     "output_type": "stream",
     "text": [
      "torch.Size([96, 1, 28, 28])\n",
      "torch.Size([96, 1, 28, 28])\n",
      "torch.Size([96, 1, 28, 28])\n",
      "torch.Size([96, 1, 28, 28])\n",
      "torch.Size([96, 1, 28, 28])\n"
     ]
    },
    {
     "name": "stderr",
     "output_type": "stream",
     "text": [
      "85it [00:05, 14.70it/s]"
     ]
    },
    {
     "name": "stdout",
     "output_type": "stream",
     "text": [
      "torch.Size([96, 1, 28, 28])\n",
      "torch.Size([96, 1, 28, 28])\n",
      "torch.Size([96, 1, 28, 28])\n"
     ]
    },
    {
     "name": "stderr",
     "output_type": "stream",
     "text": [
      "89it [00:06, 14.19it/s]"
     ]
    },
    {
     "name": "stdout",
     "output_type": "stream",
     "text": [
      "torch.Size([96, 1, 28, 28])\n",
      "torch.Size([96, 1, 28, 28])\n",
      "torch.Size([96, 1, 28, 28])\n",
      "torch.Size([96, 1, 28, 28])\n"
     ]
    },
    {
     "name": "stderr",
     "output_type": "stream",
     "text": [
      "93it [00:06, 15.02it/s]"
     ]
    },
    {
     "name": "stdout",
     "output_type": "stream",
     "text": [
      "torch.Size([96, 1, 28, 28])\n",
      "torch.Size([96, 1, 28, 28])\n",
      "torch.Size([96, 1, 28, 28])\n",
      "torch.Size([96, 1, 28, 28])\n"
     ]
    },
    {
     "name": "stderr",
     "output_type": "stream",
     "text": [
      "97it [00:06, 14.13it/s]"
     ]
    },
    {
     "name": "stdout",
     "output_type": "stream",
     "text": [
      "torch.Size([96, 1, 28, 28])\n",
      "torch.Size([96, 1, 28, 28])\n",
      "torch.Size([96, 1, 28, 28])\n"
     ]
    },
    {
     "name": "stderr",
     "output_type": "stream",
     "text": [
      "101it [00:07, 15.00it/s]"
     ]
    },
    {
     "name": "stdout",
     "output_type": "stream",
     "text": [
      "torch.Size([96, 1, 28, 28])\n",
      "torch.Size([96, 1, 28, 28])\n",
      "torch.Size([96, 1, 28, 28])\n",
      "torch.Size([96, 1, 28, 28])\n",
      "torch.Size([96, 1, 28, 28])\n"
     ]
    },
    {
     "name": "stderr",
     "output_type": "stream",
     "text": [
      "105it [00:07, 14.27it/s]"
     ]
    },
    {
     "name": "stdout",
     "output_type": "stream",
     "text": [
      "torch.Size([96, 1, 28, 28])\n",
      "torch.Size([96, 1, 28, 28])\n",
      "torch.Size([16, 1, 28, 28])\n"
     ]
    },
    {
     "name": "stderr",
     "output_type": "stream",
     "text": [
      "\n"
     ]
    },
    {
     "data": {
      "text/plain": [
       "10000"
      ]
     },
     "execution_count": 8,
     "metadata": {},
     "output_type": "execute_result"
    }
   ],
   "source": [
    "results = predictions_for_entire_loader(\n",
    "    inpainter,\n",
    "    dl_val\n",
    ")\n",
    "\n",
    "len(results)"
   ]
  },
  {
   "cell_type": "code",
   "execution_count": 9,
   "metadata": {},
   "outputs": [],
   "source": [
    "results_path = Path(\"../results/mnist/misgan\")\n",
    "results_path.mkdir(parents=True, exist_ok=True)\n",
    "\n",
    "with (results_path / \"val_predictions.pkl\").open(\"wb\") as f:\n",
    "    pickle.dump(results, f)"
   ]
  },
  {
   "cell_type": "code",
   "execution_count": 10,
   "metadata": {},
   "outputs": [
    {
     "name": "stdout",
     "output_type": "stream",
     "text": [
      "total 218516\n",
      "-rw-r--r-- 1 mprzewiezlikowski users 223759459 May 12 21:56 val_predictions.pkl\n"
     ]
    }
   ],
   "source": [
    "!ls -l ../results/mnist/misgan"
   ]
  },
  {
   "cell_type": "code",
   "execution_count": 11,
   "metadata": {},
   "outputs": [
    {
     "data": {
      "text/plain": [
       "[(1, 28, 28), (1, 28, 28), (1,), (1, 784), (1, 3, 784), (1, 784), ()]"
      ]
     },
     "execution_count": 11,
     "metadata": {},
     "output_type": "execute_result"
    }
   ],
   "source": [
    "[\n",
    "    t.shape for t in results[0]\n",
    "]"
   ]
  },
  {
   "cell_type": "code",
   "execution_count": 12,
   "metadata": {},
   "outputs": [
    {
     "data": {
      "image/png": "[encoded data removed]",
      "text/plain": [
       "<Figure size 1080x1080 with 110 Axes>"
      ]
     },
     "metadata": {
      "needs_background": "light"
     },
     "output_type": "display_data"
    }
   ],
   "source": [
    "fig, ax = plt.subplots(10, 11, figsize=(15,15)\n",
    ")\n",
    "\n",
    "for i in range(10):\n",
    "    vis.visualize_sample(\n",
    "        *results[i],\n",
    "        drawing_fn=vis_digit_mask,\n",
    "        title_prefixes=dict(),\n",
    "        ax_row=ax[i]\n",
    "    )"
   ]
  },
  {
   "cell_type": "code",
   "execution_count": null,
   "metadata": {},
   "outputs": [],
   "source": []
  }
 ],
 "metadata": {
  "kernelspec": {
   "display_name": "Python 3",
   "language": "python",
   "name": "python3"
  },
  "language_info": {
   "codemirror_mode": {
    "name": "ipython",
    "version": 3
   },
   "file_extension": ".py",
   "mimetype": "text/x-python",
   "name": "python",
   "nbconvert_exporter": "python",
   "pygments_lexer": "ipython3",
   "version": "3.7.0"
  }
 },
 "nbformat": 4,
 "nbformat_minor": 4
}
