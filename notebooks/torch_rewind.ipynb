{
 "cells": [
  {
   "cell_type": "code",
   "execution_count": 72,
   "metadata": {},
   "outputs": [],
   "source": [
    "import numpy as np\n",
    "import matplotlib.pyplot as plt\n",
    "\n",
    "import torch\n",
    "from torch import nn\n",
    "from torch.utils.data import DataLoader, TensorDataset\n",
    "from torch import optim\n",
    "from torch import distributions as dist\n",
    "\n",
    "from torchvision.datasets import MNIST, FashionMNIST\n",
    "from torchvision import transforms as tr\n",
    "from sklearn import datasets\n",
    "from sklearn.model_selection import train_test_split\n",
    "from sklearn.metrics import accuracy_score"
   ]
  },
  {
   "cell_type": "code",
   "execution_count": 30,
   "metadata": {},
   "outputs": [
    {
     "data": {
      "text/plain": [
       "((150, 4), (150,), {0, 1, 2})"
      ]
     },
     "execution_count": 30,
     "metadata": {},
     "output_type": "execute_result"
    }
   ],
   "source": [
    "iris = datasets.load_iris()\n",
    "X = iris['data']\n",
    "y = iris['target']\n",
    "X.shape, y.shape, set(y)"
   ]
  },
  {
   "cell_type": "code",
   "execution_count": 21,
   "metadata": {},
   "outputs": [],
   "source": [
    "X_train, X_test, y_train, y_test = train_test_split(X, y, test_size=0.33, random_state=42)"
   ]
  },
  {
   "cell_type": "code",
   "execution_count": 45,
   "metadata": {},
   "outputs": [],
   "source": [
    "ds_train = TensorDataset(\n",
    "    torch.Tensor(X_train), \n",
    "    torch.Tensor(y_train).long()\n",
    ")\n",
    "\n",
    "ds_test = TensorDataset(\n",
    "    torch.Tensor(X_test), \n",
    "    torch.Tensor(y_test).long()\n",
    ")\n",
    "\n",
    "batch_size=16\n",
    "dl_train = DataLoader(ds_train, batch_size, shuffle=True)\n",
    "dl_test = DataLoader(ds_test, batch_size, shuffle=True)"
   ]
  },
  {
   "cell_type": "code",
   "execution_count": 69,
   "metadata": {},
   "outputs": [
    {
     "data": {
      "text/plain": [
       "Sequential(\n",
       "  (0): Linear(in_features=4, out_features=10, bias=True)\n",
       "  (1): Linear(in_features=10, out_features=20, bias=True)\n",
       "  (2): Linear(in_features=20, out_features=3, bias=True)\n",
       ")"
      ]
     },
     "execution_count": 69,
     "metadata": {},
     "output_type": "execute_result"
    }
   ],
   "source": [
    "model = nn.Sequential(\n",
    "    nn.Linear(4, 10),\n",
    "#     nn.ReLU(),\n",
    "    nn.Linear(10, 20),\n",
    "# #     nn.ReLU(),\n",
    "    nn.Linear(20, 3)\n",
    ")\n",
    "\n",
    "opt = optim.Adam(model.parameters(), 4e-3)\n",
    "criterion = nn.CrossEntropyLoss()\n",
    "number_of_epochs=40\n",
    "model"
   ]
  },
  {
   "cell_type": "code",
   "execution_count": 70,
   "metadata": {},
   "outputs": [
    {
     "name": "stdout",
     "output_type": "stream",
     "text": [
      "#Epoch: 0, train loss: 0.6946636997163296, test loss: 0.7056384943425655, val_acc: 0.64\n",
      "#Epoch: 1, train loss: 0.6657244525849819, test loss: 0.5773552842438221, val_acc: 0.3\n",
      "#Epoch: 2, train loss: 0.6065041124820709, test loss: 0.3926589712500572, val_acc: 0.7\n",
      "#Epoch: 3, train loss: 0.43259335309267044, test loss: 0.40072745084762573, val_acc: 0.7\n",
      "#Epoch: 4, train loss: 0.41520318388938904, test loss: 0.3077712208032608, val_acc: 0.96\n",
      "#Epoch: 5, train loss: 0.34135354682803154, test loss: 0.433471018448472, val_acc: 0.82\n",
      "#Epoch: 6, train loss: 0.2684185318648815, test loss: 0.29664959385991096, val_acc: 0.88\n",
      "#Epoch: 7, train loss: 0.27914427779614925, test loss: 0.23491299338638783, val_acc: 0.88\n",
      "#Epoch: 8, train loss: 0.22679435648024082, test loss: 0.3587693180888891, val_acc: 0.98\n",
      "#Epoch: 9, train loss: 0.20056397281587124, test loss: 0.07554511539638042, val_acc: 0.98\n",
      "#Epoch: 10, train loss: 0.2070946916937828, test loss: 0.2697750264778733, val_acc: 1.0\n",
      "#Epoch: 11, train loss: 0.20947508979588747, test loss: 0.13471802789717913, val_acc: 1.0\n",
      "#Epoch: 12, train loss: 0.16441897302865982, test loss: 0.09290247410535812, val_acc: 0.98\n",
      "#Epoch: 13, train loss: 0.18940548971295357, test loss: 0.17368303891271353, val_acc: 0.98\n",
      "#Epoch: 14, train loss: 0.11439700052142143, test loss: 0.18438702635467052, val_acc: 0.98\n",
      "#Epoch: 15, train loss: 0.09890478942543268, test loss: 0.04226282238960266, val_acc: 0.92\n",
      "#Epoch: 16, train loss: 0.08710666559636593, test loss: 0.13300073985010386, val_acc: 1.0\n",
      "#Epoch: 17, train loss: 0.0877722897566855, test loss: 0.02926916116848588, val_acc: 1.0\n",
      "#Epoch: 18, train loss: 0.12590819923207164, test loss: 0.07909160479903221, val_acc: 1.0\n",
      "#Epoch: 19, train loss: 0.09047930268570781, test loss: 0.02603017957881093, val_acc: 1.0\n",
      "#Epoch: 20, train loss: 0.17481230664998293, test loss: 0.027184482431039214, val_acc: 0.96\n",
      "#Epoch: 21, train loss: 0.0635268110781908, test loss: 0.06825030595064163, val_acc: 0.98\n",
      "#Epoch: 22, train loss: 0.06331287906505167, test loss: 0.11829880019649863, val_acc: 0.98\n",
      "#Epoch: 23, train loss: 0.06226492766290903, test loss: 0.04753001616336405, val_acc: 1.0\n",
      "#Epoch: 24, train loss: 0.07900565909221768, test loss: 0.02074881410226226, val_acc: 1.0\n",
      "#Epoch: 25, train loss: 0.050824962789192796, test loss: 0.019536790903657675, val_acc: 0.98\n",
      "#Epoch: 26, train loss: 0.09379750303924084, test loss: 0.031063884031027555, val_acc: 1.0\n",
      "#Epoch: 27, train loss: 0.08894233126193285, test loss: 0.019465457880869508, val_acc: 0.98\n",
      "#Epoch: 28, train loss: 0.05625698540825397, test loss: 0.10400155885145068, val_acc: 0.98\n",
      "#Epoch: 29, train loss: 0.045079970033839345, test loss: 0.02164646261371672, val_acc: 1.0\n",
      "#Epoch: 30, train loss: 0.12463146867230535, test loss: 0.017253606114536524, val_acc: 0.98\n",
      "#Epoch: 31, train loss: 0.06375584262423217, test loss: 0.014541572192683816, val_acc: 1.0\n",
      "#Epoch: 32, train loss: 0.1077864458784461, test loss: 0.02571382583118975, val_acc: 0.96\n",
      "#Epoch: 33, train loss: 0.04816724802367389, test loss: 0.13618529436644167, val_acc: 1.0\n",
      "#Epoch: 34, train loss: 0.042846279917284846, test loss: 0.21087330859154463, val_acc: 0.92\n",
      "#Epoch: 35, train loss: 0.04417600482702255, test loss: 0.016211528447456658, val_acc: 1.0\n",
      "#Epoch: 36, train loss: 0.07145570637658238, test loss: 0.07151799538405612, val_acc: 0.98\n",
      "#Epoch: 37, train loss: 0.0397701773326844, test loss: 0.0236495197750628, val_acc: 0.92\n",
      "#Epoch: 38, train loss: 0.04060473735444248, test loss: 0.013861822080798447, val_acc: 1.0\n",
      "#Epoch: 39, train loss: 0.04307294043246657, test loss: 0.11533670744393021, val_acc: 0.98\n"
     ]
    }
   ],
   "source": [
    "for i in range(number_of_epochs):\n",
    "    train_loss = 0\n",
    "    model = model.train()\n",
    "    y_train_predicted = []\n",
    "    y_train_true = []\n",
    "    for iteration, sample in enumerate(dl_train):\n",
    "        imgs, y = sample\n",
    "\n",
    "        model.zero_grad()\n",
    "        output = model(imgs)\n",
    "        loss = criterion(output, y)\n",
    "        train_loss += loss.item() / imgs.size(0)\n",
    "        loss.backward()\n",
    "        opt.step()\n",
    "        _, pred = torch.max(output, dim=1)\n",
    "        y_train_predicted.extend(pred.detach().cpu().tolist())\n",
    "        y_train_true.extend(y.detach().cpu().tolist())\n",
    "        \n",
    "    val_loss = 0\n",
    "    y_predicted = []\n",
    "    y_true = []\n",
    "\n",
    "    with torch.no_grad():\n",
    "        model = model.eval()\n",
    "        for iteration, sample in enumerate(dl_test):\n",
    "            imgs, y = sample\n",
    "\n",
    "            output = model(imgs)\n",
    "            loss = criterion(output, y)\n",
    "            val_loss += loss.item() / imgs.size(0)\n",
    "            _, pred = torch.max(output, dim=1)\n",
    "            y_predicted.extend(pred.cpu().tolist())\n",
    "            y_true.extend(y.cpu().tolist())\n",
    "            \n",
    "    val_acc = accuracy_score(y_true, y_predicted)\n",
    "    print('#Epoch: {}, train loss: {}, test loss: {}, val_acc: {}'.format(i, train_loss, val_loss, val_acc))\n",
    "    "
   ]
  },
  {
   "cell_type": "markdown",
   "metadata": {},
   "source": [
    "# Gaussian estimator"
   ]
  },
  {
   "cell_type": "code",
   "execution_count": 87,
   "metadata": {},
   "outputs": [
    {
     "name": "stdout",
     "output_type": "stream",
     "text": [
      "desired loss: tensor(2.7378)\n",
      "trained loss: tensor(2.7533, grad_fn=<NegBackward>)\n"
     ]
    }
   ],
   "source": [
    "true_d = dist.multivariate_normal.MultivariateNormal(torch.Tensor([1,1]), torch.Tensor([[1,0],[0,1]]))\n",
    "X = true_d.sample((100,))\n",
    "des_loss = - true_d.log_prob(X)\n",
    "\n",
    "print(\"desired loss:\", des_loss.mean())\n",
    "mean_v = torch.autograd.Variable(torch.Tensor(np.random.rand(2)), requires_grad=True)\n",
    "cov_v = torch.autograd.Variable(torch.Tensor(np.diag(np.abs(np.random.rand(2)))), requires_grad=True)\n",
    "\n",
    "params = [mean_v, cov_v]\n",
    "\n",
    "\n",
    "opt = optim.Adam(params, 0.01)\n",
    "\n",
    "for i in range(100):\n",
    "    opt.zero_grad()\n",
    "    d = dist.multivariate_normal.MultivariateNormal(mean_v, cov_v)\n",
    "\n",
    "    loss = - d.log_prob(X).mean()\n",
    "    loss.backward()\n",
    "    opt.step()\n",
    "    for p in params:\n",
    "        p.grad.data.zero_()\n",
    "\n",
    "print(\"trained loss:\", loss)"
   ]
  },
  {
   "cell_type": "code",
   "execution_count": 101,
   "metadata": {},
   "outputs": [
    {
     "name": "stdout",
     "output_type": "stream",
     "text": [
      "pre tensor([0.6962, 0.2590, 0.8861, 0.3150, 0.0434, 0.5062, 0.8557, 0.8400, 0.7429,\n",
      "        0.8529], requires_grad=True)\n",
      "tensor(23.4042, grad_fn=<NegBackward>)\n",
      "tensor(23.3813, grad_fn=<NegBackward>)\n",
      "tensor(23.3594, grad_fn=<NegBackward>)\n",
      "tensor(23.3382, grad_fn=<NegBackward>)\n",
      "tensor(23.3180, grad_fn=<NegBackward>)\n",
      "tensor(23.2987, grad_fn=<NegBackward>)\n",
      "tensor(23.2802, grad_fn=<NegBackward>)\n",
      "tensor(23.2627, grad_fn=<NegBackward>)\n",
      "tensor(23.2460, grad_fn=<NegBackward>)\n",
      "tensor(23.2303, grad_fn=<NegBackward>)\n",
      "tensor(23.2154, grad_fn=<NegBackward>)\n",
      "tensor(23.2013, grad_fn=<NegBackward>)\n",
      "tensor(23.1881, grad_fn=<NegBackward>)\n",
      "tensor(23.1757, grad_fn=<NegBackward>)\n",
      "tensor(23.1639, grad_fn=<NegBackward>)\n",
      "tensor(23.1529, grad_fn=<NegBackward>)\n",
      "tensor(23.1426, grad_fn=<NegBackward>)\n",
      "tensor(23.1328, grad_fn=<NegBackward>)\n",
      "tensor(23.1237, grad_fn=<NegBackward>)\n",
      "tensor(23.1152, grad_fn=<NegBackward>)\n",
      "tensor(23.1073, grad_fn=<NegBackward>)\n",
      "tensor(23.0999, grad_fn=<NegBackward>)\n",
      "tensor(23.0930, grad_fn=<NegBackward>)\n",
      "tensor(23.0867, grad_fn=<NegBackward>)\n",
      "tensor(23.0808, grad_fn=<NegBackward>)\n",
      "tensor(23.0755, grad_fn=<NegBackward>)\n",
      "tensor(23.0706, grad_fn=<NegBackward>)\n",
      "tensor(23.0661, grad_fn=<NegBackward>)\n",
      "tensor(23.0620, grad_fn=<NegBackward>)\n",
      "tensor(23.0584, grad_fn=<NegBackward>)\n",
      "tensor(23.0551, grad_fn=<NegBackward>)\n",
      "tensor(23.0521, grad_fn=<NegBackward>)\n",
      "tensor(23.0494, grad_fn=<NegBackward>)\n",
      "tensor(23.0471, grad_fn=<NegBackward>)\n",
      "tensor(23.0450, grad_fn=<NegBackward>)\n",
      "tensor(23.0431, grad_fn=<NegBackward>)\n",
      "tensor(23.0414, grad_fn=<NegBackward>)\n",
      "tensor(23.0399, grad_fn=<NegBackward>)\n",
      "tensor(23.0386, grad_fn=<NegBackward>)\n",
      "tensor(23.0374, grad_fn=<NegBackward>)\n",
      "tensor(23.0363, grad_fn=<NegBackward>)\n",
      "tensor(23.0354, grad_fn=<NegBackward>)\n",
      "tensor(23.0345, grad_fn=<NegBackward>)\n",
      "tensor(23.0337, grad_fn=<NegBackward>)\n",
      "tensor(23.0330, grad_fn=<NegBackward>)\n",
      "tensor(23.0323, grad_fn=<NegBackward>)\n",
      "tensor(23.0317, grad_fn=<NegBackward>)\n",
      "tensor(23.0311, grad_fn=<NegBackward>)\n",
      "tensor(23.0306, grad_fn=<NegBackward>)\n",
      "tensor(23.0301, grad_fn=<NegBackward>)\n",
      "tensor(23.0297, grad_fn=<NegBackward>)\n",
      "tensor(23.0293, grad_fn=<NegBackward>)\n",
      "tensor(23.0289, grad_fn=<NegBackward>)\n",
      "tensor(23.0285, grad_fn=<NegBackward>)\n",
      "tensor(23.0282, grad_fn=<NegBackward>)\n",
      "tensor(23.0279, grad_fn=<NegBackward>)\n",
      "tensor(23.0276, grad_fn=<NegBackward>)\n",
      "tensor(23.0274, grad_fn=<NegBackward>)\n",
      "tensor(23.0272, grad_fn=<NegBackward>)\n",
      "tensor(23.0270, grad_fn=<NegBackward>)\n",
      "tensor(23.0268, grad_fn=<NegBackward>)\n",
      "tensor(23.0266, grad_fn=<NegBackward>)\n",
      "tensor(23.0265, grad_fn=<NegBackward>)\n",
      "tensor(23.0264, grad_fn=<NegBackward>)\n",
      "tensor(23.0263, grad_fn=<NegBackward>)\n",
      "tensor(23.0262, grad_fn=<NegBackward>)\n",
      "tensor(23.0261, grad_fn=<NegBackward>)\n",
      "tensor(23.0261, grad_fn=<NegBackward>)\n",
      "tensor(23.0260, grad_fn=<NegBackward>)\n",
      "tensor(23.0260, grad_fn=<NegBackward>)\n",
      "tensor(23.0260, grad_fn=<NegBackward>)\n",
      "tensor(23.0259, grad_fn=<NegBackward>)\n",
      "tensor(23.0259, grad_fn=<NegBackward>)\n",
      "tensor(23.0259, grad_fn=<NegBackward>)\n",
      "tensor(23.0259, grad_fn=<NegBackward>)\n",
      "tensor(23.0259, grad_fn=<NegBackward>)\n",
      "tensor(23.0259, grad_fn=<NegBackward>)\n",
      "tensor(23.0259, grad_fn=<NegBackward>)\n",
      "tensor(23.0259, grad_fn=<NegBackward>)\n",
      "tensor(23.0259, grad_fn=<NegBackward>)\n",
      "tensor(23.0259, grad_fn=<NegBackward>)\n",
      "tensor(23.0259, grad_fn=<NegBackward>)\n",
      "tensor(23.0259, grad_fn=<NegBackward>)\n",
      "tensor(23.0259, grad_fn=<NegBackward>)\n",
      "tensor(23.0259, grad_fn=<NegBackward>)\n",
      "tensor(23.0259, grad_fn=<NegBackward>)\n",
      "tensor(23.0259, grad_fn=<NegBackward>)\n",
      "tensor(23.0259, grad_fn=<NegBackward>)\n",
      "tensor(23.0259, grad_fn=<NegBackward>)\n",
      "tensor(23.0259, grad_fn=<NegBackward>)\n",
      "tensor(23.0259, grad_fn=<NegBackward>)\n",
      "tensor(23.0259, grad_fn=<NegBackward>)\n",
      "tensor(23.0259, grad_fn=<NegBackward>)\n",
      "tensor(23.0259, grad_fn=<NegBackward>)\n",
      "tensor(23.0259, grad_fn=<NegBackward>)\n",
      "tensor(23.0259, grad_fn=<NegBackward>)\n",
      "tensor(23.0259, grad_fn=<NegBackward>)\n",
      "tensor(23.0259, grad_fn=<NegBackward>)\n",
      "tensor(23.0259, grad_fn=<NegBackward>)\n",
      "tensor(23.0259, grad_fn=<NegBackward>)\n",
      "post tensor([0.5124, 0.5084, 0.5127, 0.5111, 0.5181, 0.5129, 0.5126, 0.5121, 0.5120,\n",
      "        0.5126], requires_grad=True)\n"
     ]
    },
    {
     "name": "stderr",
     "output_type": "stream",
     "text": [
      "/home/mprzewie/.anaconda3/envs/uj/lib/python3.7/site-packages/ipykernel_launcher.py:10: UserWarning: Implicit dimension choice for softmax has been deprecated. Change the call to include dim=X as an argument.\n",
      "  # Remove the CWD from sys.path while we load stuff.\n"
     ]
    }
   ],
   "source": [
    "P = torch.rand(10)\n",
    "\n",
    "P_var = torch.autograd.Variable(P, requires_grad=True)\n",
    "print(\"pre\", P_var)\n",
    "opt = optim.Adam([P_var], 0.01)\n",
    "\n",
    "for i in range(100):\n",
    "    opt.zero_grad()\n",
    "    loss = - torch.log(\n",
    "        torch.nn.functional.softmax(P_var)\n",
    "    ).sum()\n",
    "    print(loss)\n",
    "    loss.backward()\n",
    "    opt.step()\n",
    "    P_var.grad.data.zero_()\n",
    "\n",
    "print(\"post\", P_var)"
   ]
  },
  {
   "cell_type": "markdown",
   "metadata": {},
   "source": [
    "# MNIST"
   ]
  },
  {
   "cell_type": "code",
   "execution_count": 8,
   "metadata": {},
   "outputs": [],
   "source": [
    "transforms = tr.Compose([])"
   ]
  },
  {
   "cell_type": "code",
   "execution_count": 13,
   "metadata": {},
   "outputs": [],
   "source": [
    "ds = MNIST('./data', train=True, target_transform=None, download=True, transform=transforms)\n",
    "ds_test = MNIST('./data', train=False, target_transform=None, download=True, transform=transforms)\n",
    "\n",
    "batch_size = 32\n",
    "train_dl = DataLoader(ds, batch_size, shuffle=True)\n",
    "valid_dl = DataLoader(ds_test, batch_size, shuffle=True)"
   ]
  },
  {
   "cell_type": "code",
   "execution_count": 16,
   "metadata": {},
   "outputs": [
    {
     "data": {
      "image/png": "[encoded data removed]",
      "text/plain": [
       "<PIL.Image.Image image mode=L size=28x28 at 0x7F9A874FD9D0>"
      ]
     },
     "execution_count": 16,
     "metadata": {},
     "output_type": "execute_result"
    }
   ],
   "source": [
    "i, l = ds[0]\n",
    "i"
   ]
  },
  {
   "cell_type": "code",
   "execution_count": null,
   "metadata": {},
   "outputs": [],
   "source": []
  }
 ],
 "metadata": {
  "kernelspec": {
   "display_name": "Python (uj)",
   "language": "python",
   "name": "uj"
  },
  "language_info": {
   "codemirror_mode": {
    "name": "ipython",
    "version": 3
   },
   "file_extension": ".py",
   "mimetype": "text/x-python",
   "name": "python",
   "nbconvert_exporter": "python",
   "pygments_lexer": "ipython3",
   "version": "3.7.4"
  }
 },
 "nbformat": 4,
 "nbformat_minor": 2
}
