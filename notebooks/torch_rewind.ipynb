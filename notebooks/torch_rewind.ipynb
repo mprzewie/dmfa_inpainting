{
 "cells": [
  {
   "cell_type": "code",
   "execution_count": null,
   "metadata": {},
   "outputs": [],
   "source": [
    "import numpy as np\n",
    "import matplotlib.pyplot as plt\n",
    "\n",
    "import torch\n",
    "from torch import nn\n",
    "from torch.utils.data import DataLoader, TensorDataset\n",
    "from torch import optim\n",
    "from torch import distributions as dist\n",
    "\n",
    "from torchvision.datasets import MNIST, FashionMNIST\n",
    "from torchvision import transforms as tr\n",
    "from sklearn import datasets\n",
    "from sklearn.model_selection import train_test_split\n",
    "from sklearn.metrics import accuracy_score"
   ]
  },
  {
   "cell_type": "code",
   "execution_count": null,
   "metadata": {},
   "outputs": [],
   "source": [
    "iris = datasets.load_iris()\n",
    "X = iris['data']\n",
    "y = iris['target']\n",
    "X.shape, y.shape, set(y)"
   ]
  },
  {
   "cell_type": "code",
   "execution_count": null,
   "metadata": {},
   "outputs": [],
   "source": [
    "X_train, X_test, y_train, y_test = train_test_split(X, y, test_size=0.33, random_state=42)"
   ]
  },
  {
   "cell_type": "code",
   "execution_count": null,
   "metadata": {},
   "outputs": [],
   "source": [
    "ds_train = TensorDataset(\n",
    "    torch.Tensor(X_train), \n",
    "    torch.Tensor(y_train).long()\n",
    ")\n",
    "\n",
    "ds_test = TensorDataset(\n",
    "    torch.Tensor(X_test), \n",
    "    torch.Tensor(y_test).long()\n",
    ")\n",
    "\n",
    "batch_size=16\n",
    "dl_train = DataLoader(ds_train, batch_size, shuffle=True)\n",
    "dl_test = DataLoader(ds_test, batch_size, shuffle=True)"
   ]
  },
  {
   "cell_type": "code",
   "execution_count": null,
   "metadata": {},
   "outputs": [],
   "source": [
    "model = nn.Sequential(\n",
    "    nn.Linear(4, 10),\n",
    "#     nn.ReLU(),\n",
    "    nn.Linear(10, 20),\n",
    "# #     nn.ReLU(),\n",
    "    nn.Linear(20, 3)\n",
    ")\n",
    "\n",
    "opt = optim.Adam(model.parameters(), 4e-3)\n",
    "criterion = nn.CrossEntropyLoss()\n",
    "number_of_epochs=40\n",
    "model"
   ]
  },
  {
   "cell_type": "code",
   "execution_count": null,
   "metadata": {},
   "outputs": [],
   "source": [
    "for i in range(number_of_epochs):\n",
    "    train_loss = 0\n",
    "    model = model.train()\n",
    "    y_train_predicted = []\n",
    "    y_train_true = []\n",
    "    for iteration, sample in enumerate(dl_train):\n",
    "        imgs, y = sample\n",
    "\n",
    "        model.zero_grad()\n",
    "        output = model(imgs)\n",
    "        loss = criterion(output, y)\n",
    "        train_loss += loss.item() / imgs.size(0)\n",
    "        loss.backward()\n",
    "        opt.step()\n",
    "        _, pred = torch.max(output, dim=1)\n",
    "        y_train_predicted.extend(pred.detach().cpu().tolist())\n",
    "        y_train_true.extend(y.detach().cpu().tolist())\n",
    "        \n",
    "    val_loss = 0\n",
    "    y_predicted = []\n",
    "    y_true = []\n",
    "\n",
    "    with torch.no_grad():\n",
    "        model = model.eval()\n",
    "        for iteration, sample in enumerate(dl_test):\n",
    "            imgs, y = sample\n",
    "\n",
    "            output = model(imgs)\n",
    "            loss = criterion(output, y)\n",
    "            val_loss += loss.item() / imgs.size(0)\n",
    "            _, pred = torch.max(output, dim=1)\n",
    "            y_predicted.extend(pred.cpu().tolist())\n",
    "            y_true.extend(y.cpu().tolist())\n",
    "            \n",
    "    val_acc = accuracy_score(y_true, y_predicted)\n",
    "    print('#Epoch: {}, train loss: {}, test loss: {}, val_acc: {}'.format(i, train_loss, val_loss, val_acc))\n",
    "    "
   ]
  },
  {
   "cell_type": "markdown",
   "metadata": {},
   "source": [
    "# Gaussian estimator"
   ]
  },
  {
   "cell_type": "code",
   "execution_count": null,
   "metadata": {},
   "outputs": [],
   "source": [
    "true_d = dist.multivariate_normal.MultivariateNormal(torch.Tensor([1,1]), torch.Tensor([[1,0],[0,1]]))\n",
    "X = true_d.sample((100,))\n",
    "des_loss = - true_d.log_prob(X)\n",
    "\n",
    "print(\"desired loss:\", des_loss.mean())\n",
    "mean_v = torch.autograd.Variable(torch.Tensor(np.random.rand(2)), requires_grad=True)\n",
    "cov_v = torch.autograd.Variable(torch.Tensor(np.diag(np.abs(np.random.rand(2)))), requires_grad=True)\n",
    "\n",
    "params = [mean_v, cov_v]\n",
    "\n",
    "\n",
    "opt = optim.Adam(params, 0.01)\n",
    "\n",
    "for i in range(100):\n",
    "    opt.zero_grad()\n",
    "    d = dist.multivariate_normal.MultivariateNormal(mean_v, cov_v)\n",
    "\n",
    "    loss = - d.log_prob(X).mean()\n",
    "    loss.backward()\n",
    "    opt.step()\n",
    "    for p in params:\n",
    "        p.grad.data.zero_()\n",
    "\n",
    "print(\"trained loss:\", loss)"
   ]
  },
  {
   "cell_type": "code",
   "execution_count": null,
   "metadata": {},
   "outputs": [],
   "source": [
    "P = torch.rand(10)\n",
    "\n",
    "P_var = torch.autograd.Variable(P, requires_grad=True)\n",
    "print(\"pre\", P_var)\n",
    "opt = optim.Adam([P_var], 0.01)\n",
    "\n",
    "for i in range(100):\n",
    "    opt.zero_grad()\n",
    "    loss = - torch.log(\n",
    "        torch.nn.functional.softmax(P_var)\n",
    "    ).sum()\n",
    "    print(loss)\n",
    "    loss.backward()\n",
    "    opt.step()\n",
    "    P_var.grad.data.zero_()\n",
    "\n",
    "print(\"post\", P_var)"
   ]
  },
  {
   "cell_type": "markdown",
   "metadata": {},
   "source": [
    "# MNIST"
   ]
  },
  {
   "cell_type": "code",
   "execution_count": null,
   "metadata": {},
   "outputs": [],
   "source": [
    "transforms = tr.Compose([])"
   ]
  },
  {
   "cell_type": "code",
   "execution_count": null,
   "metadata": {},
   "outputs": [],
   "source": [
    "ds = MNIST('./data', train=True, target_transform=None, download=True, transform=transforms)\n",
    "ds_test = MNIST('./data', train=False, target_transform=None, download=True, transform=transforms)\n",
    "\n",
    "batch_size = 32\n",
    "train_dl = DataLoader(ds, batch_size, shuffle=True)\n",
    "valid_dl = DataLoader(ds_test, batch_size, shuffle=True)"
   ]
  },
  {
   "cell_type": "code",
   "execution_count": null,
   "metadata": {},
   "outputs": [],
   "source": [
    "i, l = ds[0]\n",
    "i"
   ]
  },
  {
   "cell_type": "code",
   "execution_count": null,
   "metadata": {},
   "outputs": [],
   "source": []
  }
 ],
 "metadata": {
  "kernelspec": {
   "display_name": "Python (uj)",
   "language": "python",
   "name": "uj"
  },
  "language_info": {
   "codemirror_mode": {
    "name": "ipython",
    "version": 3
   },
   "file_extension": ".py",
   "mimetype": "text/x-python",
   "name": "python",
   "nbconvert_exporter": "python",
   "pygments_lexer": "ipython3",
   "version": "3.7.4"
  }
 },
 "nbformat": 4,
 "nbformat_minor": 2
}
