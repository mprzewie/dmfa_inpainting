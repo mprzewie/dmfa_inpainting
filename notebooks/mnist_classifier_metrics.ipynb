{
 "cells": [
  {
   "cell_type": "code",
   "execution_count": null,
   "metadata": {},
   "outputs": [],
   "source": [
    "import json\n",
    "from pathlib import Path\n",
    "import matplotlib.pyplot as plt\n",
    "import pandas as pd"
   ]
  },
  {
   "cell_type": "code",
   "execution_count": null,
   "metadata": {},
   "outputs": [],
   "source": [
    "results_root = Path(\"../results/classification/mnist/exp_new_classifier_v4/\")\n",
    "\n",
    "results_root = Path(\"../results/classification/mnist/exp_val_mask_7/\")\n",
    "\n",
    "\n",
    "# results_root = Path(\"../results/classification/svhn/exp_new_classifier_v5\")\n",
    "# results_root = Path(\"../results/classification/svhn/exp_new_classifier_v5_long_training//\")\n",
    "\n",
    "# results_root = Path(\"../results/classification/svhn/exp_new_classifier_val_size_8/\")\n",
    "# results_root = Path(\"../results/classification/svhn/exp_new_classifier_val_size_0//\")\n",
    "\n",
    "\n",
    "# results_root = Path(\"../results/classification/cifar10/exp_v1/\")\n"
   ]
  },
  {
   "cell_type": "code",
   "execution_count": null,
   "metadata": {},
   "outputs": [],
   "source": [
    "exp_results = dict()\n",
    "\n",
    "for p in results_root.rglob(\"history.json\"):\n",
    "    with p.open(\"r\") as f:\n",
    "        exp_results[str(p.parent.relative_to(results_root))] = json.load(f)"
   ]
  },
  {
   "cell_type": "code",
   "execution_count": null,
   "metadata": {},
   "outputs": [],
   "source": [
    "# exp_results[\"inp_dmfa_relu_after_convar\"];"
   ]
  },
  {
   "cell_type": "code",
   "execution_count": null,
   "metadata": {},
   "outputs": [],
   "source": [
    "for (metric, yrange) in [\n",
    "    (\"cross_entropy\", (0, 2)), \n",
    "    (\"accuracy\", (0., 1))\n",
    "]:    \n",
    "    plt.figure(figsize=(10, 5))\n",
    "    for exp_name, results in exp_results.items():\n",
    "        plt.plot(\n",
    "            [r[\"epoch\"] for r in results], \n",
    "            [r[\"metrics\"][metric][\"val\"] for r in results], \n",
    "            label=exp_name\n",
    "        )\n",
    "    plt.title(metric)\n",
    "    plt.legend()\n",
    "    plt.ylim(*yrange)\n",
    "    plt.show()"
   ]
  },
  {
   "cell_type": "code",
   "execution_count": null,
   "metadata": {},
   "outputs": [],
   "source": [
    "exp_results;"
   ]
  },
  {
   "cell_type": "code",
   "execution_count": null,
   "metadata": {},
   "outputs": [],
   "source": [
    "pd.set_option('display.width', 1500)\n",
    "\n",
    "df = pd.DataFrame(sorted([\n",
    "    {\n",
    "        \"experiment_name\": e_name.replace(\"inp_dmfa_fullconv\", \"dmfa_fc\").replace(\"pretrained_inpainter_\", \"\"), \n",
    "        \"final_epoch_val_accuracy\": r[-1][\"metrics\"][\"accuracy\"][\"val\"],\n",
    "#         \"train\": r[-1][\"metrics\"][\"accuracy\"][\"train\"],\n",
    "    }\n",
    "    for (e_name, r)\n",
    "    in exp_results.items()\n",
    "    if \"old\" not in e_name\n",
    "], key=lambda r: -r[\"final_epoch_val_accuracy\"]),)\n",
    "\n",
    "df"
   ]
  },
  {
   "cell_type": "code",
   "execution_count": null,
   "metadata": {},
   "outputs": [],
   "source": [
    "ds = results_root.relative_to(\"../results/classification/\").parts[0]\n",
    "\n",
    "exp_name = f\"metrics_classification_{ds}_{results_root.name}\"\n",
    "\n",
    "print(exp_name)\n",
    "\n",
    "df.to_latex(f\"{exp_name}.tex\", index=False)"
   ]
  },
  {
   "cell_type": "code",
   "execution_count": null,
   "metadata": {},
   "outputs": [],
   "source": []
  },
  {
   "cell_type": "code",
   "execution_count": null,
   "metadata": {},
   "outputs": [],
   "source": []
  }
 ],
 "metadata": {
  "kernelspec": {
   "display_name": "Python 3.7.0 64-bit ('uj': conda)",
   "language": "python",
   "name": "python37064bitujconda26cc5d92af534893ad9de9cd64c222ba"
  },
  "language_info": {
   "codemirror_mode": {
    "name": "ipython",
    "version": 3
   },
   "file_extension": ".py",
   "mimetype": "text/x-python",
   "name": "python",
   "nbconvert_exporter": "python",
   "pygments_lexer": "ipython3",
   "version": "3.8.5"
  }
 },
 "nbformat": 4,
 "nbformat_minor": 4
}
