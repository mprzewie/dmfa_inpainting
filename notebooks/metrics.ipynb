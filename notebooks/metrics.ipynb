{
 "cells": [
  {
   "cell_type": "code",
   "execution_count": null,
   "metadata": {},
   "outputs": [],
   "source": [
    "import json\n",
    "from pathlib import Path\n",
    "import matplotlib.pyplot as plt\n",
    "import pandas as pd\n",
    "import seaborn as sns\n",
    "import ipywidgets as wdg"
   ]
  },
  {
   "cell_type": "markdown",
   "metadata": {},
   "source": [
    "classifiers"
   ]
  },
  {
   "cell_type": "code",
   "execution_count": null,
   "metadata": {},
   "outputs": [],
   "source": [
    "results_root = Path(\"../results/classification/mnist/exp_new_classifier_v4/\")\n",
    "\n",
    "results_root = Path(\"../results/classification/mnist/exp_val_mask_7/\")\n",
    "\n",
    "\n",
    "# results_root = Path(\"../results/classification/svhn/exp_new_classifier_v5\")\n",
    "# results_root = Path(\"../results/classification/svhn/exp_new_classifier_v5_long_training//\")\n",
    "\n",
    "# results_root = Path(\"../results/classification/svhn/exp_new_classifier_val_size_8/\")\n",
    "# results_root = Path(\"../results/classification/svhn/exp_new_classifier_val_size_0//\")\n",
    "\n",
    "\n",
    "# results_root = Path(\"../results/classification/cifar10/exp_v1/\")\n"
   ]
  },
  {
   "cell_type": "markdown",
   "metadata": {},
   "source": [
    "AE"
   ]
  },
  {
   "cell_type": "code",
   "execution_count": null,
   "metadata": {},
   "outputs": [],
   "source": [
    "results_root = Path(f\"../results/generation/mnist/ae_tryout/\")\n",
    "# results_root = Path(f\"../results/generation/svhn/ae_v3\")\n",
    "# results_root = Path(f\"../results/generation/svhn/ae_v3_long_training/\")\n"
   ]
  },
  {
   "cell_type": "markdown",
   "metadata": {},
   "source": [
    "WAE"
   ]
  },
  {
   "cell_type": "code",
   "execution_count": null,
   "metadata": {},
   "outputs": [],
   "source": [
    "\n",
    "results_root = Path(f\"../results/generation/mnist/wae_40_40_v5/\")\n",
    "\n",
    "# results_root = Path(f\"../results/generation/svhn/wae_v9/\")\n",
    "# results_root = Path(f\"../results/generation/svhn/wae_v10_long_training/\")\n",
    "\n",
    "\n",
    "\n",
    "\n",
    "results_root = Path(f\"../results/generation/celeba/64x64/experiments_v5_long_training/\")\n",
    "# results_root = Path(\"../results/classification/mnist/exp_val_mask_7/\")\n"
   ]
  },
  {
   "cell_type": "code",
   "execution_count": null,
   "metadata": {},
   "outputs": [],
   "source": [
    "exp_results = dict()\n",
    "\n",
    "for p in results_root.glob(\"*/history.json\"):\n",
    "    with p.open(\"r\") as f:\n",
    "        exp_results[p.parent.name] = json.load(f)\n",
    "        \n",
    "exp_results.keys()"
   ]
  },
  {
   "cell_type": "code",
   "execution_count": null,
   "metadata": {},
   "outputs": [],
   "source": [
    "rows = []\n",
    "\n",
    "for exp_name, hist in exp_results.items():\n",
    "    for h in hist:\n",
    "        e = h[\"epoch\"]\n",
    "        \n",
    "        for m_name, m_per_fold in h[\"metrics\"].items():\n",
    "            for fold, value in m_per_fold.items():\n",
    "                row = {\n",
    "                    \"exp_name\": exp_name,\n",
    "                    \"epoch\": e,\n",
    "                    \"fold\": fold,\n",
    "                    \"metric\": m_name,\n",
    "                    \"value\": value\n",
    "                }\n",
    "                rows.append(row)\n",
    "                \n",
    "df = pd.DataFrame(rows)"
   ]
  },
  {
   "cell_type": "code",
   "execution_count": null,
   "metadata": {},
   "outputs": [],
   "source": [
    "df"
   ]
  },
  {
   "cell_type": "code",
   "execution_count": null,
   "metadata": {},
   "outputs": [],
   "source": [
    "for fold in [\"val\"]:\n",
    "    for m in df.metric.unique():\n",
    "        plt.figure(figsize=(10,5))\n",
    "        sub_df = df[df.metric==m][df.fold==fold]\n",
    "        sns.lineplot(\n",
    "            data=sub_df, \n",
    "            x=\"epoch\",\n",
    "            y=\"value\",\n",
    "            hue=\"exp_name\",\n",
    "        )\n",
    "        last_epoch_df = sub_df[sub_df.epoch==sub_df.epoch.max()]\n",
    "        mean = last_epoch_df.value.mean()\n",
    "        margin = last_epoch_df.value.std() * 5\n",
    "        \n",
    "        plt.ylim(mean-margin, mean+margin)\n",
    "        plt.title(m)\n",
    "        plt.show()"
   ]
  },
  {
   "cell_type": "code",
   "execution_count": null,
   "metadata": {},
   "outputs": [],
   "source": []
  }
 ],
 "metadata": {
  "kernelspec": {
   "display_name": "Python 3.7.0 64-bit ('uj': conda)",
   "language": "python",
   "name": "python37064bitujconda26cc5d92af534893ad9de9cd64c222ba"
  },
  "language_info": {
   "codemirror_mode": {
    "name": "ipython",
    "version": 3
   },
   "file_extension": ".py",
   "mimetype": "text/x-python",
   "name": "python",
   "nbconvert_exporter": "python",
   "pygments_lexer": "ipython3",
   "version": "3.8.5"
  }
 },
 "nbformat": 4,
 "nbformat_minor": 4
}
