{
 "cells": [
  {
   "cell_type": "code",
   "execution_count": null,
   "metadata": {},
   "outputs": [],
   "source": [
    "import sys\n",
    "\n",
    "sys.path.append(\"..\")"
   ]
  },
  {
   "cell_type": "code",
   "execution_count": null,
   "metadata": {},
   "outputs": [],
   "source": [
    "%load_ext autoreload\n",
    "%autoreload 2"
   ]
  },
  {
   "cell_type": "code",
   "execution_count": null,
   "metadata": {},
   "outputs": [],
   "source": [
    "import numpy as np\n",
    "import matplotlib.pyplot as plt\n",
    "\n",
    "import torch\n",
    "from torch import nn\n",
    "from torch import distributions as dist\n",
    "from torch.utils.data import DataLoader, TensorDataset\n",
    "from torch import optim\n",
    "\n",
    "from torchvision.datasets import MNIST, FashionMNIST\n",
    "from torchvision import transforms as tr\n",
    "from torchvision.models import vgg11_bn\n",
    "from sklearn import datasets\n",
    "from sklearn.model_selection import train_test_split\n",
    "from sklearn.metrics import accuracy_score\n",
    "from tqdm import tqdm\n",
    "from sklearn.neural_network import MLPClassifier\n",
    "from sklearn.metrics import accuracy_score\n",
    "from pprint import pprint\n",
    "\n",
    "from pathlib import Path\n",
    "import pickle\n",
    "from torch import nn\n",
    "from inpainting.datasets.mnist import train_val_datasets\n",
    "from inpainting.visualizations.digits import digit_with_mask as vis_digit_mask\n",
    "from inpainting.visualizations import visualizations_utils as vis\n",
    "from inpainting.training import train_inpainter\n",
    "from inpainting.utils import classifier_experiment, inpainted, predictions_for_entire_loader\n",
    "from inpainting.datasets import mask_coding as mc\n",
    "from inpainting.datasets.utils import RandomRectangleMaskConfig\n",
    "from inpainting.custom_layers import Reshape\n",
    "from inpainting.losses import nll_masked_batch_loss, nll_masked_batch_loss_components, r2_masked_batch_loss, nll_masked_batch_loss_same_size_masks\n",
    "\n",
    "# from fancyimpute import NuclearNormMinimization, SoftImpute, BiScaler, MatrixFactorization, IterativeSVD, SoftImpute\n",
    "from sklearn.impute import KNNImputer#, SimpleImputer, IterativeImputer"
   ]
  },
  {
   "cell_type": "code",
   "execution_count": null,
   "metadata": {},
   "outputs": [],
   "source": [
    "# import cudf, cuml"
   ]
  },
  {
   "cell_type": "code",
   "execution_count": null,
   "metadata": {},
   "outputs": [],
   "source": [
    "ds_train, ds_val = ds_train, ds_val = train_val_datasets(\n",
    "    Path.home() / \"uj/.data/\",\n",
    "    mask_configs_train=[\n",
    "        RandomRectangleMaskConfig(mc.UNKNOWN_LOSS, 14, 14, 0,0, deterministic=True),\n",
    "    ],\n",
    "    mask_configs_val=[\n",
    "        RandomRectangleMaskConfig(mc.UNKNOWN_LOSS, 14, 14, 0,0),\n",
    "    ],\n",
    "    ds_type=MNIST,\n",
    "    resize_size=(28,28),\n",
    ")\n"
   ]
  },
  {
   "cell_type": "code",
   "execution_count": null,
   "metadata": {},
   "outputs": [],
   "source": [
    "for i, ((X, J), y) in enumerate(ds_train):\n",
    "    X_t = X.numpy()\n",
    "    J_t = J.numpy()\n",
    "    \n",
    "    fig, ax = plt.subplots(1,1)\n",
    "    \n",
    "    \n",
    "#     ax[0].imshow(X_t.reshape(28,28))\n",
    "    vis.vis_digit_mask(X_t, J_t, ax)\n",
    "    \n",
    "    if i > 5:\n",
    "        break"
   ]
  },
  {
   "cell_type": "code",
   "execution_count": null,
   "metadata": {},
   "outputs": [],
   "source": [
    "mnist_np = np.array([X.numpy() for ((X, J),y) in ds_train]).reshape(-1, 784)"
   ]
  },
  {
   "cell_type": "code",
   "execution_count": null,
   "metadata": {},
   "outputs": [],
   "source": [
    "imputers = [\n",
    "#     SimpleImputer(),\n",
    "#     IterativeImputer(),\n",
    "    KNNImputer(),\n",
    "#     NuclearNormMinimization(), \n",
    "#     SoftImpute(), \n",
    "#     BiScaler(), \n",
    "#     MatrixFactorization(), \n",
    "#     IterativeSVD(), \n",
    "#     SoftImpute()\n",
    "]"
   ]
  },
  {
   "cell_type": "code",
   "execution_count": null,
   "metadata": {},
   "outputs": [],
   "source": [
    "for imp in imputers:\n",
    "    print(imp)\n",
    "    imp.fit_transform(mnist_np)"
   ]
  },
  {
   "cell_type": "code",
   "execution_count": null,
   "metadata": {},
   "outputs": [],
   "source": [
    "for i, ((X, J), y) in enumerate(ds_val):\n",
    "    X_t = X.numpy()\n",
    "    J_t = J.numpy()\n",
    "    \n",
    "    fig, ax = plt.subplots(1, 2+len(imputers))\n",
    "    \n",
    "    \n",
    "    ax[0].imshow(X_t.reshape(28,28))\n",
    "    vis.vis_digit_mask(X_t, J_t, ax[1])\n",
    "    X_t[J_t!=1]=np.nan\n",
    "    \n",
    "    X_t = X_t.reshape(1, 784)\n",
    "    \n",
    "    for j, imp in enumerate(imputers):\n",
    "        \n",
    "        X_inp = imp.transform(X_t).reshape(28,28)\n",
    "        ax[2+j].imshow(X_inp)\n",
    "        ax[2+j].set_title(str(imp))\n",
    "    \n",
    "    plt.show()\n",
    "    \n",
    "    if i >= 10:\n",
    "        break"
   ]
  },
  {
   "cell_type": "code",
   "execution_count": null,
   "metadata": {},
   "outputs": [],
   "source": [
    "df_mean = df.mean()"
   ]
  },
  {
   "cell_type": "code",
   "execution_count": null,
   "metadata": {},
   "outputs": [],
   "source": [
    "df = cudf.DataFrame(data=mnist_np)"
   ]
  },
  {
   "cell_type": "code",
   "execution_count": null,
   "metadata": {},
   "outputs": [],
   "source": [
    "knn = cuml.neighbors.NearestNeighbors(n_neighbors=1)"
   ]
  },
  {
   "cell_type": "code",
   "execution_count": null,
   "metadata": {},
   "outputs": [],
   "source": [
    "knn.fit(df)"
   ]
  },
  {
   "cell_type": "code",
   "execution_count": null,
   "metadata": {},
   "outputs": [],
   "source": [
    "type(knn.X_m)"
   ]
  },
  {
   "cell_type": "code",
   "execution_count": null,
   "metadata": {},
   "outputs": [],
   "source": [
    "np_mean = torch.tensor(np.array(knn.X_m.mean().to_pandas())).reshape(1, 28, 28)"
   ]
  },
  {
   "cell_type": "code",
   "execution_count": null,
   "metadata": {},
   "outputs": [],
   "source": [
    "# plt.imshow(knn.X_m.to_array().reshape(28,28));"
   ]
  },
  {
   "cell_type": "code",
   "execution_count": null,
   "metadata": {},
   "outputs": [],
   "source": [
    "dl = DataLoader(ds_val, batch_size=128, shuffle=False)"
   ]
  },
  {
   "cell_type": "code",
   "execution_count": null,
   "metadata": {},
   "outputs": [],
   "source": [
    "\n",
    "for (X, J), y in dl:\n",
    "    \n",
    "    print(X.shape, J.shape)\n",
    "    \n",
    "    XJ = X * (J==1) + np_mean\n",
    "    \n",
    "    XJ_np = XJ.reshape(XJ.shape[0], -1).cpu().numpy()\n",
    "    XJ_df = cudf.DataFrame(data=XJ_np)\n",
    "    \n",
    "    dist, ind = knn.kneighbors(XJ_df, )\n",
    "    ind_np = ind.to_array()\n",
    "    \n",
    "    \n",
    "    imputations = torch.tensor(mnist_np[ind_np].reshape(len(ind_np), 1, 28, 28))\n",
    "    \n",
    "    X_inp = X * (J==1) + imputations * (J!=1)\n",
    "    \n",
    "    \n",
    "\n",
    "    for i, (x, j, xj, im, xinp) in enumerate(zip(X, J, XJ, imputations, X_inp)):\n",
    "        fig, ax = plt.subplots(1, 5)\n",
    "        ax[0].imshow(x.reshape(28,28))\n",
    "        vis.vis_digit_mask(x, j, ax[1])\n",
    "        ax[2].imshow(xj.reshape(28,28))\n",
    "        ax[3].imshow(im.reshape(28,28))\n",
    "        ax[4].imshow(xinp.reshape(28,28))\n",
    "        \n",
    "        if i >= 10:\n",
    "            break\n",
    "    \n",
    "        \n",
    "    break"
   ]
  },
  {
   "cell_type": "code",
   "execution_count": null,
   "metadata": {},
   "outputs": [],
   "source": [
    "imputations.shape"
   ]
  },
  {
   "cell_type": "code",
   "execution_count": null,
   "metadata": {},
   "outputs": [],
   "source": [
    "ind.to_array()"
   ]
  },
  {
   "cell_type": "code",
   "execution_count": null,
   "metadata": {},
   "outputs": [],
   "source": [
    "knn.X_m.loc[:, ind]"
   ]
  },
  {
   "cell_type": "code",
   "execution_count": null,
   "metadata": {},
   "outputs": [],
   "source": [
    "knn.X_m[ind]"
   ]
  },
  {
   "cell_type": "code",
   "execution_count": null,
   "metadata": {},
   "outputs": [],
   "source": [
    "# plt.imshow(X[0,0])"
   ]
  },
  {
   "cell_type": "code",
   "execution_count": null,
   "metadata": {},
   "outputs": [],
   "source": [
    "# plt.imshow(XJ[0,0])"
   ]
  },
  {
   "cell_type": "code",
   "execution_count": null,
   "metadata": {},
   "outputs": [],
   "source": []
  }
 ],
 "metadata": {
  "kernelspec": {
   "display_name": "Python 3.7.0 64-bit ('uj': conda)",
   "language": "python",
   "name": "python37064bitujconda26cc5d92af534893ad9de9cd64c222ba"
  },
  "language_info": {
   "codemirror_mode": {
    "name": "ipython",
    "version": 3
   },
   "file_extension": ".py",
   "mimetype": "text/x-python",
   "name": "python",
   "nbconvert_exporter": "python",
   "pygments_lexer": "ipython3",
   "version": "3.8.5"
  }
 },
 "nbformat": 4,
 "nbformat_minor": 4
}
