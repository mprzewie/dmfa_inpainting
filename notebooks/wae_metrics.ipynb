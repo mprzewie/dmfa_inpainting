{
 "cells": [
  {
   "cell_type": "code",
   "execution_count": null,
   "metadata": {},
   "outputs": [],
   "source": [
    "import json\n",
    "from pathlib import Path\n",
    "import matplotlib.pyplot as plt\n",
    "import pandas as pd"
   ]
  },
  {
   "cell_type": "code",
   "execution_count": null,
   "metadata": {},
   "outputs": [],
   "source": [
    "results_root = Path(f\"../results/generation/mnist/ae_tryout/\")\n",
    "\n",
    "results_root = Path(f\"../results/generation/mnist/wae_40_40_v5/\")\n",
    "\n",
    "# results_root = Path(f\"../results/generation/svhn/wae_v9/\")\n",
    "# results_root = Path(f\"../results/generation/svhn/ae_v3\")\n",
    "# results_root = Path(f\"../results/generation/svhn/wae_v10_long_training/\")\n",
    "\n",
    "# results_root = Path(f\"../results/generation/svhn/ae_v3_long_training/\")\n",
    "\n",
    "\n",
    "\n",
    "results_root = Path(f\"../results/generation/celeba/64x64/experiments_v5_long_training/\")\n"
   ]
  },
  {
   "cell_type": "code",
   "execution_count": null,
   "metadata": {},
   "outputs": [],
   "source": [
    "exp_results = dict()\n",
    "\n",
    "for p in results_root.glob(\"*/history.json\"):\n",
    "    with p.open(\"r\") as f:\n",
    "        exp_results[p.parent.name] = json.load(f)\n",
    "        \n",
    "exp_results.keys()"
   ]
  },
  {
   "cell_type": "code",
   "execution_count": null,
   "metadata": {},
   "outputs": [],
   "source": [
    "metrics_names = list(exp_results.values())[0][0][\"metrics\"].keys()\n",
    "set(metrics_names)"
   ]
  },
  {
   "cell_type": "code",
   "execution_count": null,
   "metadata": {},
   "outputs": [],
   "source": [
    "for metric in metrics_names:    \n",
    "    plt.figure(figsize=(10, 5))\n",
    "    for exp_name, results in exp_results.items():\n",
    "        if metric not in results[0][\"metrics\"]:\n",
    "            continue\n",
    "        plt.plot(\n",
    "            [r[\"epoch\"] for r in results], \n",
    "            [r[\"metrics\"][metric][\"val\"] for r in results], \n",
    "            label=f\"{exp_name}_val\"\n",
    "        )\n",
    "        \n",
    "#         plt.plot(\n",
    "#             [r[\"epoch\"] for r in results], \n",
    "#             [r[\"metrics\"][metric][\"train\"] for r in results], \n",
    "#             label=f\"{exp_name}_train\"\n",
    "#         )\n",
    "\n",
    "    plt.title(metric)\n",
    "    plt.legend()\n",
    "    plt.show()"
   ]
  },
  {
   "cell_type": "code",
   "execution_count": null,
   "metadata": {},
   "outputs": [],
   "source": [
    "df = pd.DataFrame([\n",
    "    {\n",
    "        \"experiment_name\": e_name,\n",
    "        **{\n",
    "            f\"final_{m_name}\": r[-1][\"metrics\"][m_name][\"val\"]\n",
    "            for m_name in metrics_names\n",
    "        }\n",
    "    }\n",
    "    for (e_name, r)\n",
    "    in exp_results.items()\n",
    "    if \"old\" not in e_name\n",
    "]).sort_values(\n",
    "    \"final_fid_sampling\" if \"wae\" in results_root.name else \"final_ssim\", \n",
    "    ascending=False )\n",
    "\n",
    "df"
   ]
  },
  {
   "cell_type": "code",
   "execution_count": null,
   "metadata": {},
   "outputs": [],
   "source": [
    "ds = results_root.relative_to(\"../results/generation/\").parts[0]\n",
    "exp_name = f\"metrics_generation_{ds}_{results_root.name}\"\n",
    "\n",
    "print(exp_name)\n",
    "\n",
    "df.to_latex(f\"{exp_name}.tex\", index=False)"
   ]
  },
  {
   "cell_type": "code",
   "execution_count": null,
   "metadata": {},
   "outputs": [],
   "source": []
  },
  {
   "cell_type": "code",
   "execution_count": null,
   "metadata": {},
   "outputs": [],
   "source": []
  }
 ],
 "metadata": {
  "kernelspec": {
   "display_name": "Python 3.7.0 64-bit ('uj': conda)",
   "language": "python",
   "name": "python37064bitujconda26cc5d92af534893ad9de9cd64c222ba"
  },
  "language_info": {
   "codemirror_mode": {
    "name": "ipython",
    "version": 3
   },
   "file_extension": ".py",
   "mimetype": "text/x-python",
   "name": "python",
   "nbconvert_exporter": "python",
   "pygments_lexer": "ipython3",
   "version": "3.8.5"
  }
 },
 "nbformat": 4,
 "nbformat_minor": 4
}
