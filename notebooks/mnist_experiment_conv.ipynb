{
 "cells": [
  {
   "cell_type": "code",
   "execution_count": null,
   "metadata": {},
   "outputs": [],
   "source": [
    "%load_ext autoreload\n",
    "%autoreload 2"
   ]
  },
  {
   "cell_type": "code",
   "execution_count": null,
   "metadata": {},
   "outputs": [],
   "source": [
    "import sys\n",
    "sys.path.append(\"..\")"
   ]
  },
  {
   "cell_type": "code",
   "execution_count": null,
   "metadata": {},
   "outputs": [],
   "source": [
    "import numpy as np\n",
    "import matplotlib.pyplot as plt\n",
    "\n",
    "import torch\n",
    "from torch import nn\n",
    "from torch import distributions as dist\n",
    "from torch.utils.data import DataLoader, TensorDataset\n",
    "from torch import optim\n",
    "\n",
    "from torchvision.datasets import MNIST, FashionMNIST\n",
    "from torchvision import transforms as tr\n",
    "from sklearn import datasets\n",
    "from sklearn.model_selection import train_test_split\n",
    "from sklearn.metrics import accuracy_score\n",
    "from tqdm import tqdm\n",
    "from sklearn.neural_network import MLPClassifier\n",
    "from sklearn.metrics import accuracy_score\n",
    "from pprint import pprint\n",
    "from inpainting.custom_layers import Reshape\n",
    "from inpainting.losses import nll_masked_batch_loss, r2_masked_batch_loss, r2_total_batch_loss, nll_masked_ubervectorized_batch_loss\n",
    "from inpainting.inpainters.mnist import MNISTConvolutionalInpainter\n",
    "from pathlib import Path"
   ]
  },
  {
   "cell_type": "code",
   "execution_count": null,
   "metadata": {},
   "outputs": [],
   "source": [
    "from inpainting.datasets.mnist import train_val_datasets\n",
    "from inpainting.visualizations.digits import digit_with_mask as vis_digit_mask\n",
    "from inpainting.training import train_inpainter\n",
    "from inpainting.utils import classifier_experiment, inpainted"
   ]
  },
  {
   "cell_type": "code",
   "execution_count": null,
   "metadata": {},
   "outputs": [],
   "source": [
    "import matplotlib\n",
    "matplotlib.rcParams['figure.facecolor'] = \"white\""
   ]
  },
  {
   "cell_type": "code",
   "execution_count": null,
   "metadata": {},
   "outputs": [],
   "source": [
    "!ps aux | grep mprzewie"
   ]
  },
  {
   "cell_type": "code",
   "execution_count": null,
   "metadata": {},
   "outputs": [],
   "source": [
    "!echo $CUDA_VISIBLE_DEVICES\n",
    "!nvidia-smi"
   ]
  },
  {
   "cell_type": "code",
   "execution_count": null,
   "metadata": {},
   "outputs": [],
   "source": [
    "device = torch.device(\"cuda:0\" if torch.cuda.is_available() else \"cpu\")\n",
    "# device = torch.device(\"cpu\")\n",
    "device"
   ]
  },
  {
   "cell_type": "code",
   "execution_count": null,
   "metadata": {},
   "outputs": [],
   "source": [
    "experiment_path = Path(\"../results/mnist_convolutional\")\n",
    "# experiment_path.mkdir()"
   ]
  },
  {
   "cell_type": "code",
   "execution_count": null,
   "metadata": {},
   "outputs": [],
   "source": [
    "ds_train, ds_val = train_val_datasets(\"/home/mprzewiezlikowski/uj/data/\")\n",
    "\n",
    "fig, axes = plt.subplots(10, 10, figsize=(15, 15))\n",
    "for i in range(100):\n",
    "    (x,j), y = ds_train[i]\n",
    "    ax = axes[i // 10, i%10]\n",
    "    ax.set_title(f\"{y}\")\n",
    "    vis_digit_mask(x, j,ax)\n",
    "train_fig = plt.gcf()\n",
    "train_fig.savefig(experiment_path / \"train.png\")\n",
    "plt.show()"
   ]
  },
  {
   "cell_type": "code",
   "execution_count": null,
   "metadata": {},
   "outputs": [],
   "source": [
    "# classifier = MLPClassifier((100, 200, 10,), learning_rate_init=4e-3, max_iter=1000).fit(ds_train.X.reshape(-1, 64), ds_train.y)"
   ]
  },
  {
   "cell_type": "code",
   "execution_count": null,
   "metadata": {},
   "outputs": [],
   "source": [
    "batch_size=12\n",
    "dl_train = DataLoader(ds_train, batch_size, shuffle=True)\n",
    "dl_val = DataLoader(ds_val, batch_size, shuffle=True)"
   ]
  },
  {
   "cell_type": "code",
   "execution_count": null,
   "metadata": {},
   "outputs": [],
   "source": [
    "m_std = lambda x, j, p, m, a, d: m.std(dim=0).mean()"
   ]
  },
  {
   "cell_type": "code",
   "execution_count": null,
   "metadata": {},
   "outputs": [],
   "source": [
    "device = torch.device(\"cuda:0\" if torch.cuda.is_available() else \"cpu\")\n",
    "# device = torch.device(\"cpu\")\n",
    "\n",
    "inpainter = MNISTConvolutionalInpainter(n_mixes=1)\n",
    "opt = optim.Adam(inpainter.parameters(), lr=4e-3, weight_decay=0)\n",
    "n_epochs = 50\n",
    "history = train_inpainter(\n",
    "    inpainter, \n",
    "    dl_train, \n",
    "    dl_val, \n",
    "    opt, \n",
    "    loss_fn = nll_masked_ubervectorized_batch_loss, \n",
    "    n_epochs=n_epochs,\n",
    "    losses_to_log=None,\n",
    "    device=device,\n",
    "#     tqdm_loader=True\n",
    ")"
   ]
  },
  {
   "cell_type": "code",
   "execution_count": null,
   "metadata": {},
   "outputs": [],
   "source": [
    "with (experiment_path / \"inpainter.schema\").open(\"w\") as f:\n",
    "    print(inpainter, file=f)\n",
    "\n",
    "# torch.save(inpainter.state_dict, experiment_path / \"inpainter.state\")"
   ]
  },
  {
   "cell_type": "code",
   "execution_count": null,
   "metadata": {},
   "outputs": [],
   "source": [
    "[h[\"losses\"] for h in history];"
   ]
  },
  {
   "cell_type": "code",
   "execution_count": null,
   "metadata": {},
   "outputs": [],
   "source": [
    "history[-1][\"losses\"][\"objective\"]"
   ]
  },
  {
   "cell_type": "code",
   "execution_count": null,
   "metadata": {},
   "outputs": [],
   "source": [
    "history_tmp = history\n",
    "history = history"
   ]
  },
  {
   "cell_type": "code",
   "execution_count": null,
   "metadata": {},
   "outputs": [],
   "source": [
    "for loss_name in set(history[0][\"losses\"].keys()):\n",
    "    for fold in [\"train\", \"val\"]:\n",
    "        \n",
    "        plt.plot(\n",
    "            list(range(len(history))),\n",
    "            [h[\"losses\"][loss_name][fold] for h in history],\n",
    "            label=fold\n",
    "        )\n",
    "    plt.title(loss_name)\n",
    "    plt.legend()\n",
    "    fig = plt.gcf()\n",
    "    fig.savefig(experiment_path / f\"history.{loss_name}.png\")\n",
    "    plt.show()"
   ]
  },
  {
   "cell_type": "code",
   "execution_count": null,
   "metadata": {},
   "outputs": [],
   "source": [
    "\n",
    "\n",
    "skip = 15\n",
    "\n",
    "fig, axes = plt.subplots(\n",
    "    int(np.ceil(len(history) / skip)* 2), \n",
    "    3 + inpainter.n_mixes,\n",
    "    figsize=(10,15)\n",
    ")\n",
    "\n",
    "\n",
    "for e, h in enumerate(history):\n",
    "    if e % skip !=0 and e != (len(history) -1):\n",
    "        continue\n",
    "    \n",
    "    for ax_no, fold in [(0,\"train\"), (1,\"val\")]:\n",
    "        \n",
    "        # 0 - gt\n",
    "        x, j, p, m, a, d, y = [t[0] for t in  h[\"sample_results\"][fold]]\n",
    "        row_no = (e // skip)*2 + ax_no\n",
    "        ax = axes[row_no, 0]\n",
    "        ax.imshow(x.reshape(28,28), cmap=\"gray\")\n",
    "        ax.axis(\"off\")\n",
    "        ax.set_title(f\"{e} {fold} y_gt = {y}\")\n",
    "        \n",
    "        # 1 - masked\n",
    "        ax = axes[row_no, 1]\n",
    "        vis_digit_mask(x, j, ax)\n",
    "#         y_masked_pred = classifier.predict(x.reshape(1, 64))[0]\n",
    "#         ax.set_title(f\"y_m = {y_masked_pred}\")\n",
    "        \n",
    "        # 2 - inpainted\n",
    "        ax = axes[row_no, 2]\n",
    "        x_inp = x.copy()\n",
    "        \n",
    "        m_ind = np.random.choice(np.arange(m.shape[0]), p=p)\n",
    "        m_inp = m[m_ind].reshape(x.shape)\n",
    "        \n",
    "        x_inp[j==0] = m_inp[j==0]\n",
    "#         y_inp_pred = classifier.predict(x_inp.reshape(1, 64))[0]\n",
    "\n",
    "        ax.imshow(x_inp.reshape(28,28), cmap=\"gray\", vmin=0, vmax=1)\n",
    "        ax.axis(\"off\")\n",
    "#         ax.set_title(f\"y_inp = {y_inp_pred}\")\n",
    "        \n",
    "        \n",
    "        for i, m_ in enumerate(m):\n",
    "            ax = axes[row_no, 3 + i]\n",
    "\n",
    "            ax.imshow(m_.reshape(28,28), cmap=\"gray\", vmin=0, vmax=1)\n",
    "            ax.axis(\"off\")\n",
    "            p_form = int(p[i] * 100) / 100\n",
    "            chosen = \"chosen \" if i == m_ind else \"\" \n",
    "            ax.set_title(chosen + f\"M_{i}, p={p_form}\")\n",
    "\n",
    "epochs_fig = plt.gcf()\n",
    "epochs_fig.savefig(experiment_path / \"epochs_renders.png\")"
   ]
  },
  {
   "cell_type": "code",
   "execution_count": null,
   "metadata": {},
   "outputs": [],
   "source": [
    "epochs_path = experiment_path / \"epochs\"\n",
    "epochs_path.mkdir()\n",
    "\n",
    "skip = 5\n",
    "n_rows = 16\n",
    "\n",
    "\n",
    "for e, h in enumerate(history):\n",
    "    if e % skip !=0 and e != (len(history) -1):\n",
    "        continue\n",
    "    \n",
    "    for ax_no, fold in [(0,\"train\"), (1,\"val\")]:\n",
    "        \n",
    "        X, J, P, M, A, D, Y = h[\"sample_results\"][fold]\n",
    "        fig, axes = plt.subplots(\n",
    "            n_rows, \n",
    "            3 + inpainter.n_mixes,\n",
    "            figsize=(10,15)\n",
    "        )\n",
    "        for row_no, (x, j, p, m ,a, d, y) in enumerate(zip(X, J, P, M, A, D, Y)):\n",
    "            if row_no >= n_rows:\n",
    "                continue\n",
    "            \n",
    "            ax = axes[row_no, 0]\n",
    "            ax.imshow(x.reshape(28,28), cmap=\"gray\")\n",
    "            ax.axis(\"off\")\n",
    "#             ax.set_title(f\"y_gt = {y}\")\n",
    "\n",
    "            # 1 - masked\n",
    "            ax = axes[row_no, 1]\n",
    "            vis_digit_mask(x, j, ax)\n",
    "#             y_masked_pred = classifier.predict(x.reshape(-1, 64))[0]\n",
    "#             ax.set_title(f\"y_m = {y_masked_pred}\")\n",
    "\n",
    "            # 2 - inpainted\n",
    "            ax = axes[row_no, 2]\n",
    "            x_inp = x.copy()\n",
    "            m_ind = np.random.choice(np.arange(m.shape[0]), p=p)\n",
    "            m_inp = m[m_ind].reshape(x.shape)\n",
    "            x_inp[j==0] = m_inp[j==0]\n",
    "#             y_inp_pred = classifier.predict(x_inp.reshape(-1, 64))[0]\n",
    "\n",
    "            ax.imshow(x_inp.reshape(28,28), cmap=\"gray\")\n",
    "            ax.axis(\"off\")\n",
    "#             ax.set_title(f\"y_inp = {y_inp_pred}\")\n",
    "            # 3 - M\n",
    "            \n",
    "            for i, m_ in enumerate(m):\n",
    "                ax = axes[row_no, 3 + i]\n",
    "\n",
    "                ax.imshow(m_.reshape(28,28), cmap=\"gray\", vmin=0, vmax=1)\n",
    "                ax.axis(\"off\")\n",
    "                p_form = int(p[i] * 100) / 100\n",
    "                chosen = \"chosen \" if i == m_ind else \"\"\n",
    "                ax.set_title(chosen + f\"M_{i}, p={p_form}\")\n",
    "        \n",
    "        title = f\"{e}_{fold}\"\n",
    "        plt.suptitle(title)\n",
    "        plt.savefig(epochs_path / f\"{title}.png\")\n",
    "#         plt.show()\n",
    "            \n",
    "\n",
    "# epochs_fig = plt.gcf()\n",
    "# epochs_fig.savefig(experiment_path / \"epochs_renders.png\")"
   ]
  },
  {
   "cell_type": "code",
   "execution_count": null,
   "metadata": {},
   "outputs": [],
   "source": []
  }
 ],
 "metadata": {
  "kernelspec": {
   "display_name": "Python 3",
   "language": "python",
   "name": "python3"
  },
  "language_info": {
   "codemirror_mode": {
    "name": "ipython",
    "version": 3
   },
   "file_extension": ".py",
   "mimetype": "text/x-python",
   "name": "python",
   "nbconvert_exporter": "python",
   "pygments_lexer": "ipython3",
   "version": "3.7.0"
  }
 },
 "nbformat": 4,
 "nbformat_minor": 4
}
