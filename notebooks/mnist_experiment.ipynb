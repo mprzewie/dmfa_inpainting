{
 "cells": [
  {
   "cell_type": "code",
   "execution_count": 1,
   "metadata": {},
   "outputs": [],
   "source": [
    "%load_ext autoreload\n",
    "%autoreload 2"
   ]
  },
  {
   "cell_type": "code",
   "execution_count": 2,
   "metadata": {},
   "outputs": [],
   "source": [
    "import sys\n",
    "sys.path.append(\"..\")"
   ]
  },
  {
   "cell_type": "code",
   "execution_count": 3,
   "metadata": {},
   "outputs": [],
   "source": [
    "import numpy as np\n",
    "import matplotlib.pyplot as plt\n",
    "\n",
    "import torch\n",
    "from torch import nn\n",
    "from torch import distributions as dist\n",
    "from torch.utils.data import DataLoader, TensorDataset\n",
    "from torch import optim\n",
    "\n",
    "from torchvision.datasets import MNIST, FashionMNIST\n",
    "from torchvision import transforms as tr\n",
    "from torchvision.models import vgg11_bn\n",
    "from sklearn import datasets\n",
    "from sklearn.model_selection import train_test_split\n",
    "from sklearn.metrics import accuracy_score\n",
    "from tqdm import tqdm\n",
    "from sklearn.neural_network import MLPClassifier\n",
    "from sklearn.metrics import accuracy_score\n",
    "from pprint import pprint\n",
    "\n",
    "from pathlib import Path\n",
    "import pickle\n",
    "\n",
    "from torch.optim import lr_scheduler\n",
    "import torch_optimizer as toptim\n",
    "\n"
   ]
  },
  {
   "cell_type": "code",
   "execution_count": 4,
   "metadata": {},
   "outputs": [],
   "source": [
    "from inpainting.datasets.mnist import train_val_datasets\n",
    "from inpainting.visualizations.digits import digit_with_mask as vis_digit_mask\n",
    "from inpainting.training import train_inpainter\n",
    "from inpainting.utils import classifier_experiment, inpainted, predictions_for_entire_loader\n",
    "import inpainting.visualizations.samples as vis\n",
    "from inpainting.datasets import mask_coding as mc\n",
    "from inpainting.datasets.utils import RandomRectangleMaskConfig\n",
    "from inpainting.custom_layers import Reshape\n",
    "from inpainting.losses import nll_masked_batch_loss, nll_masked_batch_loss_components, r2_masked_batch_loss, nll_masked_batch_loss_same_size_masks\n",
    "from inpainting.inpainters.mnist import MNISTLinearInpainter, MNISTConvolutionalInpainter, MNISTFullyConvolutionalInpainter\n",
    "from inpainting import backbones as bkb"
   ]
  },
  {
   "cell_type": "code",
   "execution_count": 5,
   "metadata": {},
   "outputs": [],
   "source": [
    "import matplotlib\n",
    "matplotlib.rcParams['figure.facecolor'] = \"white\""
   ]
  },
  {
   "cell_type": "code",
   "execution_count": 6,
   "metadata": {},
   "outputs": [
    {
     "name": "stdout",
     "output_type": "stream",
     "text": [
      "root      7065  0.0  0.0  91308  7076 ?        Ss   16:32   0:00 sshd: mprzewiezlikowski [priv]\n",
      "mprzewi+  7103  0.0  0.0  91308  4692 ?        S    16:32   0:00 sshd: mprzewiezlikowski@pts/0\n",
      "mprzewi+  7731  0.2  0.1 484844 87360 pts/18   Sl+  16:33   0:32 /home/mprzewiezlikowski/anaconda3/envs/uj/bin/python /home/mprzewiezlikowski/anaconda3/envs/uj/bin/jupyter-lab --no-browser --port 6789\n",
      "mprzewi+  8279  0.0  0.0 528532 45808 ?        Ssl  16:34   0:01 /home/mprzewiezlikowski/anaconda3/envs/uj/bin/python -m ipykernel_launcher -f /home/mprzewiezlikowski/.local/share/jupyter/runtime/kernel-62f8dd8a-5ffd-43c4-84cb-72d91c040c04.json\n",
      "mprzewi+ 15076 15.0  0.3 2145540 221612 ?      Ssl  20:59   0:01 /home/mprzewiezlikowski/anaconda3/envs/uj/bin/python -m ipykernel_launcher -f /home/mprzewiezlikowski/.local/share/jupyter/runtime/kernel-81fde4de-6344-4e2a-8e61-4c14a395bf1b.json\n",
      "mprzewi+ 15186  0.0  0.0   4500   744 pts/26   Ss+  20:59   0:00 /bin/sh -c ps aux | grep mprzewie\n",
      "root     21386  0.0  0.0  91308  4732 ?        Ss   Apr22   0:00 sshd: mprzewiezlikowski [priv]\n",
      "mprzewi+ 21420  0.0  0.0  92208  4700 ?        S    Apr22   0:23 sshd: mprzewiezlikowski\n",
      "root     27638  0.7  0.1 558332 102556 ?       Ssl  Apr20  43:20 /usr/sbin/glusterfs --acl --negative-timeout=60 --process-name fuse --volfile-server=s04.storage --volfile-server=s06.storage --volfile-id=gmum_home --subdir-mount=//home/mprzewiezlikowski /home/mprzewiezlikowski\n"
     ]
    }
   ],
   "source": [
    "!ps aux | grep mprzewie"
   ]
  },
  {
   "cell_type": "code",
   "execution_count": 7,
   "metadata": {},
   "outputs": [
    {
     "name": "stdout",
     "output_type": "stream",
     "text": [
      "0\n",
      "Fri Apr 24 20:59:42 2020       \n",
      "+-----------------------------------------------------------------------------+\n",
      "| NVIDIA-SMI 440.59       Driver Version: 440.59       CUDA Version: 10.2     |\n",
      "|-------------------------------+----------------------+----------------------+\n",
      "| GPU  Name        Persistence-M| Bus-Id        Disp.A | Volatile Uncorr. ECC |\n",
      "| Fan  Temp  Perf  Pwr:Usage/Cap|         Memory-Usage | GPU-Util  Compute M. |\n",
      "|===============================+======================+======================|\n",
      "|   0  GeForce GTX 108...  Off  | 00000000:05:00.0 Off |                  N/A |\n",
      "| 51%   62C    P0    67W / 250W |      0MiB / 11175MiB |      0%      Default |\n",
      "+-------------------------------+----------------------+----------------------+\n",
      "|   1  GeForce GTX 108...  Off  | 00000000:09:00.0 Off |                  N/A |\n",
      "| 46%   76C    P2    98W / 250W |   5060MiB / 11178MiB |     38%      Default |\n",
      "+-------------------------------+----------------------+----------------------+\n",
      "|   2  GeForce GTX 108...  Off  | 00000000:0B:00.0 Off |                  N/A |\n",
      "| 33%   49C    P0    57W / 250W |      0MiB / 11178MiB |      2%      Default |\n",
      "+-------------------------------+----------------------+----------------------+\n",
      "                                                                               \n",
      "+-----------------------------------------------------------------------------+\n",
      "| Processes:                                                       GPU Memory |\n",
      "|  GPU       PID   Type   Process name                             Usage      |\n",
      "|=============================================================================|\n",
      "|    1       424      C   python                                       841MiB |\n",
      "|    1       437      C   python                                       841MiB |\n",
      "|    1       451      C   python                                       841MiB |\n",
      "|    1       468      C   python                                       841MiB |\n",
      "|    1     10726      C   python                                       833MiB |\n",
      "|    1     18289      C   ...tov/anaconda3/envs/act_learn/bin/python   853MiB |\n",
      "+-----------------------------------------------------------------------------+\n"
     ]
    }
   ],
   "source": [
    "!echo $CUDA_VISIBLE_DEVICES\n",
    "!nvidia-smi"
   ]
  },
  {
   "cell_type": "code",
   "execution_count": 8,
   "metadata": {},
   "outputs": [
    {
     "data": {
      "text/plain": [
       "device(type='cuda')"
      ]
     },
     "execution_count": 8,
     "metadata": {},
     "output_type": "execute_result"
    }
   ],
   "source": [
    "device = torch.device(\"cuda\" if torch.cuda.is_available() else \"cpu\")\n",
    "# device = torch.device(\"cpu\")\n",
    "device"
   ]
  },
  {
   "cell_type": "code",
   "execution_count": 9,
   "metadata": {},
   "outputs": [],
   "source": [
    "experiment_path = Path(\"../results/mnist/fullconv/nll_adam_4e-5__50_epochs\")\n",
    "experiment_path.mkdir(exist_ok=True, parents=True)"
   ]
  },
  {
   "cell_type": "code",
   "execution_count": 10,
   "metadata": {},
   "outputs": [
    {
     "data": {
      "image/png": "[encoded data removed]",
      "text/plain": [
       "<Figure size 1080x1080 with 100 Axes>"
      ]
     },
     "metadata": {},
     "output_type": "display_data"
    }
   ],
   "source": [
    "ds_train, ds_val = train_val_datasets(\n",
    "    Path.home() / \"uj/data/\",\n",
    "    mask_configs=[\n",
    "#         RandomRectangleMaskConfig(mc.UNKNOWN_LOSS, 28,28, 0,0),\n",
    "\n",
    "        RandomRectangleMaskConfig(mc.UNKNOWN_LOSS, 16, 16, 0,0),\n",
    "#         RandomRectangleMaskConfig(mc.UNKNOWN_NO_LOSS, 14,14, 0,0)\n",
    "    ],\n",
    "    ds_type=MNIST,\n",
    "    resize_size=(32,32)\n",
    ")\n",
    "\n",
    "fig, axes = plt.subplots(10, 10, figsize=(15, 15))\n",
    "for i in range(100):\n",
    "    (x,j), y = ds_train[i]\n",
    "    ax = axes[i // 10, i%10]\n",
    "    ax.set_title(f\"{y}\")\n",
    "    vis_digit_mask(x, j,ax)\n",
    "train_fig = plt.gcf()\n",
    "train_fig.savefig(experiment_path / \"train.png\")\n",
    "plt.show()"
   ]
  },
  {
   "cell_type": "code",
   "execution_count": 11,
   "metadata": {},
   "outputs": [],
   "source": [
    "batch_size=128\n",
    "dl_train = DataLoader(ds_train, batch_size, shuffle=True)\n",
    "dl_val = DataLoader(ds_val, batch_size, shuffle=True)"
   ]
  },
  {
   "cell_type": "code",
   "execution_count": 12,
   "metadata": {},
   "outputs": [],
   "source": [
    "log_noms = lambda x,j,p,m,a,d : nll_masked_batch_loss_components(\n",
    "    x,j,p,m,a,d\n",
    ")[\"log_noms\"]\n",
    "\n",
    "x_minus_means = lambda x,j,p,m,a,d : nll_masked_batch_loss_components(\n",
    "    x,j,p,m,a,d\n",
    ")[\"x_minus_means\"]\n",
    "\n",
    "mse = lambda x,j,p,m,a,d : nll_masked_batch_loss_components(\n",
    "    x,j,p,m,a,d\n",
    ")[\"x_minus_means_2\"]\n",
    "\n",
    "log_dets = lambda x,j,p,m,a,d : nll_masked_batch_loss_components(\n",
    "    x,j,p,m,a,d\n",
    ")[\"log_dets\"]\n",
    "\n",
    "log_2_pi = lambda x,j,p,m,a,d : nll_masked_batch_loss_components(\n",
    "    x,j,p,m,a,d\n",
    ")[\"log_2_pi\"]\n",
    "\n",
    "a_var = lambda x,j,p,m,a,d : a.var()\n",
    "a_mean = lambda x,j,p,m,a,d : a.mean()"
   ]
  },
  {
   "cell_type": "code",
   "execution_count": 13,
   "metadata": {
    "scrolled": true
   },
   "outputs": [
    {
     "name": "stdout",
     "output_type": "stream",
     "text": [
      "{'all params': 76829127, 'backbone params': 76415104}\n"
     ]
    },
    {
     "name": "stderr",
     "output_type": "stream",
     "text": [
      "  0%|          | 0/469 [00:00<?, ?it/s]\n",
      "  0%|          | 0/79 [00:00<?, ?it/s]\u001b[A/home/mprzewiezlikowski/anaconda3/envs/uj/lib/python3.7/site-packages/torch/nn/modules/container.py:100: UserWarning: Implicit dimension choice for softmax has been deprecated. Change the call to include dim=X as an argument.\n",
      "  input = module(input)\n",
      " 11%|█         | 51/469 [00:07<00:58,  7.19it/s]\n",
      "  1%|▏         | 1/79 [00:07<09:31,  7.33s/it]\u001b[A\n",
      "  3%|▎         | 2/79 [00:07<06:38,  5.18s/it]\u001b[A\n",
      "  4%|▍         | 3/79 [00:07<04:38,  3.67s/it]\u001b[A\n",
      "  5%|▌         | 4/79 [00:07<03:15,  2.61s/it]\u001b[A\n",
      "  6%|▋         | 5/79 [00:07<02:18,  1.87s/it]\u001b[A\n",
      "  8%|▊         | 6/79 [00:08<01:38,  1.35s/it]\u001b[A\n",
      "  9%|▉         | 7/79 [00:08<01:11,  1.01it/s]\u001b[A\n",
      " 10%|█         | 8/79 [00:08<00:52,  1.36it/s]\u001b[A\n",
      " 11%|█▏        | 9/79 [00:08<00:38,  1.80it/s]\u001b[A\n",
      " 13%|█▎        | 10/79 [00:08<00:29,  2.32it/s]\u001b[A\n",
      " 14%|█▍        | 11/79 [00:08<00:23,  2.91it/s]\u001b[A\n",
      " 15%|█▌        | 12/79 [00:08<00:18,  3.54it/s]\u001b[A\n",
      " 16%|█▋        | 13/79 [00:09<00:15,  4.17it/s]\u001b[A\n",
      " 18%|█▊        | 14/79 [00:09<00:13,  4.76it/s]\u001b[A\n",
      " 19%|█▉        | 15/79 [00:09<00:12,  5.28it/s]\u001b[A\n",
      " 20%|██        | 16/79 [00:09<00:11,  5.73it/s]\u001b[A\n",
      " 22%|██▏       | 17/79 [00:09<00:10,  6.09it/s]\u001b[A\n",
      " 23%|██▎       | 18/79 [00:09<00:09,  6.35it/s]\u001b[A\n",
      " 24%|██▍       | 19/79 [00:09<00:09,  6.54it/s]\u001b[A\n",
      " 25%|██▌       | 20/79 [00:10<00:08,  6.69it/s]\u001b[A\n",
      " 27%|██▋       | 21/79 [00:10<00:08,  6.81it/s]\u001b[A\n",
      " 28%|██▊       | 22/79 [00:10<00:08,  6.91it/s]\u001b[A\n",
      " 29%|██▉       | 23/79 [00:10<00:08,  6.97it/s]\u001b[A\n",
      " 30%|███       | 24/79 [00:10<00:07,  7.02it/s]\u001b[A\n",
      " 32%|███▏      | 25/79 [00:10<00:07,  7.04it/s]\u001b[A\n",
      " 33%|███▎      | 26/79 [00:10<00:07,  7.06it/s]\u001b[A\n",
      " 34%|███▍      | 27/79 [00:10<00:07,  7.07it/s]\u001b[A\n",
      " 35%|███▌      | 28/79 [00:11<00:07,  7.10it/s]\u001b[A\n",
      " 37%|███▋      | 29/79 [00:11<00:07,  7.11it/s]\u001b[A\n",
      " 38%|███▊      | 30/79 [00:11<00:06,  7.13it/s]\u001b[A\n",
      " 39%|███▉      | 31/79 [00:11<00:06,  7.14it/s]\u001b[A\n",
      " 41%|████      | 32/79 [00:11<00:06,  7.14it/s]\u001b[A\n",
      " 42%|████▏     | 33/79 [00:11<00:06,  7.14it/s]\u001b[A\n",
      " 43%|████▎     | 34/79 [00:11<00:06,  7.14it/s]\u001b[A\n",
      " 44%|████▍     | 35/79 [00:12<00:06,  7.15it/s]\u001b[A\n",
      " 46%|████▌     | 36/79 [00:12<00:06,  7.16it/s]\u001b[A\n",
      " 47%|████▋     | 37/79 [00:12<00:05,  7.17it/s]\u001b[A\n",
      " 48%|████▊     | 38/79 [00:12<00:05,  7.17it/s]\u001b[A\n",
      " 49%|████▉     | 39/79 [00:12<00:05,  7.17it/s]\u001b[A\n",
      " 51%|█████     | 40/79 [00:12<00:05,  7.17it/s]\u001b[A\n",
      " 52%|█████▏    | 41/79 [00:12<00:05,  7.17it/s]\u001b[A\n",
      " 53%|█████▎    | 42/79 [00:13<00:05,  7.16it/s]\u001b[A\n",
      " 54%|█████▍    | 43/79 [00:13<00:05,  7.16it/s]\u001b[A\n",
      " 56%|█████▌    | 44/79 [00:13<00:04,  7.17it/s]\u001b[A\n",
      " 57%|█████▋    | 45/79 [00:13<00:04,  7.17it/s]\u001b[A\n",
      " 58%|█████▊    | 46/79 [00:13<00:04,  7.17it/s]\u001b[A\n",
      " 59%|█████▉    | 47/79 [00:13<00:04,  7.15it/s]\u001b[A\n",
      " 61%|██████    | 48/79 [00:13<00:04,  7.16it/s]\u001b[A\n",
      " 62%|██████▏   | 49/79 [00:14<00:04,  7.14it/s]\u001b[A\n",
      " 63%|██████▎   | 50/79 [00:14<00:04,  7.15it/s]\u001b[A\n",
      " 65%|██████▍   | 51/79 [00:14<00:03,  7.14it/s]\u001b[A\n",
      "\n",
      "520it [08:00,  1.06it/s]                         \n",
      "\u001b[A                                            \n",
      "\n",
      "520it [08:00,  1.08it/s]              \n",
      "102it [08:28,  3.78it/s]                          \n",
      "153it [16:45,  4.34it/s] :14<6:43:32, 494.13s/it]\u001b[A\n",
      "204it [25:03,  3.52it/s] :31<6:36:07, 495.15s/it]\u001b[A\n",
      "  6%|▌         | 3/50 [24:48<6:28:18, 495.72s/it]\u001b[A"
     ]
    },
    {
     "name": "stdout",
     "output_type": "stream",
     "text": [
      "{'log_noms': tensor([ 276.0862,  132.8491,  157.0605,  184.3658,  233.4311, 1776.9001,\n",
      "         120.6032,   90.9175,  209.0941,  162.3312,  202.4495,  174.2656,\n",
      "         223.9272,  389.9996,   60.1826,  141.0226,  376.0538,  164.4709,\n",
      "         219.1521,  115.8433,  425.9239,  225.1764,   57.5366,  159.9123,\n",
      "         118.9602,  292.1974,   90.3412,  175.8796,   78.8356,  190.7912,\n",
      "         203.6098,   56.6849,  118.3098,   96.5148,  244.4852,  405.5988,\n",
      "         202.9958,   75.1110,  218.7983, 1270.6809,  170.7286,  157.8221,\n",
      "         169.9656,   54.6323,  304.8137,  148.8092,  256.0874,  211.1264,\n",
      "         149.3229,  115.1846,  160.1795,  120.5264,  227.7516,  196.8584,\n",
      "         158.8266,  318.0132,  111.7480,  146.6478,  195.9399,  211.9743,\n",
      "         217.7624,  223.2148,   97.8764,  163.1410,   88.6240,  436.9745,\n",
      "         111.9073,  245.0771,  268.5366,  151.8010,  369.7885,  199.6528,\n",
      "         152.1133,  149.2782,  288.7226,  163.4874,  240.5738,  280.7300,\n",
      "         153.0255,  129.1339,  114.4897,  295.8325,  119.6463,  151.6878,\n",
      "         222.5117,  107.5591,  207.7965,  104.5426,   71.0306,  130.0320,\n",
      "         128.6179,  129.4373,  353.2419,  697.0677,   84.8307,  245.1032,\n",
      "         140.8319,  160.6136,   95.4495,  168.7077,  294.4983, 1331.1476,\n",
      "         178.4095,  182.7876,  468.1624,  248.1753,  135.5776,  110.5997,\n",
      "         119.7251,  153.1748,   98.7051,  147.7648,   67.9392,  234.6274,\n",
      "         263.7261,  428.1304,  137.1384,   62.3959,  282.3357,  160.5514,\n",
      "         369.9839,  222.5238, -117.9101,  164.7533,  265.3543,   95.9612,\n",
      "         113.4674,  229.0319], device='cuda:0', grad_fn=<ViewBackward>), 'log_dets_lemma': tensor([ -857.1147, -1275.1171, -1009.3257,  -806.6601,  -916.3671, -1813.7295,\n",
      "        -1674.1412, -1436.8220, -1380.2255, -1102.9559,  -758.9113,  -732.2228,\n",
      "         -732.4202,  -700.1444, -1406.2366,  -984.7398,  -672.9062, -2152.2141,\n",
      "        -1115.8972, -2241.5017,  -685.4699,  -690.3671, -1659.3406, -1731.7523,\n",
      "        -1171.8910, -1127.2067, -1535.2386, -1836.2477, -1513.4728,  -800.3065,\n",
      "         -926.5558, -1426.5717,  -997.3054, -1153.2416, -1313.5341,  -819.4254,\n",
      "        -1537.5529, -1186.6140, -1119.4713, -2123.5435, -1070.8350, -1154.1620,\n",
      "        -1069.6837, -1178.3801,  -706.0820, -1052.1201,  -902.6470,  -829.4015,\n",
      "        -1286.1606,  -717.0265,  -986.1063, -1952.7570, -1073.7802,  -946.4343,\n",
      "         -888.5176,  -684.6486, -1498.1125, -1912.4681,  -658.1732,  -953.6806,\n",
      "         -866.1794, -1031.3724, -1131.1802, -1887.2550, -1987.6777,  -853.6969,\n",
      "        -1319.9500, -1110.4985,  -817.4949, -1143.0636,  -786.1584,  -981.8884,\n",
      "        -1336.1401,  -847.3997,  -887.8896,  -880.3572,  -902.2225, -1092.8450,\n",
      "         -839.3428, -1729.2737, -1490.2410,  -901.9531, -1056.1776, -1142.5459,\n",
      "        -1229.6779, -1293.4233, -1323.6929,  -876.7455, -1270.6444,  -948.4887,\n",
      "        -1001.7683, -1319.3419,  -792.3477,  -791.5628, -1606.4750,  -990.2990,\n",
      "        -1167.5681,  -810.9751, -1957.1324,  -863.1769,  -857.8992,        nan,\n",
      "        -1272.6111, -1081.8708,  -839.3632, -1748.8042, -1160.8468, -1435.3773,\n",
      "        -1105.9358, -1316.0081, -1255.4904,  -844.5038, -1048.5524,  -700.0626,\n",
      "        -1689.7924,  -719.0191, -1194.9021, -1829.9818,  -858.6293, -1711.5627,\n",
      "        -1504.0875,  -756.7445, -2233.0144, -1566.0337, -1769.1023, -1150.7729,\n",
      "        -1317.3707,  -881.5389], device='cuda:0', grad_fn=<AddBackward0>), 'd': tensor([[False, False, False,  ..., False, False, False],\n",
      "        [False, False, False,  ..., False, False, False],\n",
      "        [False, False, False,  ..., False, False, False],\n",
      "        ...,\n",
      "        [False, False, False,  ..., False, False, False],\n",
      "        [False, False, False,  ..., False, False, False],\n",
      "        [False, False, False,  ..., False, False, False]], device='cuda:0'), 'l_s.logdet': tensor([28.0929, 23.8989, 25.3719, 23.6338, 25.8346, 30.7783, 29.0020, 27.0289,\n",
      "        30.9929, 25.2815, 22.3675, 22.9326, 21.0849, 20.3559, 28.6261, 22.1713,\n",
      "        22.3737, 31.2515, 25.5308, 26.2580, 20.3452, 18.5417, 28.9906, 30.3603,\n",
      "        23.3943, 28.7321, 29.8252, 31.3631, 29.3849, 23.2429, 24.6077, 28.1420,\n",
      "        26.3130, 28.2472, 29.9292, 25.7788, 32.0042, 26.4590, 29.8001, 30.1924,\n",
      "        23.8839, 27.5486, 26.6406, 26.1581, 20.0185, 26.9716, 23.6899, 21.9676,\n",
      "        28.0597, 22.6168, 26.4829, 30.6478, 27.4219, 25.4131, 23.6065, 21.7949,\n",
      "        27.4761, 31.1447, 19.7385, 24.6847, 23.8186, 26.8201, 27.2591, 30.8611,\n",
      "        30.3621, 24.5464, 28.8954, 30.7125, 24.1105, 27.2341, 22.9117, 27.1986,\n",
      "        26.0048, 24.4582, 22.2077, 24.2544, 25.1206, 30.6042, 24.9896, 27.9878,\n",
      "        27.5092, 22.7487, 26.5024, 27.8875, 26.5845, 27.7316, 30.6424, 24.5533,\n",
      "        27.2015, 25.8010, 23.7441, 25.6751, 21.9027, 26.1335, 28.4400, 25.7742,\n",
      "        26.4159, 22.4150, 30.5810, 26.5427, 24.1246,     nan, 30.3966, 25.0964,\n",
      "        25.2816, 29.4735, 27.3373, 28.2675, 24.8086, 28.7695, 24.3514, 23.8294,\n",
      "        27.0849, 20.4978, 30.8397, 24.6233, 26.7768, 27.8606, 25.6938, 29.9638,\n",
      "        27.8916, 22.0142, 26.0631, 30.1779, 32.4483, 27.2252, 27.8337, 24.9826],\n",
      "       device='cuda:0', grad_fn=<LogdetBackward>), 'l_s.det': tensor([ 1.5871e+12,  2.3942e+10,  1.0444e+11,  1.8367e+10,  1.6589e+11,\n",
      "         2.3273e+13,  3.9394e+12,  5.4765e+11,  2.8844e+13,  9.5418e+10,\n",
      "         5.1771e+09,  9.1097e+09,  1.4357e+09,  6.9253e+08,  2.7050e+12,\n",
      "         4.2545e+09,  5.2092e+09,  3.7357e+13,  1.2242e+11,  2.5335e+11,\n",
      "         6.8519e+08,  1.1287e+08,  3.8944e+12,  1.5321e+13,  1.4455e+10,\n",
      "         3.0075e+12,  8.9730e+12,  4.1766e+13,  5.7767e+12,  1.2424e+10,\n",
      "         4.8637e+10,  1.6669e+12,  2.6766e+11,  1.8519e+12,  9.9565e+12,\n",
      "         1.5689e+11,  7.9296e+13,  3.0974e+11,  8.7504e+12,  1.2953e+13,\n",
      "         2.3586e+10,  9.2091e+11,  3.7143e+11,  2.2925e+11,  4.9424e+08,\n",
      "         5.1716e+11,  1.9426e+10,  3.4705e+09,  1.5352e+12,  6.6428e+09,\n",
      "         3.1724e+11,  2.0425e+13,  8.1133e+11,  1.0883e+11,  1.7872e+10,\n",
      "         2.9201e+09,  8.5652e+11,  3.3572e+13,  3.7354e+08,  5.2534e+10,\n",
      "         2.2094e+10,  4.4445e+11,  6.8939e+11,  2.5280e+13,  1.5350e+13,\n",
      "         4.5746e+10,  3.5409e+12,  2.1790e+13,  2.9585e+10,  6.7240e+11,\n",
      "         8.9217e+09,  6.4892e+11,  1.9667e+11,  4.1886e+10,  4.4126e+09,\n",
      "         3.4161e+10,  8.1237e+10,  1.9555e+13,  7.1260e+10,  1.4287e+12,\n",
      "         8.8527e+11,  7.5791e+09,  3.2347e+11,  1.2923e+12,  3.5115e+11,\n",
      "         1.1058e+12,  2.0315e+13,  4.6064e+10,  6.5082e+11,  1.6041e+11,\n",
      "         2.0508e+10,  1.4144e+11,  3.2526e+09,  2.2368e+11,  2.2457e+12,\n",
      "         1.5617e+11,  2.9668e+11,  5.4291e+09,  1.9105e+13,  3.3679e+11,\n",
      "         3.0003e+10, -4.1554e+09,  1.5889e+13,  7.9288e+10,  9.5426e+10,\n",
      "         6.3124e+12,  7.4550e+11,  1.8899e+12,  5.9462e+10,  3.1220e+12,\n",
      "         3.7642e+10,  2.2333e+10,  5.7920e+11,  7.9812e+08,  2.4746e+13,\n",
      "         4.9404e+10,  4.2560e+11,  1.2580e+12,  1.4410e+11,  1.0307e+13,\n",
      "         1.2977e+12,  3.6360e+09,  2.0848e+11,  1.2767e+13,  1.2363e+14,\n",
      "         6.6640e+11,  1.2247e+12,  7.0762e+10], device='cuda:0',\n",
      "       grad_fn=<DetBackward>)}\n"
     ]
    },
    {
     "ename": "TypeError",
     "evalue": "Invalid shape (1, 32, 32) for image data",
     "output_type": "error",
     "traceback": [
      "\u001b[0;31m---------------------------------------------------------------------------\u001b[0m",
      "\u001b[0;31mTypeError\u001b[0m                                 Traceback (most recent call last)",
      "\u001b[0;32m<ipython-input-13-af577adae992>\u001b[0m in \u001b[0;36m<module>\u001b[0;34m\u001b[0m\n\u001b[1;32m     40\u001b[0m         \u001b[0mlog_dets\u001b[0m\u001b[0;34m=\u001b[0m\u001b[0mlog_dets\u001b[0m\u001b[0;34m,\u001b[0m\u001b[0;34m\u001b[0m\u001b[0m\n\u001b[1;32m     41\u001b[0m         \u001b[0ma_var\u001b[0m\u001b[0;34m=\u001b[0m\u001b[0ma_var\u001b[0m\u001b[0;34m,\u001b[0m\u001b[0;34m\u001b[0m\u001b[0m\n\u001b[0;32m---> 42\u001b[0;31m         \u001b[0mnll\u001b[0m\u001b[0;34m=\u001b[0m\u001b[0mnll_masked_batch_loss\u001b[0m\u001b[0;34m\u001b[0m\u001b[0m\n\u001b[0m\u001b[1;32m     43\u001b[0m     )\n\u001b[1;32m     44\u001b[0m )\n",
      "\u001b[0;32m~/uj/gmms_inpainting/inpainting/training.py\u001b[0m in \u001b[0;36mtrain_inpainter\u001b[0;34m(inpainter, data_loader_train, data_loader_val, optimizer, loss_fn, n_epochs, losses_to_log, device, tqdm_loader, history_start, max_benchmark_batches, scheduler)\u001b[0m\n\u001b[1;32m    126\u001b[0m             \u001b[0mdevice\u001b[0m\u001b[0;34m=\u001b[0m\u001b[0mdevice\u001b[0m\u001b[0;34m,\u001b[0m\u001b[0;34m\u001b[0m\u001b[0m\n\u001b[1;32m    127\u001b[0m             \u001b[0mlosses_to_log\u001b[0m\u001b[0;34m=\u001b[0m\u001b[0mlosses_to_log\u001b[0m\u001b[0;34m,\u001b[0m\u001b[0;34m\u001b[0m\u001b[0m\n\u001b[0;32m--> 128\u001b[0;31m             \u001b[0mmax_benchmark_batches\u001b[0m\u001b[0;34m=\u001b[0m\u001b[0mmax_benchmark_batches\u001b[0m\u001b[0;34m\u001b[0m\u001b[0m\n\u001b[0m\u001b[1;32m    129\u001b[0m         )\n\u001b[1;32m    130\u001b[0m         \u001b[0mhistory\u001b[0m\u001b[0;34m.\u001b[0m\u001b[0mappend\u001b[0m\u001b[0;34m(\u001b[0m\u001b[0mhistory_elem\u001b[0m\u001b[0;34m)\u001b[0m\u001b[0;34m\u001b[0m\u001b[0m\n",
      "\u001b[0;32m~/uj/gmms_inpainting/inpainting/training.py\u001b[0m in \u001b[0;36meval_inpainter\u001b[0;34m(inpainter, epoch, data_loaders, device, losses_to_log, max_benchmark_batches)\u001b[0m\n\u001b[1;32m    155\u001b[0m             losses.append({\n\u001b[1;32m    156\u001b[0m                 \u001b[0mloss_name\u001b[0m\u001b[0;34m:\u001b[0m \u001b[0ml\u001b[0m\u001b[0;34m(\u001b[0m\u001b[0mx\u001b[0m\u001b[0;34m,\u001b[0m \u001b[0mj\u001b[0m\u001b[0;34m,\u001b[0m \u001b[0mp\u001b[0m\u001b[0;34m,\u001b[0m \u001b[0mm\u001b[0m\u001b[0;34m,\u001b[0m \u001b[0ma\u001b[0m\u001b[0;34m,\u001b[0m \u001b[0md\u001b[0m\u001b[0;34m)\u001b[0m\u001b[0;34m.\u001b[0m\u001b[0mdetach\u001b[0m\u001b[0;34m(\u001b[0m\u001b[0;34m)\u001b[0m\u001b[0;34m.\u001b[0m\u001b[0mcpu\u001b[0m\u001b[0;34m(\u001b[0m\u001b[0;34m)\u001b[0m\u001b[0;34m.\u001b[0m\u001b[0mnumpy\u001b[0m\u001b[0;34m(\u001b[0m\u001b[0;34m)\u001b[0m\u001b[0;34m\u001b[0m\u001b[0m\n\u001b[0;32m--> 157\u001b[0;31m                 \u001b[0;32mfor\u001b[0m \u001b[0mloss_name\u001b[0m\u001b[0;34m,\u001b[0m \u001b[0ml\u001b[0m \u001b[0;32min\u001b[0m \u001b[0mlosses_to_log\u001b[0m\u001b[0;34m.\u001b[0m\u001b[0mitems\u001b[0m\u001b[0;34m(\u001b[0m\u001b[0;34m)\u001b[0m\u001b[0;34m\u001b[0m\u001b[0m\n\u001b[0m\u001b[1;32m    158\u001b[0m             })\n\u001b[1;32m    159\u001b[0m             \u001b[0mt2\u001b[0m \u001b[0;34m=\u001b[0m \u001b[0mtime\u001b[0m\u001b[0;34m(\u001b[0m\u001b[0;34m)\u001b[0m\u001b[0;34m\u001b[0m\u001b[0m\n",
      "\u001b[0;32m~/uj/gmms_inpainting/inpainting/training.py\u001b[0m in \u001b[0;36m<dictcomp>\u001b[0;34m(.0)\u001b[0m\n\u001b[1;32m    155\u001b[0m             losses.append({\n\u001b[1;32m    156\u001b[0m                 \u001b[0mloss_name\u001b[0m\u001b[0;34m:\u001b[0m \u001b[0ml\u001b[0m\u001b[0;34m(\u001b[0m\u001b[0mx\u001b[0m\u001b[0;34m,\u001b[0m \u001b[0mj\u001b[0m\u001b[0;34m,\u001b[0m \u001b[0mp\u001b[0m\u001b[0;34m,\u001b[0m \u001b[0mm\u001b[0m\u001b[0;34m,\u001b[0m \u001b[0ma\u001b[0m\u001b[0;34m,\u001b[0m \u001b[0md\u001b[0m\u001b[0;34m)\u001b[0m\u001b[0;34m.\u001b[0m\u001b[0mdetach\u001b[0m\u001b[0;34m(\u001b[0m\u001b[0;34m)\u001b[0m\u001b[0;34m.\u001b[0m\u001b[0mcpu\u001b[0m\u001b[0;34m(\u001b[0m\u001b[0;34m)\u001b[0m\u001b[0;34m.\u001b[0m\u001b[0mnumpy\u001b[0m\u001b[0;34m(\u001b[0m\u001b[0;34m)\u001b[0m\u001b[0;34m\u001b[0m\u001b[0m\n\u001b[0;32m--> 157\u001b[0;31m                 \u001b[0;32mfor\u001b[0m \u001b[0mloss_name\u001b[0m\u001b[0;34m,\u001b[0m \u001b[0ml\u001b[0m \u001b[0;32min\u001b[0m \u001b[0mlosses_to_log\u001b[0m\u001b[0;34m.\u001b[0m\u001b[0mitems\u001b[0m\u001b[0;34m(\u001b[0m\u001b[0;34m)\u001b[0m\u001b[0;34m\u001b[0m\u001b[0m\n\u001b[0m\u001b[1;32m    158\u001b[0m             })\n\u001b[1;32m    159\u001b[0m             \u001b[0mt2\u001b[0m \u001b[0;34m=\u001b[0m \u001b[0mtime\u001b[0m\u001b[0;34m(\u001b[0m\u001b[0;34m)\u001b[0m\u001b[0;34m\u001b[0m\u001b[0m\n",
      "\u001b[0;32m~/uj/gmms_inpainting/inpainting/losses.py\u001b[0m in \u001b[0;36mnll_masked_batch_loss\u001b[0;34m(X, J, P, M, A, D, l_epsilon)\u001b[0m\n\u001b[1;32m     75\u001b[0m         \u001b[0mfig\u001b[0m\u001b[0;34m,\u001b[0m \u001b[0max\u001b[0m \u001b[0;34m=\u001b[0m \u001b[0mplt\u001b[0m\u001b[0;34m.\u001b[0m\u001b[0msubplots\u001b[0m\u001b[0;34m(\u001b[0m\u001b[0mncols\u001b[0m\u001b[0;34m=\u001b[0m\u001b[0mlen\u001b[0m\u001b[0;34m(\u001b[0m\u001b[0mX_nan\u001b[0m\u001b[0;34m)\u001b[0m \u001b[0;34m+\u001b[0m \u001b[0;36m1\u001b[0m\u001b[0;34m)\u001b[0m\u001b[0;34m\u001b[0m\u001b[0m\n\u001b[1;32m     76\u001b[0m         \u001b[0;32mfor\u001b[0m \u001b[0mi\u001b[0m\u001b[0;34m,\u001b[0m \u001b[0mx\u001b[0m \u001b[0;32min\u001b[0m \u001b[0menumerate\u001b[0m\u001b[0;34m(\u001b[0m\u001b[0mX_nan\u001b[0m\u001b[0;34m)\u001b[0m\u001b[0;34m:\u001b[0m\u001b[0;34m\u001b[0m\u001b[0m\n\u001b[0;32m---> 77\u001b[0;31m             \u001b[0max\u001b[0m\u001b[0;34m[\u001b[0m\u001b[0mi\u001b[0m\u001b[0;34m]\u001b[0m\u001b[0;34m.\u001b[0m\u001b[0mimshow\u001b[0m\u001b[0;34m(\u001b[0m\u001b[0mx\u001b[0m\u001b[0;34m.\u001b[0m\u001b[0mcpu\u001b[0m\u001b[0;34m(\u001b[0m\u001b[0;34m)\u001b[0m\u001b[0;34m.\u001b[0m\u001b[0mnumpy\u001b[0m\u001b[0;34m(\u001b[0m\u001b[0;34m)\u001b[0m\u001b[0;34m,\u001b[0m \u001b[0mcmap\u001b[0m\u001b[0;34m=\u001b[0m\u001b[0;34m\"gray\"\u001b[0m\u001b[0;34m)\u001b[0m\u001b[0;34m\u001b[0m\u001b[0m\n\u001b[0m\u001b[1;32m     78\u001b[0m         \u001b[0mplt\u001b[0m\u001b[0;34m.\u001b[0m\u001b[0mshow\u001b[0m\u001b[0;34m(\u001b[0m\u001b[0;34m)\u001b[0m\u001b[0;34m\u001b[0m\u001b[0m\n\u001b[1;32m     79\u001b[0m \u001b[0;34m\u001b[0m\u001b[0m\n",
      "\u001b[0;32m~/anaconda3/envs/uj/lib/python3.7/site-packages/matplotlib/__init__.py\u001b[0m in \u001b[0;36minner\u001b[0;34m(ax, data, *args, **kwargs)\u001b[0m\n\u001b[1;32m   1597\u001b[0m     \u001b[0;32mdef\u001b[0m \u001b[0minner\u001b[0m\u001b[0;34m(\u001b[0m\u001b[0max\u001b[0m\u001b[0;34m,\u001b[0m \u001b[0;34m*\u001b[0m\u001b[0margs\u001b[0m\u001b[0;34m,\u001b[0m \u001b[0mdata\u001b[0m\u001b[0;34m=\u001b[0m\u001b[0;32mNone\u001b[0m\u001b[0;34m,\u001b[0m \u001b[0;34m**\u001b[0m\u001b[0mkwargs\u001b[0m\u001b[0;34m)\u001b[0m\u001b[0;34m:\u001b[0m\u001b[0;34m\u001b[0m\u001b[0m\n\u001b[1;32m   1598\u001b[0m         \u001b[0;32mif\u001b[0m \u001b[0mdata\u001b[0m \u001b[0;32mis\u001b[0m \u001b[0;32mNone\u001b[0m\u001b[0;34m:\u001b[0m\u001b[0;34m\u001b[0m\u001b[0m\n\u001b[0;32m-> 1599\u001b[0;31m             \u001b[0;32mreturn\u001b[0m \u001b[0mfunc\u001b[0m\u001b[0;34m(\u001b[0m\u001b[0max\u001b[0m\u001b[0;34m,\u001b[0m \u001b[0;34m*\u001b[0m\u001b[0mmap\u001b[0m\u001b[0;34m(\u001b[0m\u001b[0msanitize_sequence\u001b[0m\u001b[0;34m,\u001b[0m \u001b[0margs\u001b[0m\u001b[0;34m)\u001b[0m\u001b[0;34m,\u001b[0m \u001b[0;34m**\u001b[0m\u001b[0mkwargs\u001b[0m\u001b[0;34m)\u001b[0m\u001b[0;34m\u001b[0m\u001b[0m\n\u001b[0m\u001b[1;32m   1600\u001b[0m \u001b[0;34m\u001b[0m\u001b[0m\n\u001b[1;32m   1601\u001b[0m         \u001b[0mbound\u001b[0m \u001b[0;34m=\u001b[0m \u001b[0mnew_sig\u001b[0m\u001b[0;34m.\u001b[0m\u001b[0mbind\u001b[0m\u001b[0;34m(\u001b[0m\u001b[0max\u001b[0m\u001b[0;34m,\u001b[0m \u001b[0;34m*\u001b[0m\u001b[0margs\u001b[0m\u001b[0;34m,\u001b[0m \u001b[0;34m**\u001b[0m\u001b[0mkwargs\u001b[0m\u001b[0;34m)\u001b[0m\u001b[0;34m\u001b[0m\u001b[0m\n",
      "\u001b[0;32m~/anaconda3/envs/uj/lib/python3.7/site-packages/matplotlib/cbook/deprecation.py\u001b[0m in \u001b[0;36mwrapper\u001b[0;34m(*args, **kwargs)\u001b[0m\n\u001b[1;32m    367\u001b[0m                 \u001b[0;34mf\"%(removal)s.  If any parameter follows {name!r}, they \"\u001b[0m\u001b[0;34m\u001b[0m\u001b[0m\n\u001b[1;32m    368\u001b[0m                 f\"should be pass as keyword, not positionally.\")\n\u001b[0;32m--> 369\u001b[0;31m         \u001b[0;32mreturn\u001b[0m \u001b[0mfunc\u001b[0m\u001b[0;34m(\u001b[0m\u001b[0;34m*\u001b[0m\u001b[0margs\u001b[0m\u001b[0;34m,\u001b[0m \u001b[0;34m**\u001b[0m\u001b[0mkwargs\u001b[0m\u001b[0;34m)\u001b[0m\u001b[0;34m\u001b[0m\u001b[0m\n\u001b[0m\u001b[1;32m    370\u001b[0m \u001b[0;34m\u001b[0m\u001b[0m\n\u001b[1;32m    371\u001b[0m     \u001b[0;32mreturn\u001b[0m \u001b[0mwrapper\u001b[0m\u001b[0;34m\u001b[0m\u001b[0m\n",
      "\u001b[0;32m~/anaconda3/envs/uj/lib/python3.7/site-packages/matplotlib/cbook/deprecation.py\u001b[0m in \u001b[0;36mwrapper\u001b[0;34m(*args, **kwargs)\u001b[0m\n\u001b[1;32m    367\u001b[0m                 \u001b[0;34mf\"%(removal)s.  If any parameter follows {name!r}, they \"\u001b[0m\u001b[0;34m\u001b[0m\u001b[0m\n\u001b[1;32m    368\u001b[0m                 f\"should be pass as keyword, not positionally.\")\n\u001b[0;32m--> 369\u001b[0;31m         \u001b[0;32mreturn\u001b[0m \u001b[0mfunc\u001b[0m\u001b[0;34m(\u001b[0m\u001b[0;34m*\u001b[0m\u001b[0margs\u001b[0m\u001b[0;34m,\u001b[0m \u001b[0;34m**\u001b[0m\u001b[0mkwargs\u001b[0m\u001b[0;34m)\u001b[0m\u001b[0;34m\u001b[0m\u001b[0m\n\u001b[0m\u001b[1;32m    370\u001b[0m \u001b[0;34m\u001b[0m\u001b[0m\n\u001b[1;32m    371\u001b[0m     \u001b[0;32mreturn\u001b[0m \u001b[0mwrapper\u001b[0m\u001b[0;34m\u001b[0m\u001b[0m\n",
      "\u001b[0;32m~/anaconda3/envs/uj/lib/python3.7/site-packages/matplotlib/axes/_axes.py\u001b[0m in \u001b[0;36mimshow\u001b[0;34m(self, X, cmap, norm, aspect, interpolation, alpha, vmin, vmax, origin, extent, shape, filternorm, filterrad, imlim, resample, url, **kwargs)\u001b[0m\n\u001b[1;32m   5677\u001b[0m                               resample=resample, **kwargs)\n\u001b[1;32m   5678\u001b[0m \u001b[0;34m\u001b[0m\u001b[0m\n\u001b[0;32m-> 5679\u001b[0;31m         \u001b[0mim\u001b[0m\u001b[0;34m.\u001b[0m\u001b[0mset_data\u001b[0m\u001b[0;34m(\u001b[0m\u001b[0mX\u001b[0m\u001b[0;34m)\u001b[0m\u001b[0;34m\u001b[0m\u001b[0m\n\u001b[0m\u001b[1;32m   5680\u001b[0m         \u001b[0mim\u001b[0m\u001b[0;34m.\u001b[0m\u001b[0mset_alpha\u001b[0m\u001b[0;34m(\u001b[0m\u001b[0malpha\u001b[0m\u001b[0;34m)\u001b[0m\u001b[0;34m\u001b[0m\u001b[0m\n\u001b[1;32m   5681\u001b[0m         \u001b[0;32mif\u001b[0m \u001b[0mim\u001b[0m\u001b[0;34m.\u001b[0m\u001b[0mget_clip_path\u001b[0m\u001b[0;34m(\u001b[0m\u001b[0;34m)\u001b[0m \u001b[0;32mis\u001b[0m \u001b[0;32mNone\u001b[0m\u001b[0;34m:\u001b[0m\u001b[0;34m\u001b[0m\u001b[0m\n",
      "\u001b[0;32m~/anaconda3/envs/uj/lib/python3.7/site-packages/matplotlib/image.py\u001b[0m in \u001b[0;36mset_data\u001b[0;34m(self, A)\u001b[0m\n\u001b[1;32m    688\u001b[0m                 or self._A.ndim == 3 and self._A.shape[-1] in [3, 4]):\n\u001b[1;32m    689\u001b[0m             raise TypeError(\"Invalid shape {} for image data\"\n\u001b[0;32m--> 690\u001b[0;31m                             .format(self._A.shape))\n\u001b[0m\u001b[1;32m    691\u001b[0m \u001b[0;34m\u001b[0m\u001b[0m\n\u001b[1;32m    692\u001b[0m         \u001b[0;32mif\u001b[0m \u001b[0mself\u001b[0m\u001b[0;34m.\u001b[0m\u001b[0m_A\u001b[0m\u001b[0;34m.\u001b[0m\u001b[0mndim\u001b[0m \u001b[0;34m==\u001b[0m \u001b[0;36m3\u001b[0m\u001b[0;34m:\u001b[0m\u001b[0;34m\u001b[0m\u001b[0m\n",
      "\u001b[0;31mTypeError\u001b[0m: Invalid shape (1, 32, 32) for image data"
     ]
    },
    {
     "data": {
      "image/png": "[encoded data removed]",
      "text/plain": [
       "<Figure size 432x288 with 2 Axes>"
      ]
     },
     "metadata": {},
     "output_type": "display_data"
    }
   ],
   "source": [
    "device = torch.device(\"cuda\" if torch.cuda.is_available() else \"cpu\")\n",
    "torch.cuda.empty_cache()\n",
    "# device = torch.device(\"cpu\")\n",
    "history = []\n",
    "# inpainter = MNISTLinearInpainter(n_mixes=1, hidden_size=2048)\n",
    "\n",
    "# inpainter = MNISTConvolutionalInpainter(a_amplitude=0.5,) # h_w=(32,32))\n",
    "inpainter = MNISTFullyConvolutionalInpainter(\n",
    "    n_mixes=1, a_width=4, a_amplitude=1, h_w=(32,32), last_channels=128, \n",
    "    extractor=bkb.down_up_backbone(\n",
    "        (2, 32, 32),\n",
    "        depth=3,\n",
    "        first_channels=128, \n",
    "        last_channels=128,\n",
    "        kernel_size=3\n",
    "    )\n",
    ")\n",
    "\n",
    "# opt = toptim.RAdam(inpainter.parameters(), lr=4e-5, weight_decay=0)\n",
    "opt = optim.Adam(inpainter.parameters(), lr=4e-5, weight_decay=0)\n",
    "\n",
    "\n",
    "# scheduler = lr_scheduler.ExponentialLR(opt, 0.95)\n",
    "# n_epochs = 4\n",
    "\n",
    "history = train_inpainter(\n",
    "    inpainter, \n",
    "    dl_train, \n",
    "    dl_val, \n",
    "    opt, \n",
    "    loss_fn =nll_masked_batch_loss, \n",
    "    n_epochs=50,\n",
    "    device=device,\n",
    "    history_start=history,\n",
    "    tqdm_loader=True,\n",
    "#     scheduler=scheduler,\n",
    "    losses_to_log=dict(\n",
    "        log_noms=log_noms,\n",
    "        mse=mse,\n",
    "        log_dets=log_dets,\n",
    "        a_var=a_var,\n",
    "        nll=nll_masked_batch_loss\n",
    "    )\n",
    ")\n",
    "\n"
   ]
  },
  {
   "cell_type": "code",
   "execution_count": null,
   "metadata": {},
   "outputs": [],
   "source": [
    "# history = history_tmp"
   ]
  },
  {
   "cell_type": "code",
   "execution_count": 14,
   "metadata": {},
   "outputs": [],
   "source": [
    "[\n",
    "    h[\"losses\"]\n",
    "    for h in history\n",
    "];"
   ]
  },
  {
   "cell_type": "code",
   "execution_count": 15,
   "metadata": {},
   "outputs": [
    {
     "ename": "IndexError",
     "evalue": "list index out of range",
     "output_type": "error",
     "traceback": [
      "\u001b[0;31m---------------------------------------------------------------------------\u001b[0m",
      "\u001b[0;31mIndexError\u001b[0m                                Traceback (most recent call last)",
      "\u001b[0;32m<ipython-input-15-4681d5475737>\u001b[0m in \u001b[0;36m<module>\u001b[0;34m\u001b[0m\n\u001b[1;32m      1\u001b[0m \u001b[0;32mwith\u001b[0m \u001b[0;34m(\u001b[0m\u001b[0mexperiment_path\u001b[0m \u001b[0;34m/\u001b[0m \u001b[0;34m\"history_last_epoch.pkl\"\u001b[0m\u001b[0;34m)\u001b[0m\u001b[0;34m.\u001b[0m\u001b[0mopen\u001b[0m\u001b[0;34m(\u001b[0m\u001b[0;34m\"wb\"\u001b[0m\u001b[0;34m)\u001b[0m \u001b[0;32mas\u001b[0m \u001b[0mf\u001b[0m\u001b[0;34m:\u001b[0m\u001b[0;34m\u001b[0m\u001b[0m\n\u001b[1;32m      2\u001b[0m     \u001b[0mhistory_tmp\u001b[0m \u001b[0;34m=\u001b[0m \u001b[0mhistory\u001b[0m\u001b[0;34m\u001b[0m\u001b[0m\n\u001b[0;32m----> 3\u001b[0;31m     \u001b[0mpickle\u001b[0m\u001b[0;34m.\u001b[0m\u001b[0mdump\u001b[0m\u001b[0;34m(\u001b[0m\u001b[0mhistory\u001b[0m\u001b[0;34m[\u001b[0m\u001b[0;34m-\u001b[0m\u001b[0;36m1\u001b[0m\u001b[0;34m]\u001b[0m\u001b[0;34m,\u001b[0m \u001b[0mf\u001b[0m\u001b[0;34m)\u001b[0m\u001b[0;34m\u001b[0m\u001b[0m\n\u001b[0m",
      "\u001b[0;31mIndexError\u001b[0m: list index out of range"
     ]
    }
   ],
   "source": [
    "\n",
    "with (experiment_path / \"history_last_epoch.pkl\").open(\"wb\") as f:\n",
    "    history_tmp = history\n",
    "    pickle.dump(history[-1], f)"
   ]
  },
  {
   "cell_type": "code",
   "execution_count": null,
   "metadata": {},
   "outputs": [],
   "source": [
    "with (experiment_path / \"inpainter.schema\").open(\"w\") as f:\n",
    "    print(inpainter, file=f)\n",
    "with (experiment_path / \"opt.schema\").open(\"w\") as f:\n",
    "    print(opt, file=f)\n",
    "\n",
    "torch.save(inpainter.state_dict(), experiment_path / \"inpainter.state\")"
   ]
  },
  {
   "cell_type": "code",
   "execution_count": null,
   "metadata": {},
   "outputs": [],
   "source": [
    "chckp = torch.load(experiment_path / \"inpainter.state\")\n",
    "chckp\n",
    "inpainter.load_state_dict(chckp)"
   ]
  },
  {
   "cell_type": "code",
   "execution_count": 16,
   "metadata": {},
   "outputs": [
    {
     "data": {
      "text/plain": [
       "0"
      ]
     },
     "execution_count": 16,
     "metadata": {},
     "output_type": "execute_result"
    }
   ],
   "source": [
    "len(history)"
   ]
  },
  {
   "cell_type": "code",
   "execution_count": null,
   "metadata": {},
   "outputs": [],
   "source": [
    "# [h[\"losses\"][\"objective\"]"
   ]
  },
  {
   "cell_type": "code",
   "execution_count": null,
   "metadata": {},
   "outputs": [],
   "source": [
    "for loss_name in set(history[0][\"losses\"].keys()):\n",
    "    for fold in [\"train\", \"val\"]:\n",
    "        \n",
    "        plt.plot(\n",
    "            list(range(len(history))),\n",
    "            [h[\"losses\"][loss_name][fold] for h in history],\n",
    "            label=fold\n",
    "        )\n",
    "    plt.title(loss_name)\n",
    "    plt.legend()\n",
    "    fig = plt.gcf()\n",
    "    fig.savefig(experiment_path / f\"history.{loss_name}.png\")\n",
    "    plt.show()"
   ]
  },
  {
   "cell_type": "code",
   "execution_count": null,
   "metadata": {},
   "outputs": [],
   "source": [
    "skip = 5\n",
    "\n",
    "row_length = vis.row_length(*list(zip(*history[0][\"sample_results\"][\"train\"]))[0])\n",
    "fig, axes = plt.subplots(\n",
    "    int(np.ceil(len(history) / skip)* 2), \n",
    "    row_length,\n",
    "    figsize=(20, 30)\n",
    ")\n",
    "\n",
    "\n",
    "for e, h in enumerate(history):\n",
    "    if e % skip !=0 and e != (len(history) -1):\n",
    "        continue\n",
    "    \n",
    "    for ax_no, fold in [(0,\"train\"), (1,\"val\")]:\n",
    "        x, j, p, m, a, d, y = [t[0] for t in  h[\"sample_results\"][fold]]\n",
    "        row_no = (e // skip)*2 + ax_no\n",
    "        print(m.mean(), m.min(), m.max())\n",
    "\n",
    "        vis.visualize_sample(\n",
    "            x, j, p, m, a, d, y, \n",
    "            ax_row=axes[row_no], \n",
    "            title_prefixes={\n",
    "                0: f\"{e} {fold} \",\n",
    "#                 1: f\"y_m = {y_masked_pred}\"\n",
    "            },\n",
    "            drawing_fn=vis_digit_mask\n",
    "        )\n",
    "\n",
    "epochs_fig = plt.gcf()\n",
    "epochs_fig.savefig(experiment_path / \"epochs_renders.png\")"
   ]
  },
  {
   "cell_type": "code",
   "execution_count": null,
   "metadata": {
    "scrolled": true
   },
   "outputs": [],
   "source": [
    "epochs_path = experiment_path / \"epochs\"\n",
    "epochs_path.mkdir(exist_ok=True)\n",
    "skip = 15\n",
    "n_rows = 16\n",
    "\n",
    "for e, h in enumerate(history):\n",
    "    if e % skip !=0 and e != (len(history) -1):\n",
    "        continue\n",
    "    \n",
    "    for ax_no, fold in [(0,\"train\"), (1,\"val\")]:\n",
    "        \n",
    "        \n",
    "        row_length = vis.row_length(*list(zip(*h[\"sample_results\"][fold]))[0])\n",
    "\n",
    "        fig, axes = plt.subplots(\n",
    "            n_rows, \n",
    "            row_length,\n",
    "            figsize=(20, 30)\n",
    "        )\n",
    "\n",
    "        for row_no, (x, j, p, m ,a, d, y) in enumerate(list(zip(*h[\"sample_results\"][fold]))[:n_rows]):\n",
    "            vis.visualize_sample(\n",
    "                x, j, p, m, a, d, y, \n",
    "                ax_row=axes[row_no], \n",
    "                title_prefixes={\n",
    "                    0: f\"{e} {fold} \",\n",
    "#                     1: f\"y_m = {y_masked_pred}\"\n",
    "                },\n",
    "                drawing_fn=vis_digit_mask\n",
    "\n",
    "            )\n",
    "        \n",
    "        title = f\"{e}_{fold}\"\n",
    "        plt.suptitle(title)\n",
    "        plt.savefig(epochs_path / f\"{title}.png\")\n",
    "#       "
   ]
  },
  {
   "cell_type": "code",
   "execution_count": null,
   "metadata": {},
   "outputs": [],
   "source": [
    "x, j, p, m, a, d, y= history[0][\"sample_results\"][\"train\"]\n",
    "plt.imshow(x[0][0])\n",
    "\n",
    "m[0][0]"
   ]
  },
  {
   "cell_type": "code",
   "execution_count": null,
   "metadata": {},
   "outputs": [],
   "source": [
    "import pickle\n",
    "\n",
    "with (experiment_path / \"history_last_epoch.pkl\").open(\"rb\") as f:\n",
    "    hist_last_epoch = pickle.load(f)\n",
    "\n",
    "# history = [hist_last_epoch]"
   ]
  },
  {
   "cell_type": "code",
   "execution_count": null,
   "metadata": {},
   "outputs": [],
   "source": [
    "import matplotlib.pyplot as plt\n",
    "\n",
    "def plot_arrays_stats(\n",
    "    arrays, ax=None, stat_fns = [np.min, np.max, np.mean], markers=\".\"\n",
    "):\n",
    "    if ax is None:\n",
    "        fig, ax = plt.subplots()\n",
    "        \n",
    "    if isinstance(markers, str):\n",
    "        markers = [markers] * len(stat_fns)\n",
    "    \n",
    "    for fn, m in zip(stat_fns, markers):\n",
    "        ax.scatter(\n",
    "            range(len(arrays)),\n",
    "            [\n",
    "                fn(a) for a in arrays\n",
    "            ],\n",
    "            marker=m,\n",
    "            label=fn.__name__\n",
    "            \n",
    "        )\n",
    "    \n",
    "    return ax"
   ]
  },
  {
   "cell_type": "code",
   "execution_count": null,
   "metadata": {},
   "outputs": [],
   "source": [
    "for fold in [\"val\"]:\n",
    "    x, j, p, m, a, d, y = hist_last_epoch[\"sample_results\"][fold]\n",
    "\n",
    "    a_resh = a.reshape(a.shape[0] * a.shape[1], a.shape[2], a.shape[3])\n",
    "    covs = a_resh.transpose(0, 2, 1) @ a_resh\n",
    "    \n",
    "    fig, ax = plt.subplots(figsize=(20, 25), nrows=5)\n",
    "    \n",
    "    ax[0].set_title(f\"m stats {fold}\")\n",
    "    plot_arrays_stats(\n",
    "        m, ax[0]\n",
    "    )\n",
    "        \n",
    "    samples = [\n",
    "        vis.gans_gmms_sample_no_d(x_, m_[0], a_[0], d_[0])\n",
    "        for (x_, m_, a_, d_) in zip(x, m ,a, d)\n",
    "    ]\n",
    "    \n",
    "    ax[1].set_title(\"samples stats\")\n",
    "    plot_arrays_stats(samples, ax[1])\n",
    "    \n",
    "    ax[2].set_title(f\"a stats {fold}\")\n",
    "    plot_arrays_stats(\n",
    "        a, ax[2]\n",
    "    )\n",
    "    \n",
    "    ax[3].set_title(f\"d stats {fold}\")\n",
    "    plot_arrays_stats(\n",
    "        d, ax[3]\n",
    "    )\n",
    "    \n",
    "    ax[4].set_title(f\"cov stats {fold}\")\n",
    "    plot_arrays_stats(\n",
    "        covs, ax[4]\n",
    "    )\n",
    "    [a.legend() for a in ax[:5]]\n",
    "    fig.savefig(experiment_path / f\"outputs_stats.png\")\n",
    "    plt.show()\n",
    "    \n",
    "    cov_resh = covs[0].reshape(-1)\n",
    "    plt.hist(cov_resh, log=True, bins=100)\n",
    "    plt.title(f\"cov[0] hist {fold}\")\n",
    "    plt.show()\n",
    "    \n",
    "    cov = covs[0]\n",
    "    \n",
    "    fig, ax = plt.subplots(figsize=(10, 10), nrows=2)\n",
    "    eigs = np.linalg.eigvals(cov)\n",
    "    ax[0].scatter(range(len(eigs)), eigs)\n",
    "    ax[0].set_title(\"eigenvals of cov[0]\")\n",
    "\n",
    "    cov_d = cov + np.diag(d[0])\n",
    "    eigs_d = np.linalg.eigvals(cov_d)\n",
    "    ax[1].scatter(range(len(eigs_d)), eigs_d)\n",
    "    ax[1].set_title(\"eigenvals of cov[0] + d[0]\")\n",
    "    fig.savefig(experiment_path / \"eigenvals.png\")\n",
    "    plt.show()\n",
    "\n",
    "    # wygląda na to, że mamy ~3 duże wartosci własne\n",
    "    \n",
    "    print(\"m analysis\")\n",
    "    \n",
    "    \n",
    "    plt.hist(d[0].reshape(-1), bins=100, log=True)\n",
    "    plt.title(\"d[0] hist\")\n",
    "    plt.show()\n",
    "    \n",
    "    for i in range(3):\n",
    "        plt.imshow(a_resh[0, i].reshape(28,28), cmap=\"gray\")\n",
    "        plt.show()\n",
    "    \n",
    "    \n",
    "    \n",
    "    "
   ]
  },
  {
   "cell_type": "code",
   "execution_count": null,
   "metadata": {},
   "outputs": [],
   "source": [
    "# next up\n",
    "# * różne aktywacje wyjścia macierzy A (sigmoid? różne zakresy?)\n",
    "# * wyplotować wielkość wartości własne A, D na przestrzeni treningu\n",
    "# spróbować trenowania na niepełnych danych"
   ]
  },
  {
   "cell_type": "code",
   "execution_count": null,
   "metadata": {},
   "outputs": [],
   "source": []
  },
  {
   "cell_type": "code",
   "execution_count": null,
   "metadata": {
    "scrolled": true
   },
   "outputs": [],
   "source": [
    "val_results = predictions_for_entire_loader(\n",
    "    inpainter.to(torch.device(\"cpu\")),\n",
    "    dl_val,\n",
    "    torch.device(\"cpu\")\n",
    "    \n",
    ")\n",
    "with (experiment_path / \"val_predictions.pkl\").open(\"wb\") as f:\n",
    "    pickle.dump(val_results, f)\n",
    "    "
   ]
  },
  {
   "cell_type": "code",
   "execution_count": null,
   "metadata": {
    "scrolled": true
   },
   "outputs": [],
   "source": [
    "with (experiment_path / \"val_predictions.pkl\").open(\"wb\") as f:\n",
    "    pickle.dump(val_results, f)\n",
    "    "
   ]
  },
  {
   "cell_type": "code",
   "execution_count": null,
   "metadata": {},
   "outputs": [],
   "source": [
    "fig, ax = plt.subplots(10, 12, figsize=(15,15)\n",
    ")\n",
    "\n",
    "for i in range(10):\n",
    "    vis.visualize_sample(\n",
    "        *val_results[i],\n",
    "        drawing_fn=vis_digit_mask,\n",
    "        title_prefixes=dict(),\n",
    "        ax_row=ax[i]\n",
    "    )"
   ]
  },
  {
   "cell_type": "code",
   "execution_count": null,
   "metadata": {},
   "outputs": [],
   "source": []
  }
 ],
 "metadata": {
  "kernelspec": {
   "display_name": "Python 3",
   "language": "python",
   "name": "python3"
  },
  "language_info": {
   "codemirror_mode": {
    "name": "ipython",
    "version": 3
   },
   "file_extension": ".py",
   "mimetype": "text/x-python",
   "name": "python",
   "nbconvert_exporter": "python",
   "pygments_lexer": "ipython3",
   "version": "3.7.0"
  }
 },
 "nbformat": 4,
 "nbformat_minor": 4
}
