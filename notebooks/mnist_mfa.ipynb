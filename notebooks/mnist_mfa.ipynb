{
 "cells": [
  {
   "cell_type": "code",
   "execution_count": null,
   "metadata": {},
   "outputs": [],
   "source": [
    "%load_ext autoreload\n",
    "%autoreload 2"
   ]
  },
  {
   "cell_type": "code",
   "execution_count": null,
   "metadata": {},
   "outputs": [],
   "source": [
    "import sys\n",
    "sys.path.append(\"..\")"
   ]
  },
  {
   "cell_type": "code",
   "execution_count": null,
   "metadata": {},
   "outputs": [],
   "source": [
    "import torch\n",
    "from inpainting.inpainters.rgb_misgan import RGBMisganInpainterInterface\n",
    "from inpainting.inpainters.mnist import MNISTMisganInpainterInterface\n",
    "from inpainting.datasets.celeba import train_val_datasets as celeba_train_val_datasets\n",
    "from inpainting.datasets.mnist import train_val_datasets as mnist_train_val_datasets\n",
    "from pathlib import Path\n",
    "from inpainting.datasets.utils import RandomRectangleMaskConfig\n",
    "from inpainting.datasets import mask_coding as mc\n",
    "from torchvision.datasets import MNIST, FashionMNIST\n",
    "from torch.utils.data import DataLoader, TensorDataset\n",
    "import pickle\n",
    "from tqdm import tqdm\n",
    "import numpy as np\n",
    "from inpainting.visualizations import visualizations_utils as vis\n",
    "from inpainting.visualizations.digits import digit_with_mask as vis_digit_mask\n",
    "import matplotlib.pyplot as plt\n",
    "from inpainting.utils import predictions_for_entire_loader\n",
    "from scripts import common\n",
    "import matplotlib.pyplot as plt"
   ]
  },
  {
   "cell_type": "code",
   "execution_count": null,
   "metadata": {},
   "outputs": [],
   "source": [
    "device = torch.device(\"cpu\")"
   ]
  },
  {
   "cell_type": "code",
   "execution_count": null,
   "metadata": {},
   "outputs": [],
   "source": [
    "ds_train, ds_val = mnist_train_val_datasets(\n",
    "    Path.home() / \"uj/data/\",\n",
    "    mask_configs=[\n",
    "\n",
    "        RandomRectangleMaskConfig(mc.UNKNOWN_LOSS, 14, 14, 0,0),\n",
    "    ],\n",
    "    ds_type=MNIST\n",
    ")"
   ]
  },
  {
   "cell_type": "code",
   "execution_count": null,
   "metadata": {},
   "outputs": [],
   "source": [
    "batch_size=16\n",
    "dl_train = DataLoader(ds_train, batch_size, shuffle=True)\n",
    "dl_val = DataLoader(ds_val, batch_size, shuffle=False)"
   ]
  },
  {
   "cell_type": "code",
   "execution_count": null,
   "metadata": {},
   "outputs": [],
   "source": [
    "mfa = common.mfa_from_path(\"/home/mprzewiezlikowski/uj/gmm_missing/models/mnist_28_28\")"
   ]
  },
  {
   "cell_type": "code",
   "execution_count": null,
   "metadata": {},
   "outputs": [],
   "source": [
    "for (X, J), Y in dl_train:\n",
    "#     X, J = X[:1], J[:1]\n",
    "    print(\"predicting\")\n",
    "    P, M, A, D = mfa(X, J)\n",
    "    Pb, Mb, Ab, Db = mfa.fb(X, J)\n",
    "    print(\"predicted\")\n",
    "    break\n",
    "    \n",
    "N = 5\n",
    "print(vis.row_length(*[t[0] for t in [X, J, P, M, A, D, Y]]))\n",
    "\n",
    "fig, ax = plt.subplots(N, vis.row_length(*[t[0] for t in [X, J, P, M, A, D, Y]]), figsize=(15, 10))\n",
    "fig.suptitle(\"separate\")\n",
    "for i, (x,j,p,m,a,d,y) in enumerate(list(zip(X,J,P,M,A,D,Y))[:N]):\n",
    "    x,j,p,m,a,d = [t.numpy() for t in [x,j,p,m,a,d]]\n",
    "    vis.visualize_sample(\n",
    "        x,j,p,m,a,d,y,\n",
    "        drawing_fn=vis_digit_mask,\n",
    "        title_prefixes=dict(),\n",
    "        ax_row=ax[i]\n",
    "    )\n",
    "    \n",
    "plt.show()\n",
    "\n",
    "print([t.shape for t in [P, M, A, D]])\n",
    "print([t.shape for t in [Pb, Mb, Ab, Db]])\n",
    "fig, ax = plt.subplots(N, vis.row_length(*[t[0] for t in [X, J, Pb, Mb, Ab, Db, Y]]), figsize=(15, 10))\n",
    "fig.suptitle(\"batch\")\n",
    "for i, (x,j,p,m,a,d,y) in enumerate(list(zip(X,J,Pb,Mb,Ab,Db,Y))[:N]):\n",
    "    x,j,p,m,a,d = [t.numpy() for t in [x,j,p,m,a,d]]\n",
    "    vis.visualize_sample(\n",
    "        x,j,p,m,a,d,y,\n",
    "        drawing_fn=vis_digit_mask,\n",
    "        title_prefixes=dict(),\n",
    "        ax_row=ax[i]\n",
    "    )\n",
    "    \n",
    "plt.show()\n",
    "    \n",
    "# vis.visa"
   ]
  },
  {
   "cell_type": "code",
   "execution_count": null,
   "metadata": {},
   "outputs": [],
   "source": []
  },
  {
   "cell_type": "code",
   "execution_count": null,
   "metadata": {},
   "outputs": [],
   "source": []
  }
 ],
 "metadata": {
  "kernelspec": {
   "display_name": "Python 3",
   "language": "python",
   "name": "python3"
  },
  "language_info": {
   "codemirror_mode": {
    "name": "ipython",
    "version": 3
   },
   "file_extension": ".py",
   "mimetype": "text/x-python",
   "name": "python",
   "nbconvert_exporter": "python",
   "pygments_lexer": "ipython3",
   "version": "3.8.5"
  }
 },
 "nbformat": 4,
 "nbformat_minor": 4
}
