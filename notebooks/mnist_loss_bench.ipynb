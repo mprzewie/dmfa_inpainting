{
 "cells": [
  {
   "cell_type": "code",
   "execution_count": null,
   "metadata": {},
   "outputs": [],
   "source": [
    "%load_ext autoreload\n",
    "%autoreload 2"
   ]
  },
  {
   "cell_type": "code",
   "execution_count": null,
   "metadata": {},
   "outputs": [],
   "source": [
    "import sys\n",
    "sys.path.append(\"..\")"
   ]
  },
  {
   "cell_type": "code",
   "execution_count": null,
   "metadata": {},
   "outputs": [],
   "source": [
    "import numpy as np\n",
    "import matplotlib.pyplot as plt\n",
    "\n",
    "import torch\n",
    "from torch import nn\n",
    "from torch import distributions as dist\n",
    "from torch.utils.data import DataLoader, TensorDataset\n",
    "from torch import optim\n",
    "\n",
    "from torchvision.datasets import MNIST, FashionMNIST\n",
    "from torchvision import transforms as tr\n",
    "from sklearn import datasets\n",
    "from sklearn.model_selection import train_test_split\n",
    "from sklearn.metrics import accuracy_score\n",
    "from tqdm import tqdm\n",
    "from sklearn.neural_network import MLPClassifier\n",
    "from sklearn.metrics import accuracy_score\n",
    "from pprint import pprint\n",
    "from inpainting.custom_layers import Reshape\n",
    "from inpainting.inpainters.mnist import MNISTLinearInpainter, MNISTConvolutionalInpainter\n",
    "from pathlib import Path\n",
    "import pickle\n",
    "\n",
    "from inpainting.losses import (\n",
    "    _nll_masked_batch_loss,\n",
    "    _batch_loss_fn, \n",
    "    _nll_masked_sample_loss_v2, \n",
    "    _nll_masked_ubervectorized_batch_loss_v1, \n",
    "    nll_masked_batch_loss_same_size_masks, \n",
    "    nll_masked_batch_loss,\n",
    "    _nll_masked_sample_loss_v0,\n",
    ")\n",
    "from collections import defaultdict\n",
    "import time"
   ]
  },
  {
   "cell_type": "code",
   "execution_count": null,
   "metadata": {},
   "outputs": [],
   "source": [
    "from inpainting.datasets.mnist import train_val_datasets\n",
    "from inpainting.visualizations.digits import digit_with_mask as vis_digit_mask\n",
    "from inpainting.training import train_inpainter\n",
    "from inpainting.utils import classifier_experiment, inpainted\n",
    "import inpainting.visualizations.samples as vis\n",
    "from inpainting.datasets import mask_coding as mc\n",
    "from inpainting.datasets.utils import RandomRectangleMaskConfig\n",
    "import pandas as pd\n",
    "import seaborn as sns"
   ]
  },
  {
   "cell_type": "code",
   "execution_count": null,
   "metadata": {},
   "outputs": [],
   "source": [
    "import matplotlib\n",
    "matplotlib.rcParams['figure.facecolor'] = \"white\""
   ]
  },
  {
   "cell_type": "code",
   "execution_count": null,
   "metadata": {},
   "outputs": [],
   "source": [
    "!ps aux | grep mprzewie"
   ]
  },
  {
   "cell_type": "code",
   "execution_count": null,
   "metadata": {},
   "outputs": [],
   "source": [
    "!echo $CUDA_VISIBLE_DEVICES\n",
    "!nvidia-smi"
   ]
  },
  {
   "cell_type": "code",
   "execution_count": null,
   "metadata": {},
   "outputs": [],
   "source": [
    "device = torch.device(\"cuda\" if torch.cuda.is_available() else \"cpu\")\n",
    "# device = torch.device(\"cpu\")\n",
    "device"
   ]
  },
  {
   "cell_type": "code",
   "execution_count": null,
   "metadata": {},
   "outputs": [],
   "source": [
    "experiment_path = Path(\"../results/mnist/missing_data_10x10\")\n",
    "experiment_path.mkdir(exist_ok=True)"
   ]
  },
  {
   "cell_type": "code",
   "execution_count": null,
   "metadata": {},
   "outputs": [],
   "source": [
    "ds_train, ds_val = train_val_datasets(\n",
    "    \"/home/mprzewiezlikowski/uj/data/\",\n",
    "    mask_configs=[\n",
    "        RandomRectangleMaskConfig(mc.UNKNOWN_LOSS, 10, 10, 0,0),\n",
    "#         RandomRectangleMaskConfig(mc.UNKNOWN_NO_LOSS, 10,10, 0,0)\n",
    "    ]\n",
    ")\n",
    "\n",
    "fig, axes = plt.subplots(10, 10, figsize=(15, 15))\n",
    "for i in range(100):\n",
    "    (x,j), y = ds_train[i]\n",
    "    ax = axes[i // 10, i%10]\n",
    "    ax.set_title(f\"{y}\")\n",
    "    vis_digit_mask(x, j,ax)\n",
    "train_fig = plt.gcf()\n",
    "train_fig.savefig(experiment_path / \"train.png\")\n",
    "plt.show()"
   ]
  },
  {
   "cell_type": "code",
   "execution_count": null,
   "metadata": {},
   "outputs": [],
   "source": [
    "batch_size=96\n",
    "dl_train = DataLoader(ds_train, batch_size, shuffle=True)\n",
    "dl_val = DataLoader(ds_val, batch_size, shuffle=True)"
   ]
  },
  {
   "cell_type": "code",
   "execution_count": null,
   "metadata": {},
   "outputs": [],
   "source": [
    "m_std = lambda x, j, p, m, a, d: m.std(dim=0).mean()\n",
    "a_max =  lambda x, j, p, m, a, d: a.max()"
   ]
  },
  {
   "cell_type": "code",
   "execution_count": null,
   "metadata": {},
   "outputs": [],
   "source": [
    "losses_to_benchmark = {\n",
    "    \"v0\": _batch_loss_fn(_nll_masked_sample_loss_v0),\n",
    "    \"v1\": _nll_masked_batch_loss,\n",
    "    \"v2\": _batch_loss_fn(_nll_masked_sample_loss_v2),\n",
    "    \"v3\": _nll_masked_ubervectorized_batch_loss_v1,\n",
    "    \"v4\": nll_masked_batch_loss_same_size_masks,\n",
    "    \"v5\": nll_masked_batch_loss\n",
    "}"
   ]
  },
  {
   "cell_type": "code",
   "execution_count": null,
   "metadata": {},
   "outputs": [],
   "source": [
    "device = torch.device(\"cuda\" if torch.cuda.is_available() else \"cpu\")\n",
    "torch.cuda.empty_cache()\n",
    "# device = torch.device(\"cpu\")\n",
    "history = []\n",
    "# inpainter = MNISTLinearInpainter(n_mixes=1, hidden_size=2048)\n",
    "inpainter = MNISTConvolutionalInpainter(n_mixes=1)\n",
    "\n",
    "opt = optim.Adam(inpainter.parameters(), lr=4e-5, weight_decay=0)\n",
    "n_epochs = 50\n",
    "benchmark_results = defaultdict(list)\n",
    "l_values = defaultdict(list)\n",
    "\n",
    "inpainter = inpainter.to(device)\n",
    "inpainter.eval()\n",
    "\n",
    "for i, ((x,j), y) in tqdm(enumerate(dl_train)):\n",
    "    x, j, y = [t.to(device) for t in [x, j, y]]\n",
    "    p, m, a, d = inpainter(x, j)\n",
    "    \n",
    "    for loss_name, l in losses_to_benchmark.items():\n",
    "        s = time.time()\n",
    "        \n",
    "        v =  l(x, j, p, m, a, d)#.detach().cpu().numpy()\n",
    "        e = time.time()\n",
    "        \n",
    "        benchmark_results[loss_name].append(e - s)\n",
    "        l_values[loss_name].append(v)\n",
    "    \n",
    "    if i == 10:\n",
    "        break"
   ]
  },
  {
   "cell_type": "code",
   "execution_count": null,
   "metadata": {},
   "outputs": [],
   "source": [
    "df_bench_cpu = pd.DataFrame(benchmark_results)"
   ]
  },
  {
   "cell_type": "code",
   "execution_count": null,
   "metadata": {},
   "outputs": [],
   "source": [
    "f, ax = plt.subplots(figsize=(7, 5))\n",
    "ax.set(yscale=\"log\")\n",
    "sns.boxplot(\n",
    "    x=\"loss_name\",\n",
    "    y=\"time\",\n",
    "    data=pd.melt(df_bench_cpu).rename({\"variable\": \"loss_name\", \"value\": \"time\"}, axis=\"columns\"), ax=ax\n",
    ")"
   ]
  },
  {
   "cell_type": "code",
   "execution_count": null,
   "metadata": {},
   "outputs": [],
   "source": [
    "l_values"
   ]
  },
  {
   "cell_type": "code",
   "execution_count": null,
   "metadata": {},
   "outputs": [],
   "source": []
  }
 ],
 "metadata": {
  "kernelspec": {
   "display_name": "Python 3",
   "language": "python",
   "name": "python3"
  },
  "language_info": {
   "codemirror_mode": {
    "name": "ipython",
    "version": 3
   },
   "file_extension": ".py",
   "mimetype": "text/x-python",
   "name": "python",
   "nbconvert_exporter": "python",
   "pygments_lexer": "ipython3",
   "version": "3.7.0"
  }
 },
 "nbformat": 4,
 "nbformat_minor": 4
}
