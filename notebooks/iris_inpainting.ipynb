{
 "cells": [
  {
   "cell_type": "code",
   "execution_count": 1,
   "metadata": {},
   "outputs": [],
   "source": [
    "import numpy as np\n",
    "import matplotlib.pyplot as plt\n",
    "\n",
    "import torch\n",
    "from torch import nn\n",
    "from torch import distributions as dist\n",
    "from torch.utils.data import DataLoader, TensorDataset\n",
    "from torch import optim\n",
    "\n",
    "from torchvision.datasets import MNIST, FashionMNIST\n",
    "from torchvision import transforms as tr\n",
    "from sklearn import datasets\n",
    "from sklearn.model_selection import train_test_split\n",
    "from sklearn.metrics import accuracy_score\n",
    "from tqdm import tqdm\n",
    "from sklearn.neural_network import MLPClassifier\n",
    "from sklearn.metrics import accuracy_score\n",
    "from pprint import pprint"
   ]
  },
  {
   "cell_type": "code",
   "execution_count": 2,
   "metadata": {},
   "outputs": [
    {
     "data": {
      "text/plain": [
       "((150, 4), (150, 4), (150,), {0, 1, 2})"
      ]
     },
     "execution_count": 2,
     "metadata": {},
     "output_type": "execute_result"
    }
   ],
   "source": [
    "iris = datasets.load_iris()\n",
    "X = iris['data']\n",
    "y = iris['target']\n",
    "\n",
    "J = np.random.uniform(size=X.shape)\n",
    "thresh = 0.2\n",
    "J[J < thresh] = 0\n",
    "J[J >= thresh] = 1\n",
    "\n",
    "X.shape, J.shape, y.shape, set(y)\n"
   ]
  },
  {
   "cell_type": "code",
   "execution_count": 3,
   "metadata": {},
   "outputs": [],
   "source": [
    "X_train, X_test, J_train, J_test, y_train, y_test = train_test_split(X, J, y, test_size=0.33, random_state=42)"
   ]
  },
  {
   "cell_type": "code",
   "execution_count": 4,
   "metadata": {},
   "outputs": [],
   "source": [
    "ds_train = TensorDataset(\n",
    "    torch.Tensor(X_train), \n",
    "    torch.Tensor(J_train),\n",
    "    torch.Tensor(y_train).long()\n",
    ")\n",
    "\n",
    "ds_test = TensorDataset(\n",
    "    torch.Tensor(X_test), \n",
    "    torch.Tensor(J_test),\n",
    "    torch.Tensor(y_test).long()\n",
    ")\n",
    "\n",
    "batch_size=16\n",
    "dl_train = DataLoader(ds_train, batch_size, shuffle=True)\n",
    "dl_test = DataLoader(ds_test, batch_size, shuffle=True)"
   ]
  },
  {
   "cell_type": "code",
   "execution_count": 5,
   "metadata": {},
   "outputs": [],
   "source": [
    "class Reshaper(nn.Module):\n",
    "    def __init__(self, out_size):\n",
    "        super().__init__()\n",
    "\n",
    "        self.out_size = out_size\n",
    "        \n",
    "    def forward(self, x):\n",
    "        return x.view(*self.out_size)"
   ]
  },
  {
   "cell_type": "code",
   "execution_count": 6,
   "metadata": {},
   "outputs": [],
   "source": [
    "class IrisInpainter(\n",
    "    nn.Module\n",
    "):\n",
    "    def __init__(self, n_mixes: int = 1, in_size: int = 4, a_width = 3):\n",
    "        super().__init__()\n",
    "\n",
    "        \n",
    "        self.extractor = nn.Sequential(\n",
    "            nn.Linear(in_size * 2, 10),\n",
    "            nn.ReLU(),\n",
    "            nn.Linear(10, 20),\n",
    "            nn.ReLU(),\n",
    "        )\n",
    "        \n",
    "        self.a_extractor = nn.Sequential(\n",
    "            nn.Linear(20, in_size * n_mixes * a_width),\n",
    "            Reshaper((-1, n_mixes, a_width, in_size,)) # * L, we don't want 1x4 vector but L x4 matrix))\n",
    "        )\n",
    "        self.m_extractor = nn.Sequential(\n",
    "            nn.Linear(20, n_mixes * in_size),\n",
    "            Reshaper((-1, n_mixes, in_size))\n",
    "\n",
    "        )\n",
    "        \n",
    "        self.d_extractor = nn.Sequential(\n",
    "            nn.Linear(20, n_mixes * in_size),\n",
    "            Reshaper((-1, n_mixes, in_size))\n",
    "\n",
    "        )\n",
    "        \n",
    "        self.p_extractor = nn.Sequential(\n",
    "            nn.Linear(20, n_mixes),\n",
    "            nn.Softmax()\n",
    "        ) # omit this, let's say p = 1 for now\n",
    "\n",
    "    def forward(self, X, J):\n",
    "        X_masked = X * J\n",
    "        X_J = torch.cat([X_masked, J], dim=1)\n",
    "        features = self.extractor(X_J)\n",
    "        m = self.m_extractor(features)\n",
    "        d = self.d_extractor(features)\n",
    "        p = self.p_extractor(features)\n",
    "        a = self.a_extractor(features)\n",
    "        \n",
    "        return  p, m, a, d"
   ]
  },
  {
   "cell_type": "code",
   "execution_count": 7,
   "metadata": {},
   "outputs": [],
   "source": [
    "\n",
    "def nll_loss(X, J, P, M, A, D) -> torch.autograd.Variable:\n",
    "    zipped = zip(X, J, P, M, A, D)\n",
    "    losses = []\n",
    "    \n",
    "    \n",
    "    for i, (x, j, p, m, a, d) in enumerate(zipped):\n",
    "        mask_inds = (j==0).nonzero().squeeze()\n",
    "        x_masked = torch.index_select(x, 0, mask_inds)\n",
    "        a_masked = torch.index_select(a, 2, mask_inds)\n",
    "        m_masked, d_masked = [\n",
    "            torch.index_select(t, 1, mask_inds)\n",
    "            for t in [m, d]\n",
    "        ]\n",
    "        \n",
    "        for (p_i, m_i, d_i, a_i) in zip(p, m_masked, d_masked, a_masked):\n",
    "            if a_i.shape[1] > 0:\n",
    "                cov = (a_i.transpose(0,1) @ a_i) + torch.diag(d_i ** 2)\n",
    "                mvn_d = dist.MultivariateNormal(m_i, cov) # calculate this manually\n",
    "                l = - mvn_d.log_prob(x_masked) \n",
    "                losses.append(l)\n",
    "            else:\n",
    "                losses.append(torch.tensor(0.0, requires_grad=True)) #.cuda())\n",
    "    return torch.stack(losses).mean()"
   ]
  },
  {
   "cell_type": "code",
   "execution_count": 9,
   "metadata": {},
   "outputs": [
    {
     "name": "stderr",
     "output_type": "stream",
     "text": [
      "  0%|          | 0/100 [00:00<?, ?it/s]/home/mprzewie/.anaconda3/envs/uj/lib/python3.7/site-packages/torch/nn/modules/container.py:92: UserWarning: Implicit dimension choice for softmax has been deprecated. Change the call to include dim=X as an argument.\n",
      "  input = module(input)\n",
      "100%|██████████| 100/100 [00:09<00:00, 10.78it/s]\n"
     ]
    },
    {
     "name": "stdout",
     "output_type": "stream",
     "text": [
      "tensor(0.9555, grad_fn=<MeanBackward0>)\n"
     ]
    },
    {
     "data": {
      "image/png": "[encoded data removed]",
      "text/plain": [
       "<Figure size 432x288 with 1 Axes>"
      ]
     },
     "metadata": {
      "needs_background": "light"
     },
     "output_type": "display_data"
    }
   ],
   "source": [
    "inpainter = IrisInpainter()\n",
    "# inpainter = inpainter.cuda()\n",
    "opt = optim.Adam(inpainter.parameters(), lr=4e-3)\n",
    "n_epochs = 100\n",
    "train_hist = []\n",
    "val_hist = []\n",
    "for e in tqdm(range(n_epochs)):\n",
    "    inpainter.train()\n",
    "    train_losses = [] \n",
    "    for i, (x, j, y) in enumerate(dl_train):\n",
    "        inpainter.zero_grad()\n",
    "#         x, j = x.cuda(), j.cuda()\n",
    "        p, m, a, d = inpainter(x, j)\n",
    "        loss = nll_loss(x, j, p, m, a, d)\n",
    "        loss.backward()\n",
    "        opt.step()\n",
    "        train_losses.append(loss)\n",
    "    train_hist.append(torch.stack(train_losses).mean())\n",
    "    \n",
    "    inpainter.eval()\n",
    "    val_losses = []\n",
    "    for i, (x, j, y) in enumerate(dl_test):\n",
    "        inpainter.zero_grad()\n",
    "#         x, j = x.cuda(), j.cuda()\n",
    "\n",
    "        p, m, a, d = inpainter(x, j)\n",
    "        loss = nll_loss(x, j, p, m, a, d)\n",
    "        val_losses.append(loss)\n",
    "    val_hist.append(torch.stack(val_losses).mean())\n",
    "\n",
    "#     print(train_hist[-1], val_losses[-1])\n",
    "\n",
    "plt.plot(list(range(n_epochs)), train_hist, label=\"train\")\n",
    "plt.plot(list(range(n_epochs)), val_hist, label=\"val\")\n",
    "plt.legend()\n",
    "print(val_losses[-1])\n"
   ]
  },
  {
   "cell_type": "code",
   "execution_count": 10,
   "metadata": {},
   "outputs": [
    {
     "data": {
      "text/plain": [
       "0.98"
      ]
     },
     "execution_count": 10,
     "metadata": {},
     "output_type": "execute_result"
    }
   ],
   "source": [
    "classifier = MLPClassifier((10, 20, 10, 4), learning_rate_init=4e-3, max_iter=1000)\n",
    "classifier.fit(X_train, y_train)\n",
    "accuracy_score(classifier.predict(X_test), y_test)"
   ]
  },
  {
   "cell_type": "code",
   "execution_count": 11,
   "metadata": {},
   "outputs": [
    {
     "data": {
      "text/plain": [
       "0.76"
      ]
     },
     "execution_count": 11,
     "metadata": {},
     "output_type": "execute_result"
    }
   ],
   "source": [
    "X_test_masked = X_test * J_test\n",
    "# X_test_masked[:, 0][J_test[:,0] == 0] = X_train[:,0].mean()\n",
    "# X_test_masked[:, 1][J_test[:,1] == 0] = X_train[:,1].mean()\n",
    "# X_test_masked[:, 2][J_test[:,2] == 0] = X_train[:,2].mean()\n",
    "# X_test_masked[:, 3][J_test[:,3] == 0] = X_train[:,3].mean()\n",
    "\n",
    "\n",
    "accuracy_score(classifier.predict(X_test_masked), y_test)\n",
    "# print(X_train.mean(axis=0))\n",
    "# X_test_masked"
   ]
  },
  {
   "cell_type": "code",
   "execution_count": 12,
   "metadata": {},
   "outputs": [
    {
     "name": "stdout",
     "output_type": "stream",
     "text": [
      "X_test[0] [6.1 2.8 4.7 1.2]\n",
      "X_test_masked[0] [6.1 2.8 0.  1.2]\n",
      "M_test.detach().numpy()[0, 0] [3.5194266 2.2902582 4.3174076 1.1538798]\n",
      "X_test_inpainted[0] [6.1        2.8        4.31740761 1.2       ]\n"
     ]
    },
    {
     "name": "stderr",
     "output_type": "stream",
     "text": [
      "/home/mprzewie/.anaconda3/envs/uj/lib/python3.7/site-packages/torch/nn/modules/container.py:92: UserWarning: Implicit dimension choice for softmax has been deprecated. Change the call to include dim=X as an argument.\n",
      "  input = module(input)\n"
     ]
    },
    {
     "data": {
      "text/plain": [
       "0.96"
      ]
     },
     "execution_count": 12,
     "metadata": {},
     "output_type": "execute_result"
    }
   ],
   "source": [
    "P_test, M_test, A_test, D_test = inpainter(torch.Tensor(X_test_masked), torch.Tensor(J_test))\n",
    "\n",
    "X_test_inpainted = X_test_masked.copy()\n",
    "X_test_inpainted[J_test == 0] = M_test.detach().cpu().numpy()[:, 0][J_test == 0]\n",
    "\n",
    "# X_test_inpainted = M_test.detach().cpu().numpy()[:, 0]\n",
    "print(\"X_test[0]\", X_test[0]), \n",
    "print(\"X_test_masked[0]\", X_test_masked[0]) \n",
    "print(\"M_test.detach().numpy()[0, 0]\", M_test.detach().cpu().numpy()[0, 0]) \n",
    "print(\"X_test_inpainted[0]\", X_test_inpainted[0])\n",
    "\n",
    "accuracy_score(classifier.predict(X_test_inpainted), y_test)"
   ]
  },
  {
   "cell_type": "code",
   "execution_count": 13,
   "metadata": {},
   "outputs": [
    {
     "name": "stderr",
     "output_type": "stream",
     "text": [
      "/home/mprzewie/.anaconda3/envs/uj/lib/python3.7/site-packages/torch/nn/modules/container.py:92: UserWarning: Implicit dimension choice for softmax has been deprecated. Change the call to include dim=X as an argument.\n",
      "  input = module(input)\n"
     ]
    },
    {
     "data": {
      "text/plain": [
       "(tensor(1.2720, grad_fn=<MeanBackward0>),)"
      ]
     },
     "execution_count": 13,
     "metadata": {},
     "output_type": "execute_result"
    }
   ],
   "source": [
    "P_test, M_test, A_test, D_test = inpainter(torch.Tensor(X_test_masked), torch.Tensor(J_test))\n",
    "#\n",
    "nll_loss(torch.tensor(X_test).float(), torch.tensor(J_test).float(), P_test, M_test, A_test, D_test), \n"
   ]
  },
  {
   "cell_type": "code",
   "execution_count": 16,
   "metadata": {},
   "outputs": [
    {
     "data": {
      "text/plain": [
       "tensor([[[[ 1.3005e+00,  7.2704e-02, -4.5100e-01, -5.2212e-02],\n",
       "          [-2.7404e-01, -2.5629e-02, -5.2458e-01, -4.7878e-01],\n",
       "          [-8.1538e-01, -2.5143e-02, -4.0545e-01, -3.0611e-01]]],\n",
       "\n",
       "\n",
       "        [[[ 1.5902e+00,  5.3240e-02, -5.4854e-01, -5.3169e-02],\n",
       "          [-3.7253e-01,  5.8783e-02, -6.6487e-01, -5.2126e-01],\n",
       "          [-1.0240e+00, -4.7817e-02, -3.7985e-01, -3.2934e-01]]],\n",
       "\n",
       "\n",
       "        [[[ 1.0396e+00,  2.9345e-01,  6.1209e-01,  7.5713e-01],\n",
       "          [-6.5527e-01,  1.9479e-01, -1.7811e-01,  4.2216e-01],\n",
       "          [-7.7358e-01,  1.2367e-01, -3.6835e-01, -1.0461e+00]]],\n",
       "\n",
       "\n",
       "        [[[ 5.6902e-01,  3.6508e-01,  2.4951e-01,  5.3692e-01],\n",
       "          [-1.7401e-01,  1.3008e-02, -1.7502e-01,  2.0281e-01],\n",
       "          [-4.6677e-01, -6.7784e-03, -1.7177e-01, -7.1533e-01]]],\n",
       "\n",
       "\n",
       "        [[[ 1.4137e+00,  5.3329e-02, -4.6394e-01, -6.2432e-02],\n",
       "          [-3.1895e-01, -1.1904e-02, -5.5372e-01, -4.9782e-01],\n",
       "          [-8.6999e-01, -5.1348e-03, -4.4724e-01, -3.3084e-01]]],\n",
       "\n",
       "\n",
       "        [[[ 1.5308e+00,  5.7525e-02, -5.3253e-01, -5.3189e-02],\n",
       "          [-3.4658e-01,  4.1819e-02, -6.3448e-01, -5.0980e-01],\n",
       "          [-9.7746e-01, -4.2451e-02, -3.8380e-01, -3.2521e-01]]],\n",
       "\n",
       "\n",
       "        [[[ 1.8046e+00,  4.1257e-02, -5.4102e-01, -9.4178e-02],\n",
       "          [-4.6881e-01,  8.3815e-02, -7.5702e-01, -5.4972e-01],\n",
       "          [-1.1293e+00, -8.1757e-04, -4.6178e-01, -3.6902e-01]]],\n",
       "\n",
       "\n",
       "        [[[ 1.4005e+00,  2.1441e-01,  7.4162e-01,  3.2838e-01],\n",
       "          [-1.0040e+00,  4.2722e-01, -3.2005e-01,  4.1633e-01],\n",
       "          [-9.2438e-01,  9.3270e-02, -4.6867e-01, -6.2072e-01]]],\n",
       "\n",
       "\n",
       "        [[[ 1.9513e+00, -7.0589e-03, -6.3344e-01, -1.1656e-01],\n",
       "          [-5.0523e-01,  1.1508e-01, -7.4532e-01, -5.2647e-01],\n",
       "          [-1.2237e+00,  2.3808e-03, -3.9136e-01, -3.9328e-01]]],\n",
       "\n",
       "\n",
       "        [[[ 1.6372e+00, -6.9853e-02, -7.5303e-01, -1.7469e-01],\n",
       "          [-3.2055e-01,  5.9920e-02, -3.7990e-01, -2.6925e-01],\n",
       "          [-1.0303e+00, -1.1548e-02, -1.6089e-02, -3.3832e-01]]],\n",
       "\n",
       "\n",
       "        [[[ 2.1147e+00,  4.4731e-03, -5.6509e-01, -1.3407e-01],\n",
       "          [-6.1277e-01,  1.2988e-01, -8.6894e-01, -5.9619e-01],\n",
       "          [-1.3086e+00,  4.1960e-02, -5.3857e-01, -4.2197e-01]]],\n",
       "\n",
       "\n",
       "        [[[ 1.0461e+00,  1.2535e-01, -4.7850e-01, -6.2691e-03],\n",
       "          [-1.4876e-01, -2.6015e-02, -4.7995e-01, -4.2993e-01],\n",
       "          [-7.2346e-01, -1.1454e-01, -2.3171e-01, -2.3165e-01]]],\n",
       "\n",
       "\n",
       "        [[[ 1.1576e+00,  1.0616e-01, -4.8827e-01, -1.4901e-02],\n",
       "          [-2.0188e-01, -1.1687e-02, -5.1393e-01, -4.5356e-01],\n",
       "          [-7.8834e-01, -1.0020e-01, -2.6846e-01, -2.5275e-01]]],\n",
       "\n",
       "\n",
       "        [[[ 1.4364e+00,  7.5274e-02, -5.4318e-01, -3.8261e-02],\n",
       "          [-2.9436e-01,  3.8437e-02, -6.1168e-01, -4.8894e-01],\n",
       "          [-9.3477e-01, -7.0104e-02, -3.2637e-01, -3.0077e-01]]],\n",
       "\n",
       "\n",
       "        [[[ 1.4860e+00,  6.5477e-02, -5.1821e-01, -5.0300e-02],\n",
       "          [-3.3909e-01,  3.4994e-02, -6.2645e-01, -5.0649e-01],\n",
       "          [-9.6106e-01, -4.9890e-02, -3.7167e-01, -3.1467e-01]]],\n",
       "\n",
       "\n",
       "        [[[ 1.3608e+00,  5.8891e-02, -4.1513e-01, -7.0983e-02],\n",
       "          [-3.2592e-01, -3.5166e-02, -5.3556e-01, -4.9808e-01],\n",
       "          [-8.3637e-01,  8.8772e-03, -4.7455e-01, -3.2772e-01]]],\n",
       "\n",
       "\n",
       "        [[[ 1.4175e+00,  1.8567e-01,  6.7820e-01,  2.0706e-01],\n",
       "          [-1.0048e+00,  4.3390e-01, -2.7912e-01,  4.1885e-01],\n",
       "          [-8.9565e-01,  8.1118e-02, -4.2395e-01, -5.3804e-01]]],\n",
       "\n",
       "\n",
       "        [[[ 1.1947e+00,  1.8736e-01,  5.6084e-01,  3.6447e-01],\n",
       "          [-8.2308e-01,  3.1362e-01, -2.5073e-01,  3.7739e-01],\n",
       "          [-8.0942e-01,  3.3705e-02, -3.6273e-01, -5.9694e-01]]],\n",
       "\n",
       "\n",
       "        [[[ 1.9002e+00,  4.2172e-02, -5.7300e-01, -9.7422e-02],\n",
       "          [-4.9943e-01,  1.1495e-01, -8.1453e-01, -5.6026e-01],\n",
       "          [-1.2011e+00, -1.0989e-02, -4.4430e-01, -3.7283e-01]]],\n",
       "\n",
       "\n",
       "        [[[ 2.0056e+00, -4.7642e-02, -8.2431e-01, -1.4786e-01],\n",
       "          [-4.6133e-01,  1.6573e-01, -6.7776e-01, -4.1216e-01],\n",
       "          [-1.3114e+00, -5.2264e-02, -8.9636e-02, -3.7501e-01]]],\n",
       "\n",
       "\n",
       "        [[[ 7.6467e-01,  3.3662e-01,  2.6669e-01,  3.2789e-01],\n",
       "          [-3.3015e-01,  1.2037e-01, -2.2931e-01,  2.2022e-01],\n",
       "          [-4.9778e-01, -4.5593e-02, -2.0730e-01, -5.4250e-01]]],\n",
       "\n",
       "\n",
       "        [[[ 2.0245e+00,  1.7933e-02, -5.6282e-01, -1.2283e-01],\n",
       "          [-5.6871e-01,  1.1971e-01, -8.4075e-01, -5.7969e-01],\n",
       "          [-1.2604e+00,  2.5384e-02, -5.0474e-01, -4.0370e-01]]],\n",
       "\n",
       "\n",
       "        [[[ 1.4828e+00,  6.6434e-02, -5.1890e-01, -5.2159e-02],\n",
       "          [-3.3189e-01,  3.3180e-02, -6.2292e-01, -5.0248e-01],\n",
       "          [-9.5246e-01, -4.6516e-02, -3.7379e-01, -3.1584e-01]]],\n",
       "\n",
       "\n",
       "        [[[ 2.1055e+00, -4.9574e-02, -6.4254e-01, -1.5777e-01],\n",
       "          [-6.0088e-01,  1.2462e-01, -7.5648e-01, -5.3100e-01],\n",
       "          [-1.3202e+00,  3.7723e-02, -4.0624e-01, -4.2614e-01]]],\n",
       "\n",
       "\n",
       "        [[[ 2.0766e+00, -3.6950e-01, -1.2530e+00, -2.2743e-01],\n",
       "          [-4.0175e-01,  6.4421e-02, -1.2326e-01,  3.9646e-02],\n",
       "          [-1.4086e+00, -3.2950e-02,  4.9144e-01, -4.7065e-01]]],\n",
       "\n",
       "\n",
       "        [[[ 2.1536e+00, -2.7008e-02, -5.8210e-01, -1.5346e-01],\n",
       "          [-6.3218e-01,  1.2335e-01, -8.2877e-01, -5.8058e-01],\n",
       "          [-1.3224e+00,  6.2386e-02, -5.3034e-01, -4.3951e-01]]],\n",
       "\n",
       "\n",
       "        [[[ 1.4252e+00,  5.6839e-02, -4.1776e-01, -7.9536e-02],\n",
       "          [-3.4007e-01, -2.0899e-02, -5.5364e-01, -4.9170e-01],\n",
       "          [-8.5275e-01,  2.3633e-02, -4.9689e-01, -3.3290e-01]]],\n",
       "\n",
       "\n",
       "        [[[ 1.9295e+00, -2.6162e-01, -9.5500e-01, -2.6026e-01],\n",
       "          [-4.4529e-01,  5.3462e-02, -2.1058e-01, -1.9300e-01],\n",
       "          [-1.2347e+00,  4.0455e-02,  1.4640e-01, -4.4070e-01]]],\n",
       "\n",
       "\n",
       "        [[[ 1.4248e+00,  7.2918e-02, -5.2286e-01, -4.4775e-02],\n",
       "          [-2.9693e-01,  2.5958e-02, -5.9855e-01, -4.8880e-01],\n",
       "          [-9.1584e-01, -5.5327e-02, -3.5207e-01, -3.0608e-01]]],\n",
       "\n",
       "\n",
       "        [[[ 1.4377e+00,  7.5569e-02, -5.3395e-01, -4.2165e-02],\n",
       "          [-2.9988e-01,  3.5193e-02, -6.1249e-01, -4.9009e-01],\n",
       "          [-9.3304e-01, -6.4530e-02, -3.3626e-01, -3.0257e-01]]],\n",
       "\n",
       "\n",
       "        [[[ 1.3329e+00,  1.3221e-01, -4.8275e-01, -7.5336e-02],\n",
       "          [-2.4156e-01,  1.4301e-02, -6.2556e-01, -4.4223e-01],\n",
       "          [-8.4783e-01, -4.9791e-02, -3.1693e-01, -2.7875e-01]]],\n",
       "\n",
       "\n",
       "        [[[ 1.5852e+00,  4.9432e-02, -5.2011e-01, -5.9358e-02],\n",
       "          [-3.9184e-01,  4.7046e-02, -6.5853e-01, -5.2899e-01],\n",
       "          [-1.0188e+00, -3.4764e-02, -4.0923e-01, -3.3394e-01]]],\n",
       "\n",
       "\n",
       "        [[[ 1.2843e+00,  1.8588e-01,  6.3275e-01,  3.6424e-01],\n",
       "          [-9.1406e-01,  3.5169e-01, -2.7500e-01,  3.9592e-01],\n",
       "          [-8.6830e-01,  4.7013e-02, -4.0477e-01, -6.0951e-01]]],\n",
       "\n",
       "\n",
       "        [[[ 1.0650e+00,  1.6759e-01,  5.5817e-01,  7.1437e-01],\n",
       "          [-7.8717e-01,  1.6928e-01, -1.6564e-01,  4.2721e-01],\n",
       "          [-8.4714e-01,  1.0963e-02, -3.1103e-01, -8.8071e-01]]],\n",
       "\n",
       "\n",
       "        [[[ 9.7633e-01,  2.6239e-01,  4.5121e-01,  4.4776e-01],\n",
       "          [-6.4989e-01,  1.8716e-01, -2.5919e-01,  2.8696e-01],\n",
       "          [-6.9739e-01, -2.3831e-02, -3.1912e-01, -6.2247e-01]]],\n",
       "\n",
       "\n",
       "        [[[ 2.0323e+00, -2.8083e-02, -6.2566e-01, -1.3992e-01],\n",
       "          [-5.5898e-01,  1.1562e-01, -7.5314e-01, -5.3335e-01],\n",
       "          [-1.2678e+00,  2.8217e-02, -4.1940e-01, -4.1354e-01]]],\n",
       "\n",
       "\n",
       "        [[[ 1.9298e+00,  6.2534e-02, -6.8557e-01, -1.0658e-01],\n",
       "          [-4.3948e-01,  1.6368e-01, -8.4469e-01, -4.9745e-01],\n",
       "          [-1.2442e+00, -5.8445e-02, -2.7019e-01, -3.4734e-01]]],\n",
       "\n",
       "\n",
       "        [[[ 9.9846e-01,  2.5025e-01,  4.6466e-01,  4.4076e-01],\n",
       "          [-6.7939e-01,  1.9782e-01, -2.6177e-01,  2.9314e-01],\n",
       "          [-7.1516e-01, -2.3125e-02, -3.2601e-01, -6.1119e-01]]],\n",
       "\n",
       "\n",
       "        [[[ 1.4537e+00,  6.9806e-02, -5.2416e-01, -4.4669e-02],\n",
       "          [-3.1824e-01,  3.3085e-02, -6.1467e-01, -4.9857e-01],\n",
       "          [-9.4322e-01, -5.8022e-02, -3.5388e-01, -3.0778e-01]]],\n",
       "\n",
       "\n",
       "        [[[ 1.0946e+00,  1.6672e-01, -4.4740e-01, -5.0500e-02],\n",
       "          [-1.6179e-01, -1.7304e-02, -5.5982e-01, -4.1136e-01],\n",
       "          [-7.4042e-01, -9.2536e-02, -2.3735e-01, -2.2775e-01]]],\n",
       "\n",
       "\n",
       "        [[[ 1.9795e+00, -7.6928e-03, -5.9172e-01, -1.3608e-01],\n",
       "          [-5.4921e-01,  1.0605e-01, -7.6220e-01, -5.3774e-01],\n",
       "          [-1.2397e+00,  2.5040e-02, -4.3300e-01, -4.0170e-01]]],\n",
       "\n",
       "\n",
       "        [[[ 1.9695e+00,  2.8221e-02, -5.4670e-01, -1.1318e-01],\n",
       "          [-5.5222e-01,  1.1140e-01, -8.3180e-01, -5.8078e-01],\n",
       "          [-1.2328e+00,  1.6857e-02, -5.0351e-01, -3.9297e-01]]],\n",
       "\n",
       "\n",
       "        [[[ 1.9841e+00,  3.2899e-02, -7.2740e-01, -1.1615e-01],\n",
       "          [-4.5518e-01,  1.7204e-01, -8.1982e-01, -4.8434e-01],\n",
       "          [-1.2797e+00, -5.5342e-02, -2.3610e-01, -3.5971e-01]]],\n",
       "\n",
       "\n",
       "        [[[ 1.4783e+00,  1.1551e-01, -5.1669e-01, -8.0822e-02],\n",
       "          [-2.9676e-01,  4.5980e-02, -6.8205e-01, -4.6614e-01],\n",
       "          [-9.3935e-01, -4.5760e-02, -3.3300e-01, -2.9884e-01]]],\n",
       "\n",
       "\n",
       "        [[[ 1.5213e+00,  6.1375e-02, -5.4096e-01, -4.6967e-02],\n",
       "          [-3.4262e-01,  4.7556e-02, -6.3936e-01, -5.0934e-01],\n",
       "          [-9.8448e-01, -5.5707e-02, -3.6192e-01, -3.1766e-01]]],\n",
       "\n",
       "\n",
       "        [[[ 1.1971e+00,  9.0592e-02, -4.5208e-01, -4.0298e-02],\n",
       "          [-2.2090e-01, -3.4991e-02, -4.9548e-01, -4.5670e-01],\n",
       "          [-7.6197e-01, -4.6622e-02, -3.5792e-01, -2.8314e-01]]],\n",
       "\n",
       "\n",
       "        [[[ 1.3486e+00,  6.1891e-02, -4.3544e-01, -6.4549e-02],\n",
       "          [-3.0327e-01, -2.9975e-02, -5.3093e-01, -4.8948e-01],\n",
       "          [-8.2872e-01, -1.3261e-03, -4.5101e-01, -3.2292e-01]]],\n",
       "\n",
       "\n",
       "        [[[ 2.1009e+00, -1.6693e-02, -6.2446e-01, -1.3748e-01],\n",
       "          [-5.9547e-01,  1.3831e-01, -8.2038e-01, -5.5892e-01],\n",
       "          [-1.3252e+00,  1.9618e-02, -4.3362e-01, -4.1329e-01]]],\n",
       "\n",
       "\n",
       "        [[[ 1.7340e+00, -1.4014e-01, -9.3021e-01, -1.9627e-01],\n",
       "          [-2.9949e-01,  6.3063e-02, -2.9109e-01, -5.8061e-02],\n",
       "          [-1.1471e+00, -5.3212e-02,  2.6888e-01, -3.2794e-01]]],\n",
       "\n",
       "\n",
       "        [[[ 1.3114e+00,  7.7826e-02,  1.0594e-01, -7.7740e-02],\n",
       "          [-7.8126e-01,  2.9455e-01, -2.3652e-01,  5.5635e-02],\n",
       "          [-8.4543e-01, -7.2128e-02, -3.2252e-01, -2.1225e-01]]]],\n",
       "       grad_fn=<ViewBackward>)"
      ]
     },
     "execution_count": 16,
     "metadata": {},
     "output_type": "execute_result"
    }
   ],
   "source": [
    "A_test"
   ]
  },
  {
   "cell_type": "code",
   "execution_count": 61,
   "metadata": {},
   "outputs": [
    {
     "data": {
      "text/plain": [
       "(tensor(0.1227, grad_fn=<MeanBackward0>),)"
      ]
     },
     "execution_count": 61,
     "metadata": {},
     "output_type": "execute_result"
    }
   ],
   "source": [
    "nll_loss(torch.tensor(X_test).float(), torch.tensor(J_test).float(), P_test, torch.tensor(X_test).float().reshape(-1, 1, 4), A_test, D_test), \n"
   ]
  },
  {
   "cell_type": "code",
   "execution_count": null,
   "metadata": {},
   "outputs": [],
   "source": []
  }
 ],
 "metadata": {
  "kernelspec": {
   "display_name": "Python (uj)",
   "language": "python",
   "name": "uj"
  },
  "language_info": {
   "codemirror_mode": {
    "name": "ipython",
    "version": 3
   },
   "file_extension": ".py",
   "mimetype": "text/x-python",
   "name": "python",
   "nbconvert_exporter": "python",
   "pygments_lexer": "ipython3",
   "version": "3.7.4"
  }
 },
 "nbformat": 4,
 "nbformat_minor": 2
}
