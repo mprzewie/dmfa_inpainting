{
 "cells": [
  {
   "cell_type": "code",
   "execution_count": 68,
   "metadata": {},
   "outputs": [],
   "source": [
    "import numpy as np\n",
    "import matplotlib.pyplot as plt\n",
    "\n",
    "import torch\n",
    "from torch import nn\n",
    "from torch import distributions as dist\n",
    "from torch.utils.data import DataLoader, TensorDataset\n",
    "from torch import optim\n",
    "\n",
    "from torchvision.datasets import MNIST, FashionMNIST\n",
    "from torchvision import transforms as tr\n",
    "from sklearn import datasets\n",
    "from sklearn.model_selection import train_test_split\n",
    "from sklearn.metrics import accuracy_score"
   ]
  },
  {
   "cell_type": "code",
   "execution_count": 217,
   "metadata": {},
   "outputs": [
    {
     "data": {
      "text/plain": [
       "((150, 4), (150, 4), (150,), {0, 1, 2})"
      ]
     },
     "execution_count": 217,
     "metadata": {},
     "output_type": "execute_result"
    }
   ],
   "source": [
    "iris = datasets.load_iris()\n",
    "X = iris['data']\n",
    "y = iris['target']\n",
    "J = (np.eye(X.shape[1])[np.random.choice(X.shape[1], X.shape[0])] ==0).astype(int)\n",
    "\n",
    "X = X * J # masked elements are zeros\n",
    "X.shape, J.shape, y.shape, set(y)"
   ]
  },
  {
   "cell_type": "code",
   "execution_count": 42,
   "metadata": {},
   "outputs": [],
   "source": [
    "X_train, X_test, J_train, J_test, y_train, y_test = train_test_split(X, J, y, test_size=0.33, random_state=42)"
   ]
  },
  {
   "cell_type": "code",
   "execution_count": 43,
   "metadata": {},
   "outputs": [],
   "source": [
    "ds_train = TensorDataset(\n",
    "    torch.Tensor(X_train), \n",
    "    torch.Tensor(J_train),\n",
    "    torch.Tensor(y_train).long()\n",
    ")\n",
    "\n",
    "ds_test = TensorDataset(\n",
    "    torch.Tensor(X_test), \n",
    "    torch.Tensor(J_test),\n",
    "    torch.Tensor(y_test).long()\n",
    ")\n",
    "\n",
    "batch_size=16\n",
    "dl_train = DataLoader(ds_train, batch_size, shuffle=True)\n",
    "dl_test = DataLoader(ds_test, batch_size, shuffle=True)"
   ]
  },
  {
   "cell_type": "code",
   "execution_count": 214,
   "metadata": {},
   "outputs": [],
   "source": [
    "class Reshaper(nn.Module):\n",
    "    def __init__(self, out_size):\n",
    "        super().__init__()\n",
    "\n",
    "        self.out_size = out_size\n",
    "        \n",
    "    def forward(self, x):\n",
    "        return x.view(*self.out_size)"
   ]
  },
  {
   "cell_type": "code",
   "execution_count": 280,
   "metadata": {},
   "outputs": [],
   "source": [
    "class IrisInpainter(\n",
    "    nn.Module\n",
    "):\n",
    "    def __init__(self, n_mixes: int = 3, in_size: int = 4):\n",
    "        super().__init__()\n",
    "\n",
    "        \n",
    "        self.extractor = nn.Sequential(\n",
    "            nn.Linear(in_size * 2, 10),\n",
    "            nn.ReLU(),\n",
    "            nn.Linear(10, 20),\n",
    "            nn.ReLU(),\n",
    "        )\n",
    "        \n",
    "        self.a_extractor = nn.Sequential(\n",
    "            nn.Linear(20, in_size * n_mixes),\n",
    "            Reshaper((-1, n_mixes, in_size))\n",
    "        )\n",
    "        self.m_extractor = nn.Sequential(\n",
    "            nn.Linear(20, n_mixes * in_size),\n",
    "            Reshaper((-1, n_mixes, in_size))\n",
    "\n",
    "        )\n",
    "        \n",
    "        self.d_extractor = nn.Sequential(\n",
    "            nn.Linear(20, n_mixes * in_size),\n",
    "            Reshaper((-1, n_mixes, in_size))\n",
    "\n",
    "        )\n",
    "        \n",
    "        self.p_extractor = nn.Sequential(\n",
    "            nn.Linear(20, n_mixes),\n",
    "            nn.Softmax()\n",
    "        )\n",
    "\n",
    "    def forward(self, X, J):\n",
    "        X_J = torch.cat([X, J], dim=1)\n",
    "        features = self.extractor(X_J)\n",
    "        m = self.m_extractor(features)\n",
    "        d = self.d_extractor(features)\n",
    "        p = self.p_extractor(features)\n",
    "        a = self.a_extractor(features)\n",
    "        \n",
    "        return  p, m, a, d"
   ]
  },
  {
   "cell_type": "code",
   "execution_count": 287,
   "metadata": {},
   "outputs": [],
   "source": [
    "\n",
    "def nll_loss(X, J, P, M, A, D) -> torch.autograd.Variable:\n",
    "    zipped = zip(X, J, P, M, A, D)\n",
    "\n",
    "    for i, (x, j, p, m, a, d) in enumerate(zipped):\n",
    "        print(i)\n",
    "        print(\"x\", x.shape)\n",
    "        print(\"j\", j)\n",
    "        print(\"p\", p.shape)\n",
    "        print(\"m\", m.shape)\n",
    "        print(\"a\", a.shape)\n",
    "        print(\"d\", d.shape, )\n",
    "        for (p_i, m_i, d_i, a_i) in zip(p, m, d, a):\n",
    "            a_i_u = a_i.unsqueeze(0)\n",
    "            cov = (a_i_u.T @ a_i_u) + torch.diag(d_i ** 2)\n",
    "            mvn_d = dist.MultivariateNormal(m_i, cov)\n",
    "            l = mvn_d.log_prob(x) \n",
    "            # add log p instead of multiplying prob by p\n",
    "            # but since i'm summing all of this\n",
    "            \n",
    "        \n",
    "        break"
   ]
  },
  {
   "cell_type": "code",
   "execution_count": 288,
   "metadata": {},
   "outputs": [
    {
     "name": "stdout",
     "output_type": "stream",
     "text": [
      "0\n",
      "x torch.Size([4])\n",
      "j tensor([0., 1., 1., 1.])\n",
      "p torch.Size([3])\n",
      "m torch.Size([3, 4])\n",
      "a torch.Size([3, 4])\n",
      "d torch.Size([3, 4])\n",
      "tensor(-332.8036, grad_fn=<SubBackward0>)\n",
      "tensor(-6484.9761, grad_fn=<SubBackward0>)\n",
      "tensor(-204.3279, grad_fn=<SubBackward0>)\n"
     ]
    }
   ],
   "source": [
    "inpainter = IrisInpainter()\n",
    "for x, j, y in dl_train:\n",
    "    p, m, a, d = inpainter(x, j)\n",
    "    nll_loss(x, j, p, m, a, d)\n",
    "    \n",
    "    break"
   ]
  },
  {
   "cell_type": "code",
   "execution_count": null,
   "metadata": {},
   "outputs": [],
   "source": []
  },
  {
   "cell_type": "code",
   "execution_count": null,
   "metadata": {},
   "outputs": [],
   "source": []
  }
 ],
 "metadata": {
  "kernelspec": {
   "display_name": "Python (uj)",
   "language": "python",
   "name": "uj"
  },
  "language_info": {
   "codemirror_mode": {
    "name": "ipython",
    "version": 3
   },
   "file_extension": ".py",
   "mimetype": "text/x-python",
   "name": "python",
   "nbconvert_exporter": "python",
   "pygments_lexer": "ipython3",
   "version": "3.7.4"
  }
 },
 "nbformat": 4,
 "nbformat_minor": 2
}
