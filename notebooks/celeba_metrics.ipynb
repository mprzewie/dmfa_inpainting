{
 "cells": [
  {
   "cell_type": "code",
   "execution_count": null,
   "metadata": {},
   "outputs": [],
   "source": [
    "%load_ext autoreload\n",
    "%autoreload 2"
   ]
  },
  {
   "cell_type": "code",
   "execution_count": null,
   "metadata": {},
   "outputs": [],
   "source": [
    "import sys\n",
    "sys.path.append(\"..\")"
   ]
  },
  {
   "cell_type": "code",
   "execution_count": null,
   "metadata": {},
   "outputs": [],
   "source": [
    "import torch\n",
    "import numpy as np\n",
    "from pathlib import Path\n",
    "import pickle\n",
    "import matplotlib.pyplot as plt\n",
    "from inpainting.visualizations import visualizations_utils as vis\n",
    "from inpainting.visualizations.digits import img_with_mask\n",
    "import pandas as pd\n",
    "from inpainting.evaluation import evaluation as ev\n",
    "from tqdm import tqdm\n",
    "from itertools import chain\n",
    "from inpainting.evaluation.frechet_models import MNISTNet\n",
    "from torchvision.datasets import MNIST\n",
    "from torchvision.transforms import ToTensor\n",
    "from torch.utils.data import DataLoader\n",
    "from torch.optim import Adam, SGD\n",
    "from torch.nn import CrossEntropyLoss\n",
    "from sklearn.metrics import accuracy_score\n",
    "from inpainting.evaluation import fid\n",
    "import seaborn as sns\n",
    "from torch.utils.data import TensorDataset, DataLoader\n",
    "import matplotlib.patches as patches\n"
   ]
  },
  {
   "cell_type": "code",
   "execution_count": null,
   "metadata": {},
   "outputs": [],
   "source": [
    "# mnist_experiments_paths = {\n",
    "#     \"misgan\": Path(\"../results/mnist/misgan/\"),\n",
    "#     \"torch_mfa\": Path(\"../../gmm_missing/models/mnist\"),\n",
    "#     \"gmm_fullconv\": Path(\"../results/mnist/long_trainings/fullconv_v1\"),\n",
    "#     \"gmm_linear_heads\": Path(\"../results/mnist/long_trainings/linear_v1\"),\n",
    "# }\n",
    "\n",
    "celeba_32_experiments_paths = {\n",
    "    \"gmm_linear_heads\": Path(\"../results/celeba/linear_heads/32x32/scripted_v2_after_fix\"),\n",
    "#     \"gmm_fullconv\": Path(\"../results/celeba/fullconv/32x32/a_ampl_0.2\"),\n",
    "    \"torch_mfa\": Path(\"../../gmm_missing/models/celeba_32_32\"),\n",
    "#     \"gmm_fullconv_nll_1_mse_10\": Path(\"../results/celeba/fullconv/32x32/ampl_0.2_nll_1_mse_10/\"),\n",
    "#     \"gmm_fullconv_nll_1_mse_1\": Path(\"../results/celeba/fullconv/32x32/ampl_0.2_nll_1_mse_1/\"),\n",
    "#     \"gmm_fullconv_nll_1_mse_1_stopped_after_10_epochs\": Path(\"../results/celeba/fullconv/32x32/ampl_0.2_nll_1_mse_1_for_10_epochs_and_then_0/\"),\n",
    "\n",
    "\n",
    "}\n",
    "\n",
    "svhn_experiments_paths = {\n",
    "    \"dmfa_comp\": Path(\"../results/inpainting/svhn/fullconv/complete_data/dmfa_mse_10_eps/\"),\n",
    "    \"dmfa_incomp\": Path(\"../results/inpainting/svhn/fullconv/incomplete_data/dmfa_mse_10_eps_v4_train_det/\"),\n",
    "    \"torch_mfa\": Path(\"../../gmm_missing/models/svhn_32_32/\")\n",
    "}\n",
    "experiments_paths = svhn_experiments_paths"
   ]
  },
  {
   "cell_type": "code",
   "execution_count": null,
   "metadata": {},
   "outputs": [],
   "source": [
    "# !ls ../../gmm_missing/models/celeba_32_32"
   ]
  },
  {
   "cell_type": "code",
   "execution_count": null,
   "metadata": {},
   "outputs": [],
   "source": [
    "experiments_results = dict()\n",
    "\n",
    "for (name, path) in experiments_paths.items():\n",
    "    print(name)\n",
    "    with (path / \"val_predictions_16x16.pkl\").open(\"rb\") as f:\n",
    "        experiments_results[name] = pickle.load(f)"
   ]
  },
  {
   "cell_type": "code",
   "execution_count": null,
   "metadata": {},
   "outputs": [],
   "source": [
    "experiments_results.keys()"
   ]
  },
  {
   "cell_type": "code",
   "execution_count": null,
   "metadata": {},
   "outputs": [],
   "source": [
    "# x, j, p, m ,a, d, y = experiments_results[\"torch_mfa\"][0]"
   ]
  },
  {
   "cell_type": "code",
   "execution_count": null,
   "metadata": {},
   "outputs": [],
   "source": [
    "# [t.shape for t in [x, j, p, m, a, d, y]]"
   ]
  },
  {
   "cell_type": "code",
   "execution_count": null,
   "metadata": {},
   "outputs": [],
   "source": [
    "experiments_images = dict()\n",
    "\n",
    "for (name, results) in experiments_results.items():\n",
    "    experiments_images[name] = [(ev.outputs_to_images(*r), r[-1]) for r in results]"
   ]
  },
  {
   "cell_type": "markdown",
   "metadata": {},
   "source": [
    "# NLL and MSE"
   ]
  },
  {
   "cell_type": "code",
   "execution_count": null,
   "metadata": {},
   "outputs": [],
   "source": [
    "ml_metrics = {\n",
    "    name: [\n",
    "        (ev.loss_like_metrics(res), res)\n",
    "        for res in results\n",
    "    ]\n",
    "    for name, results in tqdm(experiments_results.items())\n",
    "}"
   ]
  },
  {
   "cell_type": "code",
   "execution_count": null,
   "metadata": {},
   "outputs": [],
   "source": [
    "# ml_metrics_df[[\"imputer_model\", \"nll\", \"mse\"]].to_csv(\"celeba_nll.csv\")"
   ]
  },
  {
   "cell_type": "code",
   "execution_count": null,
   "metadata": {},
   "outputs": [],
   "source": [
    "ml_metrics_df = pd.DataFrame([\n",
    "    {\n",
    "        \"imputer_model\": model,\n",
    "#         \"smieja_nll\": m[1][-1][1] if len(m[1][-1].shape) > 0 else None,\n",
    "        **m[0]\n",
    "    }\n",
    "    for model, metrics in ml_metrics.items()\n",
    "    for m in metrics[:20]\n",
    "])\n",
    "\n",
    "ml_metrics_df"
   ]
  },
  {
   "cell_type": "code",
   "execution_count": null,
   "metadata": {},
   "outputs": [],
   "source": [
    "ml_metrics_df.groupby(\"imputer_model\").agg([\"mean\", \"std\"]).to_csv(\"svhn_summary.csv\")"
   ]
  },
  {
   "cell_type": "code",
   "execution_count": null,
   "metadata": {},
   "outputs": [],
   "source": [
    "ml_metrics_df[[\"imputer_model\", \"nll\", \"mse\"]].to_csv(\"svhn_nll.csv\")"
   ]
  },
  {
   "cell_type": "code",
   "execution_count": null,
   "metadata": {},
   "outputs": [],
   "source": [
    "# mfa_df = ml_metrics_df[ml_metrics_df.imputer_model == \"torch_mfa\"]\n",
    "# mfa_df"
   ]
  },
  {
   "cell_type": "code",
   "execution_count": null,
   "metadata": {},
   "outputs": [],
   "source": [
    "ml_metrics_df.groupby(\"imputer_model\").agg([\"mean\", \"std\"])"
   ]
  },
  {
   "cell_type": "code",
   "execution_count": null,
   "metadata": {},
   "outputs": [],
   "source": [
    "226 / (16*16*3)"
   ]
  },
  {
   "cell_type": "code",
   "execution_count": null,
   "metadata": {},
   "outputs": [],
   "source": [
    "for metric in [\"nll\", \"mse\"]:\n",
    "    plt.figure(figsize=(15, 5))\n",
    "    plt.title(metric)\n",
    "    sns.boxplot(\n",
    "        data=ml_metrics_df,\n",
    "        y=metric,\n",
    "        # x=\"img_kind\",\n",
    "        x=\"imputer_model\"\n",
    "    )\n",
    "    plt.show()"
   ]
  },
  {
   "cell_type": "markdown",
   "metadata": {},
   "source": [
    "# Worst and best NLL cases for every model"
   ]
  },
  {
   "cell_type": "code",
   "execution_count": null,
   "metadata": {},
   "outputs": [],
   "source": [
    "n = 1\n",
    "for model, metrics_with_cases in ml_metrics.items():\n",
    "    metrics_with_cases = sorted(\n",
    "        metrics_with_cases, key = lambda m_c: m_c[0][\"nll\"]\n",
    "    )\n",
    "    if model != \"gmm_fullconv_nll_1_mse_1_stopped_after_10_epochs\":\n",
    "        continue\n",
    "#     metrics_with_cases = [\n",
    "#         m for m in metrics_with_cases if m[1][-1] != 1\n",
    "#     ] \n",
    "    for (name, mwc) in [\n",
    "        (\"worst\", metrics_with_cases[-n:]),\n",
    "        (\"best\", metrics_with_cases[:n])\n",
    "    ]:\n",
    "        print(model, name, n)\n",
    "        row_len = vis.row_length(\n",
    "            *metrics_with_cases[0][1]\n",
    "        )\n",
    "        fig, ax = plt.subplots(nrows=n, ncols=row_len, figsize=(2* row_len, n * 2))\n",
    "        for i, (m, c) in enumerate(mwc):\n",
    "            vis.visualize_sample(\n",
    "                *c,\n",
    "                ax_row=ax[i]\n",
    "            )\n",
    "#             x_, j_, p_ ,m_, a_, d_, y_ = c\n",
    "            \n",
    "#             c = x_, j_, p_, m_+ 0.29, a_, d_, y_\n",
    "#             vis.visualize_sample(\n",
    "#                 *c,\n",
    "#                 ax_row=ax[2*i+1]\n",
    "#             )\n",
    "            ax[i, 1].set_title(\n",
    "                f\"nll = {m['nll']:.2f}\"\n",
    "            )\n",
    "        plt.show()\n",
    "\n"
   ]
  },
  {
   "cell_type": "markdown",
   "metadata": {},
   "source": [
    "# Skimage metrics"
   ]
  },
  {
   "cell_type": "code",
   "execution_count": null,
   "metadata": {},
   "outputs": [],
   "source": [
    "def plot_exp_images(images_dicts, figsize=(15,15)):\n",
    "    width = len(images_dicts[0][0])\n",
    "    height = len(images_dicts)\n",
    "    fig, ax = plt.subplots(height,width, figsize=figsize)\n",
    "    for i, (imgs, label) in enumerate(images_dicts):\n",
    "        for j, (k, v) in enumerate(imgs.items()):\n",
    "            ax[i][j].imshow(v.squeeze(), cmap=\"gray\", vmin=0, vmax=1)\n",
    "            ax[i][j].set_title(k)\n",
    "\n",
    "plot_exp_images(experiments_images[\"gmm_linear_heads\"][:5], figsize=(10, 5))"
   ]
  },
  {
   "cell_type": "code",
   "execution_count": null,
   "metadata": {},
   "outputs": [],
   "source": [
    "experiments_metrics = {\n",
    "    name: [\n",
    "        {\n",
    "            \"metrics\": ev.images_metrics(img_dict),\n",
    "            \"label\": label\n",
    "        }\n",
    "        for (img_dict, label) in img_dicts\n",
    "    ]\n",
    "    for name, img_dicts in experiments_images.items()\n",
    "}"
   ]
  },
  {
   "cell_type": "code",
   "execution_count": null,
   "metadata": {},
   "outputs": [],
   "source": [
    "per_image_metrics_df = pd.DataFrame([\n",
    "    {\n",
    "        \"imputer_model\": model,\n",
    "        \"label\": label_metric[\"label\"],\n",
    "        **metric\n",
    "    }\n",
    "    for model, label_metrics in experiments_metrics.items()\n",
    "    for label_metric in label_metrics\n",
    "    for metric in label_metric[\"metrics\"] #if metric[\"img_kind\"] #in [\"inpainted_means_0\", \"inpainted_samples_0\"]\n",
    "])\n",
    "per_image_metrics_df"
   ]
  },
  {
   "cell_type": "code",
   "execution_count": null,
   "metadata": {},
   "outputs": [],
   "source": [
    "pimdf = per_image_metrics_df.drop(\"label\", axis=1).groupby(\n",
    "    [\"imputer_model\", \"img_kind\"]\n",
    ").agg(\n",
    "    lambda pts: \"{0:.2f} ± {1:.2f}\".format(np.mean(pts), np.std(pts) )\n",
    "     ).reset_index()#.to_csv(\"celeba_ssim_psnr.csv\")\n",
    "\n",
    "pimdf[pimdf.img_kind==\"inpainted_means_0\"]"
   ]
  },
  {
   "cell_type": "code",
   "execution_count": null,
   "metadata": {},
   "outputs": [],
   "source": [
    "for metric in [\"structural_similarity\", \"peak_signal_noise_ratio\"]:\n",
    "    plt.figure(figsize=(15, 5))\n",
    "    plt.title(metric)\n",
    "    sns.boxplot(\n",
    "        data=per_image_metrics_df,\n",
    "        y=metric,\n",
    "        x=\"img_kind\",\n",
    "        hue=\"imputer_model\"\n",
    "    )\n",
    "    plt.show()"
   ]
  },
  {
   "cell_type": "markdown",
   "metadata": {},
   "source": [
    "# Example inpaintings of the same digit"
   ]
  },
  {
   "cell_type": "code",
   "execution_count": null,
   "metadata": {},
   "outputs": [],
   "source": [
    "experiments_images.keys()\n",
    "\n",
    "exp_to_name = {\n",
    "    \"torch_mfa\": \"MFA\",\n",
    "    \"dmfa_incomp\": \"DMFA\",\n",
    "}\n",
    "\n",
    "experiments_images_rnd = {\n",
    "    k: experiments_images[k] for k in exp_to_name.keys()\n",
    "}\n",
    "\n",
    "experiments_images_rnd.keys()"
   ]
  },
  {
   "cell_type": "code",
   "execution_count": null,
   "metadata": {},
   "outputs": [],
   "source": [
    "n_rows = 8\n",
    "n_cols = (len(experiments_images_rnd.keys())) + 2\n",
    "fig, ax = plt.subplots(\n",
    "    nrows=n_rows, \n",
    "    ncols=n_cols,\n",
    "    figsize=(n_cols*2, n_rows*2)\n",
    ")\n",
    "for i, (exp_name, imgs) in enumerate(experiments_images_rnd.items()):\n",
    "    for c, img_name, brief_name in [\n",
    "        ((i) + 2, \"inpainted_means_0\", \"inpainted\"),        \n",
    "#         ((2*i) + 3, \"means_0\", \"mean\"),\n",
    "    ]:\n",
    "#         if exp_name == \"torch_mfa\": \n",
    "#             if brief_name == \"mean\":\n",
    "#                 continue\n",
    "#         else:\n",
    "#             c -= 1\n",
    "        print(exp_name, brief_name, c)\n",
    "        ax[0, c].set_title(f\"{exp_to_name[exp_name]} - {brief_name}\")\n",
    "        for j in range(n_rows):\n",
    "            ys, xs = (imgs[j][0][\"mask\"][:, :, 0]-1).nonzero()\n",
    "            x0, x1 = xs[0], xs[-1]\n",
    "            y0, y1 = ys[0], ys[-1]\n",
    "            \n",
    "            rect = patches.Rectangle((x0, y0), x1-x0, y1-y0, linewidth=2, edgecolor=\"r\", facecolor=\"none\" )\n",
    "            ax[j,c].imshow(imgs[j][0][img_name].squeeze(), vmin=0, vmax=1, cmap=\"gray\")\n",
    "            ax[j,c].add_patch(rect, )\n",
    "            ax[j,c].axis(\"off\")\n",
    "        \n",
    "        \n",
    "    if i == 0:\n",
    "        for c, img_name, ttl in [\n",
    "            (0, \"original\", \"Original image\"),\n",
    "            (1, \"masked\", \"Image with\\nmissing data\")        \n",
    "        ]:\n",
    "            ax[0, c].set_title(f\"{ttl}\")\n",
    "            for j in range(n_rows):\n",
    "                ax[j,c].imshow(imgs[j][0][img_name].squeeze(), vmin=0, vmax=1, cmap=\"gray\")\n",
    "                ax[j,c].axis(\"off\")\n",
    "                \n",
    "# fig.savefig(\"celeba_mosaic.png\")"
   ]
  },
  {
   "cell_type": "code",
   "execution_count": null,
   "metadata": {},
   "outputs": [],
   "source": [
    "xs, ys = (imgs[j][0][\"mask\"][:, :, 0]-1).nonzero()"
   ]
  },
  {
   "cell_type": "markdown",
   "metadata": {},
   "source": [
    "# More visualizations"
   ]
  },
  {
   "cell_type": "code",
   "execution_count": null,
   "metadata": {},
   "outputs": [],
   "source": [
    "n_rows = 20\n",
    "n_cols = 10\n",
    "fig, ax = plt.subplots(\n",
    "    nrows=n_rows, \n",
    "    ncols=n_cols,\n",
    "    figsize=(n_cols*2, n_rows*2)\n",
    ")\n",
    "\n",
    "for i in range(n_rows):\n",
    "    row_ax = ax[i]\n",
    "    our_sample = experiments_results[\"gmm_linear_heads\"][i]\n",
    "    torch_mfa_sample = experiments_images[\"torch_mfa\"][i][0]\n",
    "#     _, dummy_ax = plt.subplots(vis.row_length(*sample))\n",
    "    \n",
    "    vis.visualize_sample_for_paper(\n",
    "        our_sample,\n",
    "         torch_mfa_sample,\n",
    "        ax_row=row_ax\n",
    "    )\n",
    "\n",
    "fig.savefig(\"celeba_mosaic.png\")"
   ]
  },
  {
   "cell_type": "code",
   "execution_count": null,
   "metadata": {},
   "outputs": [],
   "source": [
    "n = 20\n",
    "for model, metrics_with_cases in ml_metrics.items():\n",
    "    row_len = 15\n",
    "    fig, ax = plt.subplots(nrows=n, ncols=row_len, figsize=(2* row_len, n * 2))\n",
    "    mwc = metrics_with_cases[:20]\n",
    "    for i, (m, c) in enumerate(mwc):\n",
    "        vis.visualize_n_samples(\n",
    "            *c,\n",
    "            ax_row=ax[i]\n",
    "        )\n",
    "    ax[0][0].set_title(model)\n",
    "    plt.show()\n"
   ]
  },
  {
   "cell_type": "markdown",
   "metadata": {},
   "source": [
    "# Frechet distance"
   ]
  },
  {
   "cell_type": "code",
   "execution_count": null,
   "metadata": {},
   "outputs": [],
   "source": [
    "device = torch.device(\"cuda\" if torch.cuda.is_available() else \"cpu\")\n",
    "print(device)\n",
    "\n",
    "ds_train = MNIST(Path.home() / \"uj\" / \"data\", train=True, download=True, transform=ToTensor())\n",
    "ds_val = MNIST(Path.home() / \"uj\" / \"data\", train=False, download=True, transform=ToTensor())\n",
    "\n",
    "dl_train = DataLoader(ds_train, 1024, shuffle=True)\n",
    "dl_val = DataLoader(ds_val, 256, shuffle=False)\n",
    "\n",
    "classifier = MNISTNet()\n",
    "opt = Adam(classifier.parameters(), 4e-3)\n",
    "loss_fn = CrossEntropyLoss()\n",
    "\n",
    "classifier.to(device)\n",
    "for i in range(5):\n",
    "    classifier.train()\n",
    "    for X, y in tqdm(dl_train):\n",
    "        opt.zero_grad()\n",
    "        X, y = [t.to(device) for t in [X, y]]\n",
    "        y_pred, _ = classifier(X)\n",
    "        loss = loss_fn(y_pred, y)\n",
    "        loss.backward()\n",
    "        opt.step()\n",
    "    classifier.eval()\n",
    "    accs = []\n",
    "    for (X,y ) in dl_val:\n",
    "        X, y = [t.to(device) for t in [X, y]]\n",
    "        y_pred, _ = classifier(X)\n",
    "        logits = y_pred.argmax(1)\n",
    "        accs.append(accuracy_score(y.cpu().numpy(), logits.cpu().numpy()))\n",
    "    print(i, np.mean(accs))"
   ]
  },
  {
   "cell_type": "code",
   "execution_count": null,
   "metadata": {},
   "outputs": [],
   "source": [
    "def images_loader(\n",
    "    images,\n",
    "    batch_size = 256\n",
    "):\n",
    "    return DataLoader(\n",
    "        TensorDataset(\n",
    "            torch.Tensor([\n",
    "                img.transpose(2, 0, 1)\n",
    "                for img in images\n",
    "            ])\n",
    "        ),\n",
    "        batch_size=batch_size\n",
    "    )\n",
    "    \n",
    "\n",
    "def frechet_distance(\n",
    "    images_loader_1,\n",
    "    images_loader_2,\n",
    "    model=classifier\n",
    "):\n",
    "    (mu_1, s_1), (mu_2, s_2) = [\n",
    "        fid.calculate_activation_statistics(\n",
    "            il,\n",
    "            len(il.dataset),\n",
    "            model,\n",
    "            feature_dim=128,\n",
    "        )\n",
    "        for il in [images_loader_1, images_loader_2]\n",
    "    ]\n",
    "    return fid.calculate_frechet_distance(\n",
    "        mu_1, s_1, mu_2, s_2\n",
    "    )\n",
    "\n",
    "def grouped_by_kinds(images_dicts):\n",
    "    return {\n",
    "        k: [\n",
    "            i_d[k] for (i_d, _) in images_dicts\n",
    "        ]\n",
    "        for k in images_dicts[0][0].keys()\n",
    "    }\n",
    "    \n"
   ]
  },
  {
   "cell_type": "code",
   "execution_count": null,
   "metadata": {},
   "outputs": [],
   "source": [
    "experiments_images_by_kinds = {\n",
    "    name: grouped_by_kinds(img_dicts)\n",
    "    for name, img_dicts in experiments_images.items()\n",
    "}"
   ]
  },
  {
   "cell_type": "code",
   "execution_count": null,
   "metadata": {},
   "outputs": [],
   "source": [
    "frechet_dists = {\n",
    "    name: {\n",
    "        kind: frechet_distance(\n",
    "            images_loader(kind_to_images[\"original\"]),\n",
    "            images_loader(images)\n",
    "            )\n",
    "        for kind, images in kind_to_images.items()\n",
    "    }\n",
    "    for name, kind_to_images in experiments_images_by_kinds.items()\n",
    "}"
   ]
  },
  {
   "cell_type": "code",
   "execution_count": null,
   "metadata": {},
   "outputs": [],
   "source": [
    "frechet_dists_df = pd.DataFrame([\n",
    "    {\n",
    "        \"imputer_model\": name,\n",
    "        \"kind\": kind,\n",
    "        \"frechet_distance\": fd\n",
    "    }\n",
    "    for name, kind_to_fd in frechet_dists.items()\n",
    "    for kind, fd in kind_to_fd.items()\n",
    "])\n",
    "\n",
    "frechet_dists_df"
   ]
  },
  {
   "cell_type": "code",
   "execution_count": null,
   "metadata": {},
   "outputs": [],
   "source": [
    "plt.figure(figsize=(15, 5))\n",
    "sns.barplot(\n",
    "    data=frechet_dists_df,\n",
    "    y=\"frechet_distance\",\n",
    "    x=\"kind\",\n",
    "    hue=\"imputer_model\",\n",
    ")"
   ]
  },
  {
   "cell_type": "code",
   "execution_count": null,
   "metadata": {},
   "outputs": [],
   "source": [
    "frechet_dists_df.to_csv(\"frechet_dists_tmp.csv\")"
   ]
  },
  {
   "cell_type": "code",
   "execution_count": null,
   "metadata": {},
   "outputs": [],
   "source": []
  }
 ],
 "metadata": {
  "kernelspec": {
   "display_name": "Python 3.7.0 64-bit ('uj': conda)",
   "language": "python",
   "name": "python37064bitujconda26cc5d92af534893ad9de9cd64c222ba"
  },
  "language_info": {
   "codemirror_mode": {
    "name": "ipython",
    "version": 3
   },
   "file_extension": ".py",
   "mimetype": "text/x-python",
   "name": "python",
   "nbconvert_exporter": "python",
   "pygments_lexer": "ipython3",
   "version": "3.8.5"
  }
 },
 "nbformat": 4,
 "nbformat_minor": 4
}
