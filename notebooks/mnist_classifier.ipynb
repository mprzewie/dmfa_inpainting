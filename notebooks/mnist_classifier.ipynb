{
 "cells": [
  {
   "cell_type": "markdown",
   "metadata": {},
   "source": [
    "# TODO\n",
    "\n",
    "* poprawna implementacja ConVar\n",
    "* różne inpaintery:\n",
    "    * nasz\n",
    "    * shallow MFA\n",
    "    * **randomowy**\n",
    "* w przypadku naszego inpaintera\n",
    "    * pretrenowany, zamrożony\n",
    "    * dotrenowywanie\n",
    "        * loss z samej klasyfikacji\n",
    "        * NLL + klasyfikacja\n",
    "        * pretrenowany inpainter\n",
    "        * zamrożony inpainter\n",
    "    * jakie wizualizacje wyjść?\n"
   ]
  },
  {
   "cell_type": "code",
   "execution_count": 1,
   "metadata": {},
   "outputs": [],
   "source": [
    "%load_ext autoreload\n",
    "%autoreload 2"
   ]
  },
  {
   "cell_type": "code",
   "execution_count": 2,
   "metadata": {},
   "outputs": [],
   "source": [
    "import sys\n",
    "sys.path.append(\"..\")"
   ]
  },
  {
   "cell_type": "code",
   "execution_count": 3,
   "metadata": {},
   "outputs": [],
   "source": [
    "import torch\n",
    "from torch import nn\n",
    "from torch import optim\n",
    "from torchvision.datasets import MNIST\n",
    "from pathlib import Path\n",
    "import matplotlib.pyplot as plt\n",
    "import numpy as np\n",
    "from tqdm import tqdm"
   ]
  },
  {
   "cell_type": "code",
   "execution_count": 4,
   "metadata": {},
   "outputs": [],
   "source": [
    "from inpainting.datasets.mask_coding import UNKNOWN_LOSS, UNKNOWN_NO_LOSS, KNOWN\n",
    "from inpainting.datasets.utils import RandomRectangleMaskConfig, random_mask_fn\n",
    "from inpainting.datasets.mnist import train_val_datasets as mnist_tv_datasets\n",
    "from inpainting.visualizations.digits import img_with_mask\n",
    "from inpainting.inpainters.linear_heads import LinearHeadsInpainter\n",
    "from inpainting.visualizations import visualizations_utils as vis_utils\n",
    "from inpainting.custom_layers import ConVar\n",
    "from time import time"
   ]
  },
  {
   "cell_type": "code",
   "execution_count": 5,
   "metadata": {},
   "outputs": [
    {
     "data": {
      "text/plain": [
       "device(type='cuda', index=0)"
      ]
     },
     "execution_count": 5,
     "metadata": {},
     "output_type": "execute_result"
    }
   ],
   "source": [
    "device = torch.device(\"cuda:0\" if torch.cuda.is_available() else \"cpu\") \n",
    "device"
   ]
  },
  {
   "cell_type": "code",
   "execution_count": 6,
   "metadata": {},
   "outputs": [],
   "source": [
    "ds_train, ds_val = mnist_tv_datasets(\n",
    "    save_path=Path(\"/home/mprzewiezlikowski/uj/.data/\"),\n",
    "    mask_configs=(\n",
    "        RandomRectangleMaskConfig(UNKNOWN_LOSS, 14, 14, 0,0),\n",
    "    )\n",
    ")\n"
   ]
  },
  {
   "cell_type": "code",
   "execution_count": 7,
   "metadata": {},
   "outputs": [],
   "source": [
    "dl_train = torch.utils.data.DataLoader(ds_train, batch_size=64, shuffle=True)\n",
    "dl_val = torch.utils.data.DataLoader(ds_val, batch_size=64, shuffle=False)\n"
   ]
  },
  {
   "cell_type": "code",
   "execution_count": 8,
   "metadata": {},
   "outputs": [],
   "source": [
    "def eval_classifier(\n",
    "    inp_clas,\n",
    "    epoch: int,\n",
    "    data_loaders: dict,\n",
    "    device: torch.device,\n",
    "    metric_fns: dict,\n",
    ") -> dict:\n",
    "    classifier.eval()\n",
    "    fold_metrics = dict()\n",
    "    \n",
    "    for fold, dl in data_loaders.items():\n",
    "        metrics = []\n",
    "        \n",
    "        for (X, J), Y in dl:\n",
    "            X, J, Y = [t.to(device) for t in [X, J, Y]]\n",
    "            Y_pred, PMAD_pred = inp_clas(X,J)\n",
    "            metrics.append({\n",
    "                m_name: metric_fn(X, J, Y, Y_pred).item()\n",
    "                for m_name, metric_fn in metric_fns.items()\n",
    "            })\n",
    "    \n",
    "        fold_metrics[fold] = metrics\n",
    "    \n",
    "    return dict(\n",
    "        epoch=epoch,\n",
    "        metrics={\n",
    "            m_name: {\n",
    "                fold: np.mean([m[m_name] for m in f_metrics])\n",
    "                for fold, f_metrics in fold_metrics.items()\n",
    "            }\n",
    "            for m_name in metric_fns.keys()\n",
    "        }\n",
    "    )"
   ]
  },
  {
   "cell_type": "code",
   "execution_count": 9,
   "metadata": {},
   "outputs": [],
   "source": [
    "crossentropy_metric = lambda X, J, Y, Y_pred: nn.functional.cross_entropy(Y_pred, Y)\n",
    "accuracy_metric = lambda X, J, Y, Y_pred: (Y_pred.argmax(dim=1) == Y).float().mean()"
   ]
  },
  {
   "cell_type": "code",
   "execution_count": 10,
   "metadata": {},
   "outputs": [],
   "source": [
    "class InpaintingClassifier(nn.Module):\n",
    "    def __init__(self, inpainter, convar_layer, classifier, keep_inpainting_gradient_in_classification: bool = False):\n",
    "        super().__init__()\n",
    "        self.inpainter = inpainter\n",
    "        self.convar = convar_layer\n",
    "        self.classifier = classifier\n",
    "        self.keep_inpainting_gradient_in_classification = keep_inpainting_gradient_in_classification\n",
    "        \n",
    "        \n",
    "    def forward(self, X, J):\n",
    "        t0 = time()\n",
    "        X_masked = X * (J==KNOWN)\n",
    "        X_J = torch.cat([X_masked, J], dim=1)\n",
    "        t1 = time()\n",
    "        P, M, A, D = self.inpainter(X, J)\n",
    "        t2 = time()\n",
    "\n",
    "        b, c, h, w = X.shape\n",
    "        b, n, chw = M.shape\n",
    "        b, n, l, chw = A.shape\n",
    "        \n",
    "        P_r = P\n",
    "        M_r = M.reshape(b, n, c, h, w)\n",
    "        A_r = A.reshape(b, n, l, c, h, w)\n",
    "        D_r = D.reshape(b, n, c, h, w)\n",
    "        \n",
    "        if not self.keep_inpainting_gradient_in_classification:\n",
    "            P_r, M_r, A_r, D_r = [t.detach() for t in [P_r, M_r, A_r, D_r]]\n",
    "        \n",
    "        t3 = time()\n",
    "        \n",
    "        convar_out = self.convar(X, J, P_r, M_r, A_r, D_r)\n",
    "        t4 = time()\n",
    "        classification_result = self.classifier(convar_out)\n",
    "        inpainting_result = (P, M, A, D)\n",
    "        t5 = time()\n",
    "        \n",
    "        den = t5 - t0\n",
    "        prep = t1 - t0\n",
    "        inp = t2 - t1\n",
    "        resh = t3 - t2\n",
    "        convar = t4 - t3\n",
    "        clas = t5 - t4\n",
    "        times = [prep, inp, resh, convar, clas]\n",
    "\n",
    "        \n",
    "        return classification_result, inpainting_result\n",
    "        \n",
    "    "
   ]
  },
  {
   "cell_type": "code",
   "execution_count": 11,
   "metadata": {},
   "outputs": [
    {
     "data": {
      "text/plain": [
       "<All keys matched successfully>"
      ]
     },
     "execution_count": 11,
     "metadata": {},
     "output_type": "execute_result"
    }
   ],
   "source": [
    "inpainter = LinearHeadsInpainter(\n",
    "    n_mixes=1,\n",
    "    c_h_w=(1,28,28),\n",
    "    last_channels=32,\n",
    "    a_width=4\n",
    ")\n",
    "\n",
    "checkpoint = torch.load(\"../results/inpainting/mnist/mgr_sanity_check_v0/training.state\", map_location=\"cpu\")\n",
    "inpainter.load_state_dict(checkpoint[\"inpainter\"])"
   ]
  },
  {
   "cell_type": "code",
   "execution_count": 12,
   "metadata": {},
   "outputs": [],
   "source": [
    "classifier = nn.Sequential(\n",
    "    nn.Conv2d(32, 32, 3, padding=1),\n",
    "    nn.ReLU(),\n",
    "    nn.MaxPool2d(2),\n",
    "    nn.Conv2d(32, 64, 3, padding=1),\n",
    "    nn.ReLU(),\n",
    "    nn.MaxPool2d(2),\n",
    "    nn.Flatten(),\n",
    "    nn.Linear(7*7*64, 128),\n",
    "    nn.ReLU(),\n",
    "    nn.Linear(128, 10)\n",
    ")"
   ]
  },
  {
   "cell_type": "code",
   "execution_count": 13,
   "metadata": {},
   "outputs": [],
   "source": [
    "convar = ConVar(nn.Conv2d(1, 32, kernel_size=3, padding=1))"
   ]
  },
  {
   "cell_type": "code",
   "execution_count": 18,
   "metadata": {},
   "outputs": [],
   "source": [
    "inp_clas = InpaintingClassifier(inpainter, convar, classifier, keep_inpainting_gradient_in_classification=True)\n",
    "inp_clas =  inp_clas.to(device)\n",
    "\n",
    "# for p in inp_clas.inpainter.parameters():\n",
    "#     p.requires_grad = False"
   ]
  },
  {
   "cell_type": "code",
   "execution_count": 19,
   "metadata": {},
   "outputs": [
    {
     "name": "stderr",
     "output_type": "stream",
     "text": [
      "/home/mprzewiezlikowski/anaconda3/envs/uj/lib/python3.7/site-packages/torch/nn/modules/container.py:100: UserWarning: Implicit dimension choice for softmax has been deprecated. Change the call to include dim=X as an argument.\n",
      "  input = module(input)\n"
     ]
    },
    {
     "name": "stdout",
     "output_type": "stream",
     "text": [
      "[ 0.01320833  0.00062023 -0.0223706   0.01044747 -0.03524776  0.01457138\n",
      " -0.01973327 -0.00924754 -0.00150076  0.00688211]\n"
     ]
    },
    {
     "data": {
      "image/png": "[encoded data removed]",
      "text/plain": [
       "<Figure size 432x288 with 12 Axes>"
      ]
     },
     "metadata": {
      "needs_background": "light"
     },
     "output_type": "display_data"
    }
   ],
   "source": [
    "for (X,J), Y in dl_val:\n",
    "    \n",
    "    P, M, A, D = inpainter(X.to(device), J.to(device))\n",
    "\n",
    "    x, j, p, m, a, d, y = [t.detach().cpu().numpy()[0] for t in [X, J, P, M, A, D, Y]]\n",
    "    vis_utils.visualize_sample(x, j, p, m, a, d, y,)\n",
    "    print(m[0, :10])\n",
    "\n",
    "    plt.show()\n",
    "    break\n"
   ]
  },
  {
   "cell_type": "code",
   "execution_count": 20,
   "metadata": {},
   "outputs": [
    {
     "name": "stdout",
     "output_type": "stream",
     "text": [
      "Epoch 0\n",
      "{'epoch': 0, 'metrics': {'cross_entropy': {'train': 0.5368554631212373, 'val': 0.4651864295362667}, 'accuracy': {'train': 0.8150153251599147, 'val': 0.8326035031847133}}}\n"
     ]
    }
   ],
   "source": [
    "opt = torch.optim.Adam(inp_clas.parameters())\n",
    "\n",
    "\n",
    "loss_fn = nn.CrossEntropyLoss()#.to(device)\n",
    "\n",
    "history = []\n",
    "\n",
    "\n",
    "for e in range(1):\n",
    "    \n",
    "    print(f\"Epoch {e}\")\n",
    "\n",
    "    inp_clas.train()\n",
    "\n",
    "    for (X, J), Y in dl_val:\n",
    "        X, J, Y = [t.to(device) for t in [X, J, Y]]\n",
    "        Y_pred, PMAD_pred = inp_clas(X, J)\n",
    "        loss = loss_fn(Y_pred, Y)\n",
    "        loss.backward()\n",
    "        opt.step()\n",
    "        opt.zero_grad()\n",
    "\n",
    "    eval_results = eval_classifier(\n",
    "        inp_clas,\n",
    "        epoch=e,\n",
    "        data_loaders={\n",
    "            \"train\": dl_train,\n",
    "            \"val\": dl_val\n",
    "        },\n",
    "        device=device,\n",
    "        metric_fns=dict(\n",
    "            cross_entropy=crossentropy_metric,\n",
    "            accuracy=accuracy_metric\n",
    "        )\n",
    "    )\n",
    "    history.append(eval_results)\n",
    "    print(eval_results)\n",
    "\n",
    "        "
   ]
  },
  {
   "cell_type": "code",
   "execution_count": 21,
   "metadata": {},
   "outputs": [
    {
     "name": "stdout",
     "output_type": "stream",
     "text": [
      "[ 0.16044188  0.49423796  0.50147074  0.40218326 -0.04351589 -0.1029804\n",
      " -0.05938498 -0.1096974  -0.08327479 -0.11825115]\n"
     ]
    },
    {
     "data": {
      "image/png": "[encoded data removed]",
      "text/plain": [
       "<Figure size 432x288 with 12 Axes>"
      ]
     },
     "metadata": {
      "needs_background": "light"
     },
     "output_type": "display_data"
    }
   ],
   "source": [
    "for (X,J), Y in dl_val:\n",
    "    \n",
    "    P, M, A, D = inpainter(X.to(device), J.to(device))\n",
    "\n",
    "    x, j, p, m, a, d, y = [t.detach().cpu().numpy()[0] for t in [X, J, P, M, A, D, Y]]\n",
    "    \n",
    "    print(m[0, :10])\n",
    "    vis_utils.visualize_sample(x, j, p, m, a, d, y,)\n",
    "    \n",
    "    plt.show()\n",
    "    break\n"
   ]
  },
  {
   "cell_type": "code",
   "execution_count": 21,
   "metadata": {},
   "outputs": [
    {
     "data": {
      "text/plain": [
       "<matplotlib.axes._subplots.AxesSubplot at 0x7f7e5cab4048>"
      ]
     },
     "execution_count": 21,
     "metadata": {},
     "output_type": "execute_result"
    },
    {
     "data": {
      "image/png": "[encoded data removed]",
      "text/plain": [
       "<Figure size 432x288 with 1 Axes>"
      ]
     },
     "metadata": {
      "needs_background": "light"
     },
     "output_type": "display_data"
    }
   ],
   "source": [
    "for (x,j), y in ds_train:\n",
    "    \n",
    "    break\n",
    "\n",
    "img_with_mask(x, j)"
   ]
  },
  {
   "cell_type": "code",
   "execution_count": 20,
   "metadata": {},
   "outputs": [
    {
     "data": {
      "text/plain": [
       "<matplotlib.image.AxesImage at 0x7f76823df0b8>"
      ]
     },
     "execution_count": 20,
     "metadata": {},
     "output_type": "execute_result"
    },
    {
     "data": {
      "image/png": "[encoded data removed]",
      "text/plain": [
       "<Figure size 432x288 with 1 Axes>"
      ]
     },
     "metadata": {
      "needs_background": "light"
     },
     "output_type": "display_data"
    }
   ],
   "source": []
  },
  {
   "cell_type": "code",
   "execution_count": null,
   "metadata": {},
   "outputs": [],
   "source": []
  }
 ],
 "metadata": {
  "kernelspec": {
   "display_name": "Python 3.7.0 64-bit ('uj': conda)",
   "language": "python",
   "name": "python37064bitujconda26cc5d92af534893ad9de9cd64c222ba"
  },
  "language_info": {
   "codemirror_mode": {
    "name": "ipython",
    "version": 3
   },
   "file_extension": ".py",
   "mimetype": "text/x-python",
   "name": "python",
   "nbconvert_exporter": "python",
   "pygments_lexer": "ipython3",
   "version": "3.7.0"
  }
 },
 "nbformat": 4,
 "nbformat_minor": 4
}
