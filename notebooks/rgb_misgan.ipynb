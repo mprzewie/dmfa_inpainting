{
 "cells": [
  {
   "cell_type": "code",
   "execution_count": null,
   "metadata": {},
   "outputs": [],
   "source": [
    "%load_ext autoreload\n",
    "%autoreload 2"
   ]
  },
  {
   "cell_type": "code",
   "execution_count": null,
   "metadata": {},
   "outputs": [],
   "source": [
    "import sys\n",
    "sys.path.append(\"..\")"
   ]
  },
  {
   "cell_type": "code",
   "execution_count": null,
   "metadata": {},
   "outputs": [],
   "source": [
    "import torch\n",
    "from inpainting.inpainters.rgb_misgan import RGBMisganInpainterInterface\n",
    "from inpainting.datasets.celeba import train_val_datasets, DEFAULT_MASK_CONFIGS\n",
    "from pathlib import Path\n",
    "from inpainting.datasets.utils import RandomRectangleMaskConfig\n",
    "from inpainting.datasets import mask_coding as mc\n",
    "from torchvision.datasets import MNIST, FashionMNIST\n",
    "from torch.utils.data import DataLoader, TensorDataset\n",
    "import pickle\n",
    "from tqdm import tqdm\n",
    "import numpy as np\n",
    "from inpainting.visualizations import samples as vis\n",
    "from inpainting.visualizations.digits import  rgb_with_mask\n",
    "import matplotlib.pyplot as plt\n",
    "from inpainting.utils import predictions_for_entire_loader\n",
    "from inpainting.datasets.mask_coding import KNOWN, UNKNOWN_LOSS"
   ]
  },
  {
   "cell_type": "code",
   "execution_count": null,
   "metadata": {},
   "outputs": [],
   "source": [
    "device = torch.device(\"cuda\" if torch.cuda.is_available() else \"cpu\")\n",
    "device"
   ]
  },
  {
   "cell_type": "code",
   "execution_count": null,
   "metadata": {},
   "outputs": [],
   "source": [
    "experiment_path = Path(\"../results/celeba/misgan_64x64\")"
   ]
  },
  {
   "cell_type": "code",
   "execution_count": null,
   "metadata": {},
   "outputs": [],
   "source": [
    "inpainter = RGBMisganInpainterInterface()\n",
    "chckp = torch.load(\n",
    "    \"/home/mprzewiezlikowski/uj/misgan/results/celeba/\"\n",
    "    \"impute_0313.095138_tau_0.5_maskgen_fusion_coef_0.1_0.1_0_block_32/log/checkpoint.pth\")\n",
    "# inpainter.imputer.load_state_dict(chckp)\n",
    "chckp.keys()"
   ]
  },
  {
   "cell_type": "code",
   "execution_count": null,
   "metadata": {},
   "outputs": [],
   "source": [
    "inpainter.imputer.load_state_dict(chckp[\"imputer\"])"
   ]
  },
  {
   "cell_type": "code",
   "execution_count": null,
   "metadata": {},
   "outputs": [],
   "source": [
    "ds_train, ds_val = train_val_datasets(\n",
    "    Path.home() / \"uj/.data/\", \n",
    "    mask_configs=[RandomRectangleMaskConfig(UNKNOWN_LOSS, 32, 32)],\n",
    "    resize_size=(100, 100),\n",
    "    crop_size=(64,64)\n",
    ")\n",
    "\n",
    "fig, axes = plt.subplots(10, 10, figsize=(15, 15))\n",
    "for i in range(100):\n",
    "    (x,j), y = ds_train[i]\n",
    "#     print(x.shape)\n",
    "    ax = axes[i // 10, i%10]\n",
    "#     ax.set_title(f\"{y}\")\n",
    "    rgb_with_mask(x.numpy(), j.numpy(), ax)\n",
    "train_fig = plt.gcf()\n",
    "train_fig.savefig(experiment_path / \"train.png\")\n",
    "plt.show()\n",
    "\n",
    "len(ds_train), len(ds_val)"
   ]
  },
  {
   "cell_type": "code",
   "execution_count": null,
   "metadata": {},
   "outputs": [],
   "source": [
    "batch_size=256\n",
    "dl_train = DataLoader(ds_train, batch_size, shuffle=True)\n",
    "dl_val = DataLoader(ds_val, batch_size, shuffle=True)"
   ]
  },
  {
   "cell_type": "code",
   "execution_count": null,
   "metadata": {},
   "outputs": [],
   "source": [
    "for (x,j),y in dl_val:\n",
    "    break\n",
    "\n",
    "x.shape"
   ]
  },
  {
   "cell_type": "code",
   "execution_count": null,
   "metadata": {},
   "outputs": [],
   "source": [
    "results = predictions_for_entire_loader(\n",
    "    inpainter,\n",
    "    dl_val,\n",
    "    device\n",
    ")\n",
    "\n",
    "len(results)"
   ]
  },
  {
   "cell_type": "code",
   "execution_count": null,
   "metadata": {},
   "outputs": [],
   "source": [
    "results_path = experiment_path\n",
    "results_path.mkdir(parents=True, exist_ok=True)\n",
    "\n",
    "with (results_path / \"val_predictions.pkl\").open(\"wb\") as f:\n",
    "    pickle.dump(results, f)"
   ]
  },
  {
   "cell_type": "code",
   "execution_count": null,
   "metadata": {},
   "outputs": [],
   "source": [
    "[\n",
    "    t.shape for t in results[0]\n",
    "]"
   ]
  },
  {
   "cell_type": "code",
   "execution_count": null,
   "metadata": {},
   "outputs": [],
   "source": [
    "fig, ax = plt.subplots(10, 11, figsize=(15,15)\n",
    ")\n",
    "\n",
    "for i in range(10):\n",
    "    vis.visualize_sample(\n",
    "        *results[i],\n",
    "        drawing_fn=rgb_with_mask,\n",
    "        title_prefixes=dict(),\n",
    "        ax_row=ax[i]\n",
    "    )"
   ]
  },
  {
   "cell_type": "code",
   "execution_count": null,
   "metadata": {},
   "outputs": [],
   "source": []
  }
 ],
 "metadata": {
  "kernelspec": {
   "display_name": "Python 3",
   "language": "python",
   "name": "python3"
  },
  "language_info": {
   "codemirror_mode": {
    "name": "ipython",
    "version": 3
   },
   "file_extension": ".py",
   "mimetype": "text/x-python",
   "name": "python",
   "nbconvert_exporter": "python",
   "pygments_lexer": "ipython3",
   "version": "3.7.0"
  }
 },
 "nbformat": 4,
 "nbformat_minor": 4
}
